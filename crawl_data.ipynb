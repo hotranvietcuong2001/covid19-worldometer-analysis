{
 "cells": [
  {
   "cell_type": "code",
   "execution_count": 20,
   "metadata": {},
   "outputs": [],
   "source": [
    "import requests\n",
    "from bs4 import BeautifulSoup\n",
    "import pandas as pd\n",
    "from datetime import datetime, timedelta\n",
    "import csv\n",
    "import os.path"
   ]
  },
  {
   "cell_type": "code",
   "execution_count": 2,
   "metadata": {},
   "outputs": [],
   "source": [
    "url = 'https://www.worldometers.info/coronavirus/'"
   ]
  },
  {
   "cell_type": "code",
   "execution_count": 3,
   "metadata": {},
   "outputs": [],
   "source": [
    "data = requests.get(url)\n",
    "soup = BeautifulSoup(data.content)"
   ]
  },
  {
   "cell_type": "code",
   "execution_count": 4,
   "metadata": {},
   "outputs": [],
   "source": [
    "def string_to_int_with_comma(cell):\n",
    "    return cell.replace(',', '')"
   ]
  },
  {
   "cell_type": "code",
   "execution_count": 5,
   "metadata": {},
   "outputs": [],
   "source": [
    "def crawl_covid_today(file_name):\n",
    "    header = ['Date', 'Country', 'Total Cases', 'New Cases', 'Total Deaths', 'New Deaths', \n",
    "                'Total Recovered', 'New Recovered', 'Active Cases', 'Serious Critical',\n",
    "                'Tot Cases/1M pop', 'Deaths/1M pop', 'Total Tests', 'Tests/1M pop', 'Population']\n",
    "\n",
    "    data = []\n",
    "\n",
    "    table = soup.html.find('table', attrs={'id':'main_table_countries_yesterday'})\n",
    "    rows_table = table.find('tbody').find_all('tr')\n",
    "\n",
    "    for row in rows_table:\n",
    "        cells = row.find_all('td')\n",
    "        cells = [ele.text.strip() for ele in cells]\n",
    "        if cells[0] != '':\n",
    "            country_info = cells[1:15]\n",
    "            country_info[1:] = list(map(string_to_int_with_comma, country_info[1:]))\n",
    "            date = datetime.date(datetime.now())\n",
    "            country_info.insert(0, date)\n",
    "            data.append(country_info)\n",
    "\n",
    "    is_exist = True\n",
    "\n",
    "    if not os.path.isfile(file_name):\n",
    "        is_exist = False\n",
    "    \n",
    "    with open(file_name, 'a', newline='') as fo:\n",
    "        write = csv.writer(fo)\n",
    "\n",
    "        if not is_exist:\n",
    "            write.writerow(header)\n",
    "        write.writerows(data)"
   ]
  }
 ],
 "metadata": {
  "interpreter": {
   "hash": "4523760acd2e98ea694316eb0cd84f0969f99d1a04363ebd38b8ee985ea4f03e"
  },
  "kernelspec": {
   "display_name": "Python 3.8.8 ('min_ds-env')",
   "language": "python",
   "name": "python3"
  },
  "language_info": {
   "codemirror_mode": {
    "name": "ipython",
    "version": 3
   },
   "file_extension": ".py",
   "mimetype": "text/x-python",
   "name": "python",
   "nbconvert_exporter": "python",
   "pygments_lexer": "ipython3",
   "version": "3.8.8"
  },
  "orig_nbformat": 4
 },
 "nbformat": 4,
 "nbformat_minor": 2
}
