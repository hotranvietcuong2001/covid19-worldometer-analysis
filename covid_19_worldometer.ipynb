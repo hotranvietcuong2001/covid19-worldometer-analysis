{
 "cells": [
  {
   "cell_type": "markdown",
   "metadata": {},
   "source": [
    "## Import các thư viện cần thiết"
   ]
  },
  {
   "cell_type": "code",
   "execution_count": 18,
   "metadata": {},
   "outputs": [],
   "source": [
    "import pandas as pd\n",
    "import numpy as np\n",
    "import matplotlib.pyplot as plt\n",
    "import seaborn as sns\n",
    "import geopandas as gpd"
   ]
  },
  {
   "cell_type": "markdown",
   "metadata": {},
   "source": [
    "---"
   ]
  },
  {
   "cell_type": "markdown",
   "metadata": {},
   "source": [
    "## Thu thập dữ liệu"
   ]
  },
  {
   "cell_type": "markdown",
   "metadata": {},
   "source": [
    "Trong bài này, ta sử dụng thư viện `Beautiful Soup` để cào dữ liệu từ trang [Worldometer](https://www.worldometers.info/coronavirus/) vào mỗi **10:00** hằng ngày.\n",
    "\n",
    "Bên cạnh đó, dữ liệu của `Area` (Diện tích) và `Continent` (Châu lục) được nhóm chúng tôi lấy ở trang [Wikipedia](https://www.wikipedia.org/)\n",
    "\n",
    "Chú ý rằng, ta được phép sử dụng bộ dữ liệu này cho mục đích học tập."
   ]
  },
  {
   "cell_type": "markdown",
   "metadata": {},
   "source": [
    "---"
   ]
  },
  {
   "cell_type": "markdown",
   "metadata": {},
   "source": [
    "## Khám phá dữ liệu"
   ]
  },
  {
   "cell_type": "markdown",
   "metadata": {},
   "source": [
    "### Đọc dữ liệu từ file csv vào dataframe"
   ]
  },
  {
   "cell_type": "code",
   "execution_count": 19,
   "metadata": {},
   "outputs": [
    {
     "data": {
      "text/html": [
       "<div>\n",
       "<style scoped>\n",
       "    .dataframe tbody tr th:only-of-type {\n",
       "        vertical-align: middle;\n",
       "    }\n",
       "\n",
       "    .dataframe tbody tr th {\n",
       "        vertical-align: top;\n",
       "    }\n",
       "\n",
       "    .dataframe thead th {\n",
       "        text-align: right;\n",
       "    }\n",
       "</style>\n",
       "<table border=\"1\" class=\"dataframe\">\n",
       "  <thead>\n",
       "    <tr style=\"text-align: right;\">\n",
       "      <th></th>\n",
       "      <th>Date</th>\n",
       "      <th>Country</th>\n",
       "      <th>Total Cases</th>\n",
       "      <th>New Cases</th>\n",
       "      <th>Total Deaths</th>\n",
       "      <th>New Deaths</th>\n",
       "      <th>Total Recovered</th>\n",
       "      <th>New Recovered</th>\n",
       "      <th>Active Cases</th>\n",
       "      <th>Serious Critical</th>\n",
       "      <th>Tot Cases/1M pop</th>\n",
       "      <th>Deaths/1M pop</th>\n",
       "      <th>Total Tests</th>\n",
       "      <th>Tests/1M pop</th>\n",
       "      <th>Population</th>\n",
       "    </tr>\n",
       "  </thead>\n",
       "  <tbody>\n",
       "    <tr>\n",
       "      <th>0</th>\n",
       "      <td>2022-04-21</td>\n",
       "      <td>China</td>\n",
       "      <td>193953</td>\n",
       "      <td>2841.0</td>\n",
       "      <td>4663.0</td>\n",
       "      <td>8.0</td>\n",
       "      <td>157869.0</td>\n",
       "      <td>2185.0</td>\n",
       "      <td>31421.0</td>\n",
       "      <td>223.0</td>\n",
       "      <td>135.0</td>\n",
       "      <td>3.0</td>\n",
       "      <td>160000000.0</td>\n",
       "      <td>111163.0</td>\n",
       "      <td>1.439324e+09</td>\n",
       "    </tr>\n",
       "    <tr>\n",
       "      <th>1</th>\n",
       "      <td>2022-04-21</td>\n",
       "      <td>USA</td>\n",
       "      <td>82553058</td>\n",
       "      <td>45204.0</td>\n",
       "      <td>1017609.0</td>\n",
       "      <td>299.0</td>\n",
       "      <td>80355389.0</td>\n",
       "      <td>34592.0</td>\n",
       "      <td>1180060.0</td>\n",
       "      <td>1492.0</td>\n",
       "      <td>246798.0</td>\n",
       "      <td>3042.0</td>\n",
       "      <td>999047824.0</td>\n",
       "      <td>2986727.0</td>\n",
       "      <td>3.344959e+08</td>\n",
       "    </tr>\n",
       "    <tr>\n",
       "      <th>2</th>\n",
       "      <td>2022-04-21</td>\n",
       "      <td>India</td>\n",
       "      <td>43050877</td>\n",
       "      <td>903.0</td>\n",
       "      <td>522095.0</td>\n",
       "      <td>33.0</td>\n",
       "      <td>42514479.0</td>\n",
       "      <td>NaN</td>\n",
       "      <td>14303.0</td>\n",
       "      <td>698.0</td>\n",
       "      <td>30654.0</td>\n",
       "      <td>372.0</td>\n",
       "      <td>833377052.0</td>\n",
       "      <td>593395.0</td>\n",
       "      <td>1.404421e+09</td>\n",
       "    </tr>\n",
       "    <tr>\n",
       "      <th>3</th>\n",
       "      <td>2022-04-21</td>\n",
       "      <td>Brazil</td>\n",
       "      <td>30330629</td>\n",
       "      <td>18660.0</td>\n",
       "      <td>662556.0</td>\n",
       "      <td>86.0</td>\n",
       "      <td>29353398.0</td>\n",
       "      <td>12596.0</td>\n",
       "      <td>314675.0</td>\n",
       "      <td>8318.0</td>\n",
       "      <td>140890.0</td>\n",
       "      <td>3078.0</td>\n",
       "      <td>63776166.0</td>\n",
       "      <td>296249.0</td>\n",
       "      <td>2.152787e+08</td>\n",
       "    </tr>\n",
       "    <tr>\n",
       "      <th>4</th>\n",
       "      <td>2022-04-21</td>\n",
       "      <td>France</td>\n",
       "      <td>28076017</td>\n",
       "      <td>104007.0</td>\n",
       "      <td>144799.0</td>\n",
       "      <td>185.0</td>\n",
       "      <td>25618858.0</td>\n",
       "      <td>148402.0</td>\n",
       "      <td>2312360.0</td>\n",
       "      <td>1677.0</td>\n",
       "      <td>428423.0</td>\n",
       "      <td>2210.0</td>\n",
       "      <td>266484045.0</td>\n",
       "      <td>4066382.0</td>\n",
       "      <td>6.553345e+07</td>\n",
       "    </tr>\n",
       "  </tbody>\n",
       "</table>\n",
       "</div>"
      ],
      "text/plain": [
       "         Date Country  Total Cases  New Cases  Total Deaths  New Deaths  \\\n",
       "0  2022-04-21   China       193953     2841.0        4663.0         8.0   \n",
       "1  2022-04-21     USA     82553058    45204.0     1017609.0       299.0   \n",
       "2  2022-04-21   India     43050877      903.0      522095.0        33.0   \n",
       "3  2022-04-21  Brazil     30330629    18660.0      662556.0        86.0   \n",
       "4  2022-04-21  France     28076017   104007.0      144799.0       185.0   \n",
       "\n",
       "   Total Recovered  New Recovered  Active Cases  Serious Critical  \\\n",
       "0         157869.0         2185.0       31421.0             223.0   \n",
       "1       80355389.0        34592.0     1180060.0            1492.0   \n",
       "2       42514479.0            NaN       14303.0             698.0   \n",
       "3       29353398.0        12596.0      314675.0            8318.0   \n",
       "4       25618858.0       148402.0     2312360.0            1677.0   \n",
       "\n",
       "   Tot Cases/1M pop  Deaths/1M pop  Total Tests  Tests/1M pop    Population  \n",
       "0             135.0            3.0  160000000.0      111163.0  1.439324e+09  \n",
       "1          246798.0         3042.0  999047824.0     2986727.0  3.344959e+08  \n",
       "2           30654.0          372.0  833377052.0      593395.0  1.404421e+09  \n",
       "3          140890.0         3078.0   63776166.0      296249.0  2.152787e+08  \n",
       "4          428423.0         2210.0  266484045.0     4066382.0  6.553345e+07  "
      ]
     },
     "execution_count": 19,
     "metadata": {},
     "output_type": "execute_result"
    }
   ],
   "source": [
    "data = pd.read_csv('data/covid_data.csv')\n",
    "data.head()"
   ]
  },
  {
   "cell_type": "code",
   "execution_count": 20,
   "metadata": {},
   "outputs": [
    {
     "data": {
      "text/html": [
       "<div>\n",
       "<style scoped>\n",
       "    .dataframe tbody tr th:only-of-type {\n",
       "        vertical-align: middle;\n",
       "    }\n",
       "\n",
       "    .dataframe tbody tr th {\n",
       "        vertical-align: top;\n",
       "    }\n",
       "\n",
       "    .dataframe thead th {\n",
       "        text-align: right;\n",
       "    }\n",
       "</style>\n",
       "<table border=\"1\" class=\"dataframe\">\n",
       "  <thead>\n",
       "    <tr style=\"text-align: right;\">\n",
       "      <th></th>\n",
       "      <th>Country</th>\n",
       "      <th>Continent</th>\n",
       "      <th>Area</th>\n",
       "    </tr>\n",
       "  </thead>\n",
       "  <tbody>\n",
       "    <tr>\n",
       "      <th>0</th>\n",
       "      <td>China</td>\n",
       "      <td>Asia</td>\n",
       "      <td>9640011.0</td>\n",
       "    </tr>\n",
       "    <tr>\n",
       "      <th>1</th>\n",
       "      <td>USA</td>\n",
       "      <td>America</td>\n",
       "      <td>9629091.0</td>\n",
       "    </tr>\n",
       "    <tr>\n",
       "      <th>2</th>\n",
       "      <td>India</td>\n",
       "      <td>Asia</td>\n",
       "      <td>3287590.0</td>\n",
       "    </tr>\n",
       "    <tr>\n",
       "      <th>3</th>\n",
       "      <td>Brazil</td>\n",
       "      <td>America</td>\n",
       "      <td>8515767.0</td>\n",
       "    </tr>\n",
       "    <tr>\n",
       "      <th>4</th>\n",
       "      <td>France</td>\n",
       "      <td>Europe</td>\n",
       "      <td>640679.0</td>\n",
       "    </tr>\n",
       "  </tbody>\n",
       "</table>\n",
       "</div>"
      ],
      "text/plain": [
       "  Country Continent       Area\n",
       "0   China      Asia  9640011.0\n",
       "1     USA   America  9629091.0\n",
       "2   India      Asia  3287590.0\n",
       "3  Brazil   America  8515767.0\n",
       "4  France    Europe   640679.0"
      ]
     },
     "execution_count": 20,
     "metadata": {},
     "output_type": "execute_result"
    }
   ],
   "source": [
    "continent_data = pd.read_csv('data/countries_by_continents.csv')\n",
    "continent_data.head()"
   ]
  },
  {
   "cell_type": "markdown",
   "metadata": {},
   "source": [
    "Ta merge hai bộ dữ liệu lại, ứng với `Country`"
   ]
  },
  {
   "cell_type": "code",
   "execution_count": 21,
   "metadata": {},
   "outputs": [
    {
     "data": {
      "text/html": [
       "<div>\n",
       "<style scoped>\n",
       "    .dataframe tbody tr th:only-of-type {\n",
       "        vertical-align: middle;\n",
       "    }\n",
       "\n",
       "    .dataframe tbody tr th {\n",
       "        vertical-align: top;\n",
       "    }\n",
       "\n",
       "    .dataframe thead th {\n",
       "        text-align: right;\n",
       "    }\n",
       "</style>\n",
       "<table border=\"1\" class=\"dataframe\">\n",
       "  <thead>\n",
       "    <tr style=\"text-align: right;\">\n",
       "      <th></th>\n",
       "      <th>Country</th>\n",
       "      <th>Continent</th>\n",
       "      <th>Area</th>\n",
       "      <th>Date</th>\n",
       "      <th>Total Cases</th>\n",
       "      <th>New Cases</th>\n",
       "      <th>Total Deaths</th>\n",
       "      <th>New Deaths</th>\n",
       "      <th>Total Recovered</th>\n",
       "      <th>New Recovered</th>\n",
       "      <th>Active Cases</th>\n",
       "      <th>Serious Critical</th>\n",
       "      <th>Tot Cases/1M pop</th>\n",
       "      <th>Deaths/1M pop</th>\n",
       "      <th>Total Tests</th>\n",
       "      <th>Tests/1M pop</th>\n",
       "      <th>Population</th>\n",
       "    </tr>\n",
       "  </thead>\n",
       "  <tbody>\n",
       "    <tr>\n",
       "      <th>0</th>\n",
       "      <td>China</td>\n",
       "      <td>Asia</td>\n",
       "      <td>9640011.0</td>\n",
       "      <td>2022-04-21</td>\n",
       "      <td>193953</td>\n",
       "      <td>2841.0</td>\n",
       "      <td>4663.0</td>\n",
       "      <td>8.0</td>\n",
       "      <td>157869.0</td>\n",
       "      <td>2185.0</td>\n",
       "      <td>31421.0</td>\n",
       "      <td>223.0</td>\n",
       "      <td>135.0</td>\n",
       "      <td>3.0</td>\n",
       "      <td>160000000.0</td>\n",
       "      <td>111163.0</td>\n",
       "      <td>1.439324e+09</td>\n",
       "    </tr>\n",
       "    <tr>\n",
       "      <th>1</th>\n",
       "      <td>USA</td>\n",
       "      <td>America</td>\n",
       "      <td>9629091.0</td>\n",
       "      <td>2022-04-21</td>\n",
       "      <td>82553058</td>\n",
       "      <td>45204.0</td>\n",
       "      <td>1017609.0</td>\n",
       "      <td>299.0</td>\n",
       "      <td>80355389.0</td>\n",
       "      <td>34592.0</td>\n",
       "      <td>1180060.0</td>\n",
       "      <td>1492.0</td>\n",
       "      <td>246798.0</td>\n",
       "      <td>3042.0</td>\n",
       "      <td>999047824.0</td>\n",
       "      <td>2986727.0</td>\n",
       "      <td>3.344959e+08</td>\n",
       "    </tr>\n",
       "    <tr>\n",
       "      <th>2</th>\n",
       "      <td>India</td>\n",
       "      <td>Asia</td>\n",
       "      <td>3287590.0</td>\n",
       "      <td>2022-04-21</td>\n",
       "      <td>43050877</td>\n",
       "      <td>903.0</td>\n",
       "      <td>522095.0</td>\n",
       "      <td>33.0</td>\n",
       "      <td>42514479.0</td>\n",
       "      <td>NaN</td>\n",
       "      <td>14303.0</td>\n",
       "      <td>698.0</td>\n",
       "      <td>30654.0</td>\n",
       "      <td>372.0</td>\n",
       "      <td>833377052.0</td>\n",
       "      <td>593395.0</td>\n",
       "      <td>1.404421e+09</td>\n",
       "    </tr>\n",
       "    <tr>\n",
       "      <th>3</th>\n",
       "      <td>Brazil</td>\n",
       "      <td>America</td>\n",
       "      <td>8515767.0</td>\n",
       "      <td>2022-04-21</td>\n",
       "      <td>30330629</td>\n",
       "      <td>18660.0</td>\n",
       "      <td>662556.0</td>\n",
       "      <td>86.0</td>\n",
       "      <td>29353398.0</td>\n",
       "      <td>12596.0</td>\n",
       "      <td>314675.0</td>\n",
       "      <td>8318.0</td>\n",
       "      <td>140890.0</td>\n",
       "      <td>3078.0</td>\n",
       "      <td>63776166.0</td>\n",
       "      <td>296249.0</td>\n",
       "      <td>2.152787e+08</td>\n",
       "    </tr>\n",
       "    <tr>\n",
       "      <th>4</th>\n",
       "      <td>France</td>\n",
       "      <td>Europe</td>\n",
       "      <td>640679.0</td>\n",
       "      <td>2022-04-21</td>\n",
       "      <td>28076017</td>\n",
       "      <td>104007.0</td>\n",
       "      <td>144799.0</td>\n",
       "      <td>185.0</td>\n",
       "      <td>25618858.0</td>\n",
       "      <td>148402.0</td>\n",
       "      <td>2312360.0</td>\n",
       "      <td>1677.0</td>\n",
       "      <td>428423.0</td>\n",
       "      <td>2210.0</td>\n",
       "      <td>266484045.0</td>\n",
       "      <td>4066382.0</td>\n",
       "      <td>6.553345e+07</td>\n",
       "    </tr>\n",
       "  </tbody>\n",
       "</table>\n",
       "</div>"
      ],
      "text/plain": [
       "  Country Continent       Area        Date  Total Cases  New Cases  \\\n",
       "0   China      Asia  9640011.0  2022-04-21       193953     2841.0   \n",
       "1     USA   America  9629091.0  2022-04-21     82553058    45204.0   \n",
       "2   India      Asia  3287590.0  2022-04-21     43050877      903.0   \n",
       "3  Brazil   America  8515767.0  2022-04-21     30330629    18660.0   \n",
       "4  France    Europe   640679.0  2022-04-21     28076017   104007.0   \n",
       "\n",
       "   Total Deaths  New Deaths  Total Recovered  New Recovered  Active Cases  \\\n",
       "0        4663.0         8.0         157869.0         2185.0       31421.0   \n",
       "1     1017609.0       299.0       80355389.0        34592.0     1180060.0   \n",
       "2      522095.0        33.0       42514479.0            NaN       14303.0   \n",
       "3      662556.0        86.0       29353398.0        12596.0      314675.0   \n",
       "4      144799.0       185.0       25618858.0       148402.0     2312360.0   \n",
       "\n",
       "   Serious Critical  Tot Cases/1M pop  Deaths/1M pop  Total Tests  \\\n",
       "0             223.0             135.0            3.0  160000000.0   \n",
       "1            1492.0          246798.0         3042.0  999047824.0   \n",
       "2             698.0           30654.0          372.0  833377052.0   \n",
       "3            8318.0          140890.0         3078.0   63776166.0   \n",
       "4            1677.0          428423.0         2210.0  266484045.0   \n",
       "\n",
       "   Tests/1M pop    Population  \n",
       "0      111163.0  1.439324e+09  \n",
       "1     2986727.0  3.344959e+08  \n",
       "2      593395.0  1.404421e+09  \n",
       "3      296249.0  2.152787e+08  \n",
       "4     4066382.0  6.553345e+07  "
      ]
     },
     "execution_count": 21,
     "metadata": {},
     "output_type": "execute_result"
    }
   ],
   "source": [
    "new_data = continent_data.merge(right=data, left_on='Country', right_on='Country', how='right')\n",
    "new_data.head()"
   ]
  },
  {
   "cell_type": "markdown",
   "metadata": {},
   "source": [
    "### Dữ liệu gồm bao nhiều dòng, bao nhiêu cột?"
   ]
  },
  {
   "cell_type": "code",
   "execution_count": 22,
   "metadata": {},
   "outputs": [
    {
     "name": "stdout",
     "output_type": "stream",
     "text": [
      "Số dòng:  2508\n",
      "Số cột:  17\n"
     ]
    }
   ],
   "source": [
    "num_rows = new_data.shape[0]\n",
    "num_cols = new_data.shape[1]\n",
    "print('Số dòng: ', num_rows)\n",
    "print('Số cột: ', num_cols)"
   ]
  },
  {
   "cell_type": "markdown",
   "metadata": {},
   "source": [
    "### Mỗi dòng có ý nghĩa gì? Có vấn đề các dòng có ý nghĩa khác nhau không?"
   ]
  },
  {
   "cell_type": "markdown",
   "metadata": {},
   "source": [
    "Mỗi dòng tương ứng với thông tin số ca nhiễm của một nước trong một ngày. \n",
    "\n",
    "Có vẻ như không xảy ra các dòng có ý nghĩa khác nhau"
   ]
  },
  {
   "cell_type": "markdown",
   "metadata": {},
   "source": [
    "### Dữ liệu có các dòng bị lặp không?"
   ]
  },
  {
   "cell_type": "code",
   "execution_count": 23,
   "metadata": {},
   "outputs": [
    {
     "name": "stdout",
     "output_type": "stream",
     "text": [
      "Không có dòng lặp\n"
     ]
    }
   ],
   "source": [
    "duplicated_rows = new_data.duplicated().sum()\n",
    "if duplicated_rows > 0:\n",
    "    print(\"Số dòng lặp: \", duplicated_rows)\n",
    "else:\n",
    "    print(\"Không có dòng lặp\")"
   ]
  },
  {
   "cell_type": "markdown",
   "metadata": {},
   "source": [
    "### Mỗi cột có ý nghĩa gì?"
   ]
  },
  {
   "cell_type": "markdown",
   "metadata": {},
   "source": [
    "|Tên cột| Mô tả |\n",
    "|:-:| :--|\n",
    "|**Date**| Ngày lấy số liệu |\n",
    "|**Country**| Nước |\n",
    "|**Total Cases**| tổng số ca nhiễm mới từ trước đến nay |\n",
    "|**New Cases**| số ca mới ngày hôm nay |\n",
    "|**Total Deaths**| tổng số ca tử vong từ trước đến nay  |\n",
    "|**New Deaths**| số ca tử vong mới ngày hôm nay|\n",
    "|**Total Recovered**| tổng số ca phục hồi |\n",
    "|**New Recovered**| số ca phục hồi trong ngày|\n",
    "|**Active Cases**| số ca đang điều trị |\n",
    "|**Serious Critical**| số ca nguy kịch |\n",
    "|**Total Cases/1M pop**| số ca nhiễm / 1 triệu dân |\n",
    "|**Deaths/1M pop**| số ca từ vong/ 1 triệu dân |\n",
    "|**Total Tests**| tổng số xét nghiệm |\n",
    "|**Tests/1M pop**| số xét nghiệm/1 triệu dân |\n",
    "|**Population**| dân số |\n",
    "|**Area**| Diện tích |\n",
    "|**Continent**| châu lục |"
   ]
  },
  {
   "cell_type": "markdown",
   "metadata": {},
   "source": [
    "### Mỗi cột hiện đang có kiểu dữ liệu gì? Có cột nào có kiểu dữ liệu chưa phù hợp để có thể xử lý tiếp không?"
   ]
  },
  {
   "cell_type": "markdown",
   "metadata": {},
   "source": [
    "Giờ ta xem qua kiểu dữ liệu của các cột nhằm phát hiện cột có kiểu dữ liệu chưa phù hợp"
   ]
  },
  {
   "cell_type": "code",
   "execution_count": 24,
   "metadata": {},
   "outputs": [
    {
     "data": {
      "text/plain": [
       "Country              object\n",
       "Continent            object\n",
       "Area                float64\n",
       "Date                 object\n",
       "Total Cases           int64\n",
       "New Cases           float64\n",
       "Total Deaths        float64\n",
       "New Deaths          float64\n",
       "Total Recovered     float64\n",
       "New Recovered       float64\n",
       "Active Cases        float64\n",
       "Serious Critical    float64\n",
       "Tot Cases/1M pop    float64\n",
       "Deaths/1M pop       float64\n",
       "Total Tests         float64\n",
       "Tests/1M pop        float64\n",
       "Population          float64\n",
       "dtype: object"
      ]
     },
     "execution_count": 24,
     "metadata": {},
     "output_type": "execute_result"
    }
   ],
   "source": [
    "new_data.dtypes"
   ]
  },
  {
   "cell_type": "markdown",
   "metadata": {},
   "source": [
    "Ta cần chuyển cột `Date` sang kiểu dữ liệu `datetime`"
   ]
  },
  {
   "cell_type": "markdown",
   "metadata": {},
   "source": [
    "---"
   ]
  },
  {
   "cell_type": "markdown",
   "metadata": {},
   "source": [
    "## Tiền Xử Lý Dữ Liệu"
   ]
  },
  {
   "cell_type": "markdown",
   "metadata": {},
   "source": [
    "Ở Lab1, ta sẽ chỉ làm trên dữ liệu từ ngày **21/4/2022-28/4/20022**\n",
    "\n",
    "Ta cần chuyển cột `Date`  về kiểu dữ liệu `datetime`.\n",
    "\n",
    "Bên cạnh đó, từ dữ liệu gốc, ta lọc những dòng có ngày từ ngày **21/4/2022**  đến **28/4/20022**, lưu vào dataframe `filtered_covid_data`"
   ]
  },
  {
   "cell_type": "code",
   "execution_count": 25,
   "metadata": {},
   "outputs": [
    {
     "data": {
      "text/html": [
       "<div>\n",
       "<style scoped>\n",
       "    .dataframe tbody tr th:only-of-type {\n",
       "        vertical-align: middle;\n",
       "    }\n",
       "\n",
       "    .dataframe tbody tr th {\n",
       "        vertical-align: top;\n",
       "    }\n",
       "\n",
       "    .dataframe thead th {\n",
       "        text-align: right;\n",
       "    }\n",
       "</style>\n",
       "<table border=\"1\" class=\"dataframe\">\n",
       "  <thead>\n",
       "    <tr style=\"text-align: right;\">\n",
       "      <th></th>\n",
       "      <th>Country</th>\n",
       "      <th>Continent</th>\n",
       "      <th>Area</th>\n",
       "      <th>Date</th>\n",
       "      <th>Total Cases</th>\n",
       "      <th>New Cases</th>\n",
       "      <th>Total Deaths</th>\n",
       "      <th>New Deaths</th>\n",
       "      <th>Total Recovered</th>\n",
       "      <th>New Recovered</th>\n",
       "      <th>Active Cases</th>\n",
       "      <th>Serious Critical</th>\n",
       "      <th>Tot Cases/1M pop</th>\n",
       "      <th>Deaths/1M pop</th>\n",
       "      <th>Total Tests</th>\n",
       "      <th>Tests/1M pop</th>\n",
       "      <th>Population</th>\n",
       "    </tr>\n",
       "  </thead>\n",
       "  <tbody>\n",
       "    <tr>\n",
       "      <th>0</th>\n",
       "      <td>China</td>\n",
       "      <td>Asia</td>\n",
       "      <td>9640011.0</td>\n",
       "      <td>2022-04-21</td>\n",
       "      <td>193953</td>\n",
       "      <td>2841.0</td>\n",
       "      <td>4663.0</td>\n",
       "      <td>8.0</td>\n",
       "      <td>157869.0</td>\n",
       "      <td>2185.0</td>\n",
       "      <td>31421.0</td>\n",
       "      <td>223.0</td>\n",
       "      <td>135.0</td>\n",
       "      <td>3.0</td>\n",
       "      <td>160000000.0</td>\n",
       "      <td>111163.0</td>\n",
       "      <td>1.439324e+09</td>\n",
       "    </tr>\n",
       "    <tr>\n",
       "      <th>1</th>\n",
       "      <td>USA</td>\n",
       "      <td>America</td>\n",
       "      <td>9629091.0</td>\n",
       "      <td>2022-04-21</td>\n",
       "      <td>82553058</td>\n",
       "      <td>45204.0</td>\n",
       "      <td>1017609.0</td>\n",
       "      <td>299.0</td>\n",
       "      <td>80355389.0</td>\n",
       "      <td>34592.0</td>\n",
       "      <td>1180060.0</td>\n",
       "      <td>1492.0</td>\n",
       "      <td>246798.0</td>\n",
       "      <td>3042.0</td>\n",
       "      <td>999047824.0</td>\n",
       "      <td>2986727.0</td>\n",
       "      <td>3.344959e+08</td>\n",
       "    </tr>\n",
       "    <tr>\n",
       "      <th>2</th>\n",
       "      <td>India</td>\n",
       "      <td>Asia</td>\n",
       "      <td>3287590.0</td>\n",
       "      <td>2022-04-21</td>\n",
       "      <td>43050877</td>\n",
       "      <td>903.0</td>\n",
       "      <td>522095.0</td>\n",
       "      <td>33.0</td>\n",
       "      <td>42514479.0</td>\n",
       "      <td>NaN</td>\n",
       "      <td>14303.0</td>\n",
       "      <td>698.0</td>\n",
       "      <td>30654.0</td>\n",
       "      <td>372.0</td>\n",
       "      <td>833377052.0</td>\n",
       "      <td>593395.0</td>\n",
       "      <td>1.404421e+09</td>\n",
       "    </tr>\n",
       "    <tr>\n",
       "      <th>3</th>\n",
       "      <td>Brazil</td>\n",
       "      <td>America</td>\n",
       "      <td>8515767.0</td>\n",
       "      <td>2022-04-21</td>\n",
       "      <td>30330629</td>\n",
       "      <td>18660.0</td>\n",
       "      <td>662556.0</td>\n",
       "      <td>86.0</td>\n",
       "      <td>29353398.0</td>\n",
       "      <td>12596.0</td>\n",
       "      <td>314675.0</td>\n",
       "      <td>8318.0</td>\n",
       "      <td>140890.0</td>\n",
       "      <td>3078.0</td>\n",
       "      <td>63776166.0</td>\n",
       "      <td>296249.0</td>\n",
       "      <td>2.152787e+08</td>\n",
       "    </tr>\n",
       "    <tr>\n",
       "      <th>4</th>\n",
       "      <td>France</td>\n",
       "      <td>Europe</td>\n",
       "      <td>640679.0</td>\n",
       "      <td>2022-04-21</td>\n",
       "      <td>28076017</td>\n",
       "      <td>104007.0</td>\n",
       "      <td>144799.0</td>\n",
       "      <td>185.0</td>\n",
       "      <td>25618858.0</td>\n",
       "      <td>148402.0</td>\n",
       "      <td>2312360.0</td>\n",
       "      <td>1677.0</td>\n",
       "      <td>428423.0</td>\n",
       "      <td>2210.0</td>\n",
       "      <td>266484045.0</td>\n",
       "      <td>4066382.0</td>\n",
       "      <td>6.553345e+07</td>\n",
       "    </tr>\n",
       "  </tbody>\n",
       "</table>\n",
       "</div>"
      ],
      "text/plain": [
       "  Country Continent       Area       Date  Total Cases  New Cases  \\\n",
       "0   China      Asia  9640011.0 2022-04-21       193953     2841.0   \n",
       "1     USA   America  9629091.0 2022-04-21     82553058    45204.0   \n",
       "2   India      Asia  3287590.0 2022-04-21     43050877      903.0   \n",
       "3  Brazil   America  8515767.0 2022-04-21     30330629    18660.0   \n",
       "4  France    Europe   640679.0 2022-04-21     28076017   104007.0   \n",
       "\n",
       "   Total Deaths  New Deaths  Total Recovered  New Recovered  Active Cases  \\\n",
       "0        4663.0         8.0         157869.0         2185.0       31421.0   \n",
       "1     1017609.0       299.0       80355389.0        34592.0     1180060.0   \n",
       "2      522095.0        33.0       42514479.0            NaN       14303.0   \n",
       "3      662556.0        86.0       29353398.0        12596.0      314675.0   \n",
       "4      144799.0       185.0       25618858.0       148402.0     2312360.0   \n",
       "\n",
       "   Serious Critical  Tot Cases/1M pop  Deaths/1M pop  Total Tests  \\\n",
       "0             223.0             135.0            3.0  160000000.0   \n",
       "1            1492.0          246798.0         3042.0  999047824.0   \n",
       "2             698.0           30654.0          372.0  833377052.0   \n",
       "3            8318.0          140890.0         3078.0   63776166.0   \n",
       "4            1677.0          428423.0         2210.0  266484045.0   \n",
       "\n",
       "   Tests/1M pop    Population  \n",
       "0      111163.0  1.439324e+09  \n",
       "1     2986727.0  3.344959e+08  \n",
       "2      593395.0  1.404421e+09  \n",
       "3      296249.0  2.152787e+08  \n",
       "4     4066382.0  6.553345e+07  "
      ]
     },
     "execution_count": 25,
     "metadata": {},
     "output_type": "execute_result"
    }
   ],
   "source": [
    "new_data['Date'] = pd.to_datetime(new_data['Date'], format='%Y-%m-%d')\n",
    "\n",
    "begin_date = pd.Timestamp('2022-04-21')\n",
    "end_date = pd.Timestamp('2022-04-28')\n",
    "\n",
    "filtered_covid_data = new_data[(new_data.Date >= begin_date) & (new_data.Date <= end_date)]\n",
    "filtered_covid_data.head()"
   ]
  },
  {
   "cell_type": "markdown",
   "metadata": {},
   "source": [
    "**Ở các bước tiếp theo ta sẽ khám phá dữ liệu trên tập dữ liệu mới (`filtered_covid_data`)**"
   ]
  },
  {
   "cell_type": "markdown",
   "metadata": {},
   "source": [
    "---"
   ]
  },
  {
   "cell_type": "markdown",
   "metadata": {},
   "source": [
    "## Khám Phá Dữ Liệu (tiếp tục)"
   ]
  },
  {
   "cell_type": "markdown",
   "metadata": {},
   "source": [
    "### Sự phân bố giá trị của mỗi cột"
   ]
  },
  {
   "cell_type": "markdown",
   "metadata": {},
   "source": [
    "#### Với mỗi cột có kiểu dữ liệu dạng numeric, các giá trị được phân bố như thế nào?"
   ]
  },
  {
   "cell_type": "markdown",
   "metadata": {},
   "source": [
    "Với các cột có kiểu dữ liệu số, ta tính:\n",
    "\n",
    "- Tỉ lệ % (từ 0 đến 100) các giá trị thiếu\n",
    "- Giá trị min\n",
    "- Giá trị lower quartile (phân vị 25)\n",
    "- Giá trị median (phân vị 50)\n",
    "- Giá trị upper quartile (phân vị 75)\n",
    "- Giá trị max"
   ]
  },
  {
   "cell_type": "code",
   "execution_count": 26,
   "metadata": {},
   "outputs": [
    {
     "data": {
      "text/html": [
       "<div>\n",
       "<style scoped>\n",
       "    .dataframe tbody tr th:only-of-type {\n",
       "        vertical-align: middle;\n",
       "    }\n",
       "\n",
       "    .dataframe tbody tr th {\n",
       "        vertical-align: top;\n",
       "    }\n",
       "\n",
       "    .dataframe thead th {\n",
       "        text-align: right;\n",
       "    }\n",
       "</style>\n",
       "<table border=\"1\" class=\"dataframe\">\n",
       "  <thead>\n",
       "    <tr style=\"text-align: right;\">\n",
       "      <th></th>\n",
       "      <th>Total Cases</th>\n",
       "      <th>New Cases</th>\n",
       "      <th>Total Deaths</th>\n",
       "      <th>New Deaths</th>\n",
       "      <th>Total Recovered</th>\n",
       "      <th>New Recovered</th>\n",
       "      <th>Active Cases</th>\n",
       "      <th>Serious Critical</th>\n",
       "      <th>Tot Cases/1M pop</th>\n",
       "      <th>Deaths/1M pop</th>\n",
       "      <th>Total Tests</th>\n",
       "      <th>Tests/1M pop</th>\n",
       "      <th>Population</th>\n",
       "      <th>Area</th>\n",
       "    </tr>\n",
       "  </thead>\n",
       "  <tbody>\n",
       "    <tr>\n",
       "      <th>missing_percentage</th>\n",
       "      <td>0.0</td>\n",
       "      <td>44.7</td>\n",
       "      <td>3.8</td>\n",
       "      <td>71.1</td>\n",
       "      <td>6.6</td>\n",
       "      <td>54.0</td>\n",
       "      <td>6.6</td>\n",
       "      <td>33.7</td>\n",
       "      <td>0.9</td>\n",
       "      <td>4.6</td>\n",
       "      <td>7.000000e+00</td>\n",
       "      <td>7.0</td>\n",
       "      <td>9.000000e-01</td>\n",
       "      <td>2.2</td>\n",
       "    </tr>\n",
       "    <tr>\n",
       "      <th>min</th>\n",
       "      <td>1.0</td>\n",
       "      <td>1.0</td>\n",
       "      <td>1.0</td>\n",
       "      <td>1.0</td>\n",
       "      <td>1.0</td>\n",
       "      <td>1.0</td>\n",
       "      <td>0.0</td>\n",
       "      <td>1.0</td>\n",
       "      <td>9.0</td>\n",
       "      <td>2.0</td>\n",
       "      <td>5.117000e+03</td>\n",
       "      <td>5098.0</td>\n",
       "      <td>8.050000e+02</td>\n",
       "      <td>0.4</td>\n",
       "    </tr>\n",
       "    <tr>\n",
       "      <th>lower_quartile</th>\n",
       "      <td>22698.5</td>\n",
       "      <td>24.0</td>\n",
       "      <td>220.0</td>\n",
       "      <td>2.0</td>\n",
       "      <td>13872.0</td>\n",
       "      <td>27.0</td>\n",
       "      <td>195.5</td>\n",
       "      <td>5.0</td>\n",
       "      <td>11127.0</td>\n",
       "      <td>157.0</td>\n",
       "      <td>3.472968e+05</td>\n",
       "      <td>164917.8</td>\n",
       "      <td>5.577575e+05</td>\n",
       "      <td>5130.0</td>\n",
       "    </tr>\n",
       "    <tr>\n",
       "      <th>median</th>\n",
       "      <td>163079.0</td>\n",
       "      <td>168.0</td>\n",
       "      <td>2201.0</td>\n",
       "      <td>8.0</td>\n",
       "      <td>131100.0</td>\n",
       "      <td>307.5</td>\n",
       "      <td>2344.0</td>\n",
       "      <td>20.0</td>\n",
       "      <td>89015.5</td>\n",
       "      <td>765.0</td>\n",
       "      <td>2.120364e+06</td>\n",
       "      <td>774481.0</td>\n",
       "      <td>5.796766e+06</td>\n",
       "      <td>83871.0</td>\n",
       "    </tr>\n",
       "    <tr>\n",
       "      <th>upper_quartile</th>\n",
       "      <td>1066399.0</td>\n",
       "      <td>1163.0</td>\n",
       "      <td>14048.0</td>\n",
       "      <td>29.0</td>\n",
       "      <td>962764.5</td>\n",
       "      <td>2663.8</td>\n",
       "      <td>29976.0</td>\n",
       "      <td>176.5</td>\n",
       "      <td>240877.0</td>\n",
       "      <td>1844.0</td>\n",
       "      <td>1.226714e+07</td>\n",
       "      <td>2212157.0</td>\n",
       "      <td>2.193846e+07</td>\n",
       "      <td>447400.0</td>\n",
       "    </tr>\n",
       "    <tr>\n",
       "      <th>max</th>\n",
       "      <td>82888247.0</td>\n",
       "      <td>139849.0</td>\n",
       "      <td>1019774.0</td>\n",
       "      <td>646.0</td>\n",
       "      <td>80585919.0</td>\n",
       "      <td>243700.0</td>\n",
       "      <td>2928053.0</td>\n",
       "      <td>8318.0</td>\n",
       "      <td>704474.0</td>\n",
       "      <td>6294.0</td>\n",
       "      <td>1.003323e+09</td>\n",
       "      <td>21818570.0</td>\n",
       "      <td>1.439324e+09</td>\n",
       "      <td>17124442.0</td>\n",
       "    </tr>\n",
       "  </tbody>\n",
       "</table>\n",
       "</div>"
      ],
      "text/plain": [
       "                    Total Cases  New Cases  Total Deaths  New Deaths  \\\n",
       "missing_percentage          0.0       44.7           3.8        71.1   \n",
       "min                         1.0        1.0           1.0         1.0   \n",
       "lower_quartile          22698.5       24.0         220.0         2.0   \n",
       "median                 163079.0      168.0        2201.0         8.0   \n",
       "upper_quartile        1066399.0     1163.0       14048.0        29.0   \n",
       "max                  82888247.0   139849.0     1019774.0       646.0   \n",
       "\n",
       "                    Total Recovered  New Recovered  Active Cases  \\\n",
       "missing_percentage              6.6           54.0           6.6   \n",
       "min                             1.0            1.0           0.0   \n",
       "lower_quartile              13872.0           27.0         195.5   \n",
       "median                     131100.0          307.5        2344.0   \n",
       "upper_quartile             962764.5         2663.8       29976.0   \n",
       "max                      80585919.0       243700.0     2928053.0   \n",
       "\n",
       "                    Serious Critical  Tot Cases/1M pop  Deaths/1M pop  \\\n",
       "missing_percentage              33.7               0.9            4.6   \n",
       "min                              1.0               9.0            2.0   \n",
       "lower_quartile                   5.0           11127.0          157.0   \n",
       "median                          20.0           89015.5          765.0   \n",
       "upper_quartile                 176.5          240877.0         1844.0   \n",
       "max                           8318.0          704474.0         6294.0   \n",
       "\n",
       "                     Total Tests  Tests/1M pop    Population        Area  \n",
       "missing_percentage  7.000000e+00           7.0  9.000000e-01         2.2  \n",
       "min                 5.117000e+03        5098.0  8.050000e+02         0.4  \n",
       "lower_quartile      3.472968e+05      164917.8  5.577575e+05      5130.0  \n",
       "median              2.120364e+06      774481.0  5.796766e+06     83871.0  \n",
       "upper_quartile      1.226714e+07     2212157.0  2.193846e+07    447400.0  \n",
       "max                 1.003323e+09    21818570.0  1.439324e+09  17124442.0  "
      ]
     },
     "execution_count": 26,
     "metadata": {},
     "output_type": "execute_result"
    }
   ],
   "source": [
    "pd.set_option(\"max_colwidth\", 300)\n",
    "pd.set_option('display.max_columns', None)\n",
    "\n",
    "nume_cols = ['Total Cases', 'New Cases', 'Total Deaths', 'New Deaths', 'Total Recovered',\n",
    "                'New Recovered', 'Active Cases', 'Serious Critical', 'Tot Cases/1M pop',\n",
    "                'Deaths/1M pop', 'Total Tests', 'Tests/1M pop', 'Population', 'Area']\n",
    "\n",
    "index_nume_col =[\"missing_percentage\", \"min\", \"lower_quartile\", \"median\", \"upper_quartile\", \"max\"]\n",
    "\n",
    "data_nume_col= np.array([\n",
    "    (filtered_covid_data[nume_cols].isna().mean()*100).round(1),\n",
    "    filtered_covid_data[nume_cols].min().round(1),\n",
    "    filtered_covid_data[nume_cols].quantile(.25).round(1),\n",
    "    filtered_covid_data[nume_cols].median(),\n",
    "    filtered_covid_data[nume_cols].quantile(.75).round(1),\n",
    "    filtered_covid_data[nume_cols].max().round(1)]\n",
    ")\n",
    "nume_col_info_df = pd.DataFrame(data = data_nume_col, columns = nume_cols, index= index_nume_col)\n",
    "nume_col_info_df"
   ]
  },
  {
   "cell_type": "markdown",
   "metadata": {},
   "source": [
    "**Nhận xét**: Tỉ lệ thiếu của cột New Cases, New Deaths, New Recovered khá cao nhưng vẫn chấp nhận được"
   ]
  },
  {
   "cell_type": "markdown",
   "metadata": {},
   "source": [
    "#### Với mỗi cột có kiểu dữ liệu dạng categorical, các giá trị được phân bố như thế nào?"
   ]
  },
  {
   "cell_type": "markdown",
   "metadata": {},
   "source": [
    "Với các cột có kiểu dữ liệu dạng `categorical`, ta cần tính:\n",
    "\n",
    "- Tỉ lệ % (từ 0 đến 100) các giá trị thiếu\n",
    "- Số lượng các giá trị khác nhau (không xét giá trị thiếu):\n",
    "- Tỉ lệ % (từ 0 đến 100) của mỗi giá trị được sort theo tỉ lệ % giảm dần (không xét giá trị thiếu)"
   ]
  },
  {
   "cell_type": "code",
   "execution_count": 27,
   "metadata": {},
   "outputs": [
    {
     "data": {
      "text/html": [
       "<div>\n",
       "<style scoped>\n",
       "    .dataframe tbody tr th:only-of-type {\n",
       "        vertical-align: middle;\n",
       "    }\n",
       "\n",
       "    .dataframe tbody tr th {\n",
       "        vertical-align: top;\n",
       "    }\n",
       "\n",
       "    .dataframe thead th {\n",
       "        text-align: right;\n",
       "    }\n",
       "</style>\n",
       "<table border=\"1\" class=\"dataframe\">\n",
       "  <thead>\n",
       "    <tr style=\"text-align: right;\">\n",
       "      <th></th>\n",
       "      <th>Country</th>\n",
       "      <th>Continent</th>\n",
       "    </tr>\n",
       "  </thead>\n",
       "  <tbody>\n",
       "    <tr>\n",
       "      <th>missing_percentage</th>\n",
       "      <td>0.0</td>\n",
       "      <td>2.631579</td>\n",
       "    </tr>\n",
       "    <tr>\n",
       "      <th>num_values</th>\n",
       "      <td>228</td>\n",
       "      <td>5</td>\n",
       "    </tr>\n",
       "    <tr>\n",
       "      <th>value_percentages</th>\n",
       "      <td>{'China': 0.43859649122807015, 'Belize': 0.43859649122807015, 'Cabo Verde': 0.43859649122807015, 'Syria': 0.43859649122807015, 'Gabon': 0.43859649122807015, 'Papua New Guinea': 0.43859649122807015, 'Taiwan': 0.43859649122807015, 'Seychelles': 0.43859649122807015, 'Curaçao': 0.43859649122807015, ...</td>\n",
       "      <td>{'Africa': 26.126126126126124, 'America': 23.423423423423422, 'Europe': 22.07207207207207, 'Asia': 20.72072072072072, 'Oceania': 7.657657657657657}</td>\n",
       "    </tr>\n",
       "  </tbody>\n",
       "</table>\n",
       "</div>"
      ],
      "text/plain": [
       "                                                                                                                                                                                                                                                                                                                        Country  \\\n",
       "missing_percentage                                                                                                                                                                                                                                                                                                          0.0   \n",
       "num_values                                                                                                                                                                                                                                                                                                                  228   \n",
       "value_percentages   {'China': 0.43859649122807015, 'Belize': 0.43859649122807015, 'Cabo Verde': 0.43859649122807015, 'Syria': 0.43859649122807015, 'Gabon': 0.43859649122807015, 'Papua New Guinea': 0.43859649122807015, 'Taiwan': 0.43859649122807015, 'Seychelles': 0.43859649122807015, 'Curaçao': 0.43859649122807015, ...   \n",
       "\n",
       "                                                                                                                                                              Continent  \n",
       "missing_percentage                                                                                                                                             2.631579  \n",
       "num_values                                                                                                                                                            5  \n",
       "value_percentages   {'Africa': 26.126126126126124, 'America': 23.423423423423422, 'Europe': 22.07207207207207, 'Asia': 20.72072072072072, 'Oceania': 7.657657657657657}  "
      ]
     },
     "execution_count": 27,
     "metadata": {},
     "output_type": "execute_result"
    }
   ],
   "source": [
    "cate_cols = ['Country', 'Continent']\n",
    "index_cate_cols = [\"missing_percentage\", \"num_values\", \"value_percentages\"]\n",
    "\n",
    "\n",
    "def count_value_percentages(data):\n",
    "    return (data.value_counts()/data.count() *100).to_dict()\n",
    "\n",
    "\n",
    "data_cate_col= np.array([\n",
    "    (filtered_covid_data[cate_cols].isna().mean() *100),\n",
    "    filtered_covid_data[cate_cols].nunique(),\n",
    "    filtered_covid_data[cate_cols].agg(count_value_percentages)\n",
    "])\n",
    "\n",
    "cate_col_info_df = pd.DataFrame(data = data_cate_col, columns = cate_cols, index= index_cate_cols)\n",
    "cate_col_info_df"
   ]
  },
  {
   "cell_type": "markdown",
   "metadata": {},
   "source": [
    "**Nhận xét**: tỉ lệ các giá trị trong cột `Country` bằng nhau, điều đó là hiển nhiên vì không tồn tại dòng lặp trong dữ liệu"
   ]
  },
  {
   "cell_type": "markdown",
   "metadata": {},
   "source": [
    "---"
   ]
  },
  {
   "cell_type": "markdown",
   "metadata": {},
   "source": [
    "## Tiền xử lý dữ liệu"
   ]
  },
  {
   "cell_type": "markdown",
   "metadata": {},
   "source": [
    "Ta nhận thấy cột `New Cases`, `New Recovered`, `New Deaths` có tỉ lệ thiếu cao. Ta biết được rằng, những ô nào không có giá trị tức là bằng 0 (0 ca nhiễm/hồi phục/chết trong ngàyngày), Vậy nên ta sẽ điền 0 vào các giá trị thiếu này"
   ]
  },
  {
   "cell_type": "code",
   "execution_count": 28,
   "metadata": {},
   "outputs": [
    {
     "name": "stderr",
     "output_type": "stream",
     "text": [
      "C:\\Users\\TNHao\\AppData\\Local\\Temp\\ipykernel_2436\\579118513.py:1: SettingWithCopyWarning: \n",
      "A value is trying to be set on a copy of a slice from a DataFrame.\n",
      "Try using .loc[row_indexer,col_indexer] = value instead\n",
      "\n",
      "See the caveats in the documentation: https://pandas.pydata.org/pandas-docs/stable/user_guide/indexing.html#returning-a-view-versus-a-copy\n",
      "  filtered_covid_data[['New Cases', 'New Recovered',  'New Deaths']] = \\\n"
     ]
    }
   ],
   "source": [
    "filtered_covid_data[['New Cases', 'New Recovered',  'New Deaths']] = \\\n",
    "    filtered_covid_data[['New Cases', 'New Recovered',  'New Deaths']].replace(np.nan, 0)"
   ]
  },
  {
   "cell_type": "code",
   "execution_count": 29,
   "metadata": {},
   "outputs": [
    {
     "name": "stdout",
     "output_type": "stream",
     "text": [
      "<class 'pandas.core.frame.DataFrame'>\n",
      "Int64Index: 1596 entries, 0 to 1595\n",
      "Data columns (total 17 columns):\n",
      " #   Column            Non-Null Count  Dtype         \n",
      "---  ------            --------------  -----         \n",
      " 0   Country           1596 non-null   object        \n",
      " 1   Continent         1554 non-null   object        \n",
      " 2   Area              1561 non-null   float64       \n",
      " 3   Date              1596 non-null   datetime64[ns]\n",
      " 4   Total Cases       1596 non-null   int64         \n",
      " 5   New Cases         1596 non-null   float64       \n",
      " 6   Total Deaths      1536 non-null   float64       \n",
      " 7   New Deaths        1596 non-null   float64       \n",
      " 8   Total Recovered   1491 non-null   float64       \n",
      " 9   New Recovered     1596 non-null   float64       \n",
      " 10  Active Cases      1491 non-null   float64       \n",
      " 11  Serious Critical  1058 non-null   float64       \n",
      " 12  Tot Cases/1M pop  1582 non-null   float64       \n",
      " 13  Deaths/1M pop     1522 non-null   float64       \n",
      " 14  Total Tests       1484 non-null   float64       \n",
      " 15  Tests/1M pop      1484 non-null   float64       \n",
      " 16  Population        1582 non-null   float64       \n",
      "dtypes: datetime64[ns](1), float64(13), int64(1), object(2)\n",
      "memory usage: 224.4+ KB\n"
     ]
    }
   ],
   "source": [
    "filtered_covid_data.info()"
   ]
  },
  {
   "cell_type": "markdown",
   "metadata": {},
   "source": [
    "Hiện tại có một số cột đang thiết dữ liệu, những cột đó đang chứa kiểu dữ liệu số, ta tiến hành điền mean vào giá trị thiếu"
   ]
  },
  {
   "cell_type": "code",
   "execution_count": 30,
   "metadata": {},
   "outputs": [
    {
     "name": "stdout",
     "output_type": "stream",
     "text": [
      "<class 'pandas.core.frame.DataFrame'>\n",
      "Int64Index: 1596 entries, 0 to 1595\n",
      "Data columns (total 17 columns):\n",
      " #   Column            Non-Null Count  Dtype         \n",
      "---  ------            --------------  -----         \n",
      " 0   Country           1596 non-null   object        \n",
      " 1   Continent         1554 non-null   object        \n",
      " 2   Area              1596 non-null   float64       \n",
      " 3   Date              1596 non-null   datetime64[ns]\n",
      " 4   Total Cases       1596 non-null   int64         \n",
      " 5   New Cases         1596 non-null   float64       \n",
      " 6   Total Deaths      1596 non-null   float64       \n",
      " 7   New Deaths        1596 non-null   float64       \n",
      " 8   Total Recovered   1596 non-null   float64       \n",
      " 9   New Recovered     1596 non-null   float64       \n",
      " 10  Active Cases      1596 non-null   float64       \n",
      " 11  Serious Critical  1596 non-null   float64       \n",
      " 12  Tot Cases/1M pop  1596 non-null   float64       \n",
      " 13  Deaths/1M pop     1596 non-null   float64       \n",
      " 14  Total Tests       1596 non-null   float64       \n",
      " 15  Tests/1M pop      1596 non-null   float64       \n",
      " 16  Population        1596 non-null   float64       \n",
      "dtypes: datetime64[ns](1), float64(13), int64(1), object(2)\n",
      "memory usage: 224.4+ KB\n"
     ]
    },
    {
     "name": "stderr",
     "output_type": "stream",
     "text": [
      "C:\\Users\\TNHao\\AppData\\Local\\Temp\\ipykernel_2436\\3651941381.py:9: SettingWithCopyWarning: \n",
      "A value is trying to be set on a copy of a slice from a DataFrame.\n",
      "Try using .loc[row_indexer,col_indexer] = value instead\n",
      "\n",
      "See the caveats in the documentation: https://pandas.pydata.org/pandas-docs/stable/user_guide/indexing.html#returning-a-view-versus-a-copy\n",
      "  filtered_covid_data[miss_value_cols] = filtered_covid_data[miss_value_cols].apply(fill_mean_value)\n"
     ]
    }
   ],
   "source": [
    "miss_value_cols = ['Total Deaths', 'Total Recovered', 'Active Cases', 'Serious Critical',\n",
    "                    'Tot Cases/1M pop', 'Deaths/1M pop', 'Total Tests', 'Tests/1M pop', 'Population', 'Area']\n",
    "\n",
    "def fill_mean_value(col):\n",
    "    mean_value = int(np.mean(col, axis = 0))\n",
    "    col.replace(np.nan, mean_value, inplace=True)\n",
    "    return col\n",
    "\n",
    "filtered_covid_data[miss_value_cols] = filtered_covid_data[miss_value_cols].apply(fill_mean_value)\n",
    "filtered_covid_data.info()"
   ]
  },
  {
   "cell_type": "markdown",
   "metadata": {},
   "source": [
    "Sau cùng ta lưu dữ liệu đã qua tiền xử lý vào file `preprocessed_covid_data`"
   ]
  },
  {
   "cell_type": "code",
   "execution_count": 31,
   "metadata": {},
   "outputs": [],
   "source": [
    "filtered_covid_data.to_csv('data/preprocessed_covid_data.csv')"
   ]
  },
  {
   "cell_type": "markdown",
   "metadata": {},
   "source": [
    "---"
   ]
  },
  {
   "cell_type": "markdown",
   "metadata": {},
   "source": [
    "## Đưa ra câu hỏi ý nghĩa cần trả lời"
   ]
  },
  {
   "cell_type": "markdown",
   "metadata": {},
   "source": [
    "### Câu hỏi 1: Tổng số ca nhiễm của các nước phân phối như thế nào?"
   ]
  },
  {
   "cell_type": "markdown",
   "metadata": {},
   "source": [
    "Ở câu hỏi này ta sử dụng dữ liệu ngày 27/4/2022 để trả lời"
   ]
  },
  {
   "cell_type": "code",
   "execution_count": 32,
   "metadata": {},
   "outputs": [
    {
     "data": {
      "image/png": "[encoded data removed]",
      "text/plain": [
       "<Figure size 432x288 with 1 Axes>"
      ]
     },
     "metadata": {
      "needs_background": "light"
     },
     "output_type": "display_data"
    }
   ],
   "source": [
    "data_1 = filtered_covid_data[filtered_covid_data['Date'] =='2022-04-27']\n",
    "plt.hist(data_1['Total Cases'], bins=100)\n",
    "plt.show()"
   ]
  },
  {
   "cell_type": "markdown",
   "metadata": {},
   "source": [
    "**Nhận xét**: Đa số tổng ca nhiễm của các nước tập trung trong khoảng từ 0 đến 10000000 ca, số nước có số ca nhiễm từ trước đến nay nhiều hơn 10000000 ca rất ít. Tổng số ca nhiễm nó còn phụ thuộc vào dân số của một nước nên ta không thể đưa ra nhận xét về tình hình đại dịch covid chung trên toàn thế giới được"
   ]
  },
  {
   "cell_type": "markdown",
   "metadata": {},
   "source": [
    "### Câu hỏi 2: Số ca nhiễm mới của từng quốc gia trong ngày 27/04/2022"
   ]
  },
  {
   "cell_type": "code",
   "execution_count": 33,
   "metadata": {},
   "outputs": [
    {
     "data": {
      "text/html": [
       "<div>\n",
       "<style scoped>\n",
       "    .dataframe tbody tr th:only-of-type {\n",
       "        vertical-align: middle;\n",
       "    }\n",
       "\n",
       "    .dataframe tbody tr th {\n",
       "        vertical-align: top;\n",
       "    }\n",
       "\n",
       "    .dataframe thead th {\n",
       "        text-align: right;\n",
       "    }\n",
       "</style>\n",
       "<table border=\"1\" class=\"dataframe\">\n",
       "  <thead>\n",
       "    <tr style=\"text-align: right;\">\n",
       "      <th></th>\n",
       "      <th>pop_est</th>\n",
       "      <th>continent</th>\n",
       "      <th>name</th>\n",
       "      <th>iso_a3</th>\n",
       "      <th>gdp_md_est</th>\n",
       "      <th>geometry</th>\n",
       "      <th>Country</th>\n",
       "      <th>New Cases</th>\n",
       "    </tr>\n",
       "  </thead>\n",
       "  <tbody>\n",
       "    <tr>\n",
       "      <th>0</th>\n",
       "      <td>920938</td>\n",
       "      <td>Oceania</td>\n",
       "      <td>Fiji</td>\n",
       "      <td>FJI</td>\n",
       "      <td>8374.0</td>\n",
       "      <td>MULTIPOLYGON (((180.00000 -16.06713, 180.00000 -16.55522, 179.36414 -16.80135, 178.72506 -17.01204, 178.59684 -16.63915, 179.09661 -16.43398, 179.41351 -16.37905, 180.00000 -16.06713)), ((178.12557 -17.50481, 178.37360 -17.33992, 178.71806 -17.62846, 178.55271 -18.15059, 177.93266 -18.28799, 177...</td>\n",
       "      <td>Fiji</td>\n",
       "      <td>0.0</td>\n",
       "    </tr>\n",
       "    <tr>\n",
       "      <th>1</th>\n",
       "      <td>53950935</td>\n",
       "      <td>Africa</td>\n",
       "      <td>Tanzania</td>\n",
       "      <td>TZA</td>\n",
       "      <td>150600.0</td>\n",
       "      <td>POLYGON ((33.90371 -0.95000, 34.07262 -1.05982, 37.69869 -3.09699, 37.76690 -3.67712, 39.20222 -4.67677, 38.74054 -5.90895, 38.79977 -6.47566, 39.44000 -6.84000, 39.47000 -7.10000, 39.19469 -7.70390, 39.25203 -8.00781, 39.18652 -8.48551, 39.53574 -9.11237, 39.94960 -10.09840, 40.31659 -10.31710,...</td>\n",
       "      <td>Tanzania</td>\n",
       "      <td>0.0</td>\n",
       "    </tr>\n",
       "    <tr>\n",
       "      <th>2</th>\n",
       "      <td>603253</td>\n",
       "      <td>Africa</td>\n",
       "      <td>Western Sahara</td>\n",
       "      <td>ESH</td>\n",
       "      <td>906.5</td>\n",
       "      <td>POLYGON ((-8.66559 27.65643, -8.66512 27.58948, -8.68440 27.39574, -8.68729 25.88106, -11.96942 25.93335, -11.93722 23.37459, -12.87422 23.28483, -13.11875 22.77122, -12.92910 21.32707, -16.84519 21.33332, -17.06342 20.99975, -17.02043 21.42231, -17.00296 21.42073, -14.75095 21.50060, -14.63083 ...</td>\n",
       "      <td>Western Sahara</td>\n",
       "      <td>0.0</td>\n",
       "    </tr>\n",
       "    <tr>\n",
       "      <th>3</th>\n",
       "      <td>35623680</td>\n",
       "      <td>North America</td>\n",
       "      <td>Canada</td>\n",
       "      <td>CAN</td>\n",
       "      <td>1674000.0</td>\n",
       "      <td>MULTIPOLYGON (((-122.84000 49.00000, -122.97421 49.00254, -124.91024 49.98456, -125.62461 50.41656, -127.43561 50.83061, -127.99276 51.71583, -127.85032 52.32961, -129.12979 52.75538, -129.30523 53.56159, -130.51497 54.28757, -130.53611 54.80275, -130.53611 54.80278, -129.98000 55.28500, -130.00...</td>\n",
       "      <td>Canada</td>\n",
       "      <td>11646.0</td>\n",
       "    </tr>\n",
       "    <tr>\n",
       "      <th>4</th>\n",
       "      <td>326625791</td>\n",
       "      <td>North America</td>\n",
       "      <td>USA</td>\n",
       "      <td>USA</td>\n",
       "      <td>18560000.0</td>\n",
       "      <td>MULTIPOLYGON (((-122.84000 49.00000, -120.00000 49.00000, -117.03121 49.00000, -116.04818 49.00000, -113.00000 49.00000, -110.05000 49.00000, -107.05000 49.00000, -104.04826 48.99986, -100.65000 49.00000, -97.22872 49.00070, -95.15907 49.00000, -95.15609 49.38425, -94.81758 49.38905, -94.64000 4...</td>\n",
       "      <td>USA</td>\n",
       "      <td>57738.0</td>\n",
       "    </tr>\n",
       "  </tbody>\n",
       "</table>\n",
       "</div>"
      ],
      "text/plain": [
       "     pop_est      continent            name iso_a3  gdp_md_est  \\\n",
       "0     920938        Oceania            Fiji    FJI      8374.0   \n",
       "1   53950935         Africa        Tanzania    TZA    150600.0   \n",
       "2     603253         Africa  Western Sahara    ESH       906.5   \n",
       "3   35623680  North America          Canada    CAN   1674000.0   \n",
       "4  326625791  North America             USA    USA  18560000.0   \n",
       "\n",
       "                                                                                                                                                                                                                                                                                                      geometry  \\\n",
       "0  MULTIPOLYGON (((180.00000 -16.06713, 180.00000 -16.55522, 179.36414 -16.80135, 178.72506 -17.01204, 178.59684 -16.63915, 179.09661 -16.43398, 179.41351 -16.37905, 180.00000 -16.06713)), ((178.12557 -17.50481, 178.37360 -17.33992, 178.71806 -17.62846, 178.55271 -18.15059, 177.93266 -18.28799, 177...   \n",
       "1  POLYGON ((33.90371 -0.95000, 34.07262 -1.05982, 37.69869 -3.09699, 37.76690 -3.67712, 39.20222 -4.67677, 38.74054 -5.90895, 38.79977 -6.47566, 39.44000 -6.84000, 39.47000 -7.10000, 39.19469 -7.70390, 39.25203 -8.00781, 39.18652 -8.48551, 39.53574 -9.11237, 39.94960 -10.09840, 40.31659 -10.31710,...   \n",
       "2  POLYGON ((-8.66559 27.65643, -8.66512 27.58948, -8.68440 27.39574, -8.68729 25.88106, -11.96942 25.93335, -11.93722 23.37459, -12.87422 23.28483, -13.11875 22.77122, -12.92910 21.32707, -16.84519 21.33332, -17.06342 20.99975, -17.02043 21.42231, -17.00296 21.42073, -14.75095 21.50060, -14.63083 ...   \n",
       "3  MULTIPOLYGON (((-122.84000 49.00000, -122.97421 49.00254, -124.91024 49.98456, -125.62461 50.41656, -127.43561 50.83061, -127.99276 51.71583, -127.85032 52.32961, -129.12979 52.75538, -129.30523 53.56159, -130.51497 54.28757, -130.53611 54.80275, -130.53611 54.80278, -129.98000 55.28500, -130.00...   \n",
       "4  MULTIPOLYGON (((-122.84000 49.00000, -120.00000 49.00000, -117.03121 49.00000, -116.04818 49.00000, -113.00000 49.00000, -110.05000 49.00000, -107.05000 49.00000, -104.04826 48.99986, -100.65000 49.00000, -97.22872 49.00070, -95.15907 49.00000, -95.15609 49.38425, -94.81758 49.38905, -94.64000 4...   \n",
       "\n",
       "          Country  New Cases  \n",
       "0            Fiji        0.0  \n",
       "1        Tanzania        0.0  \n",
       "2  Western Sahara        0.0  \n",
       "3          Canada    11646.0  \n",
       "4             USA    57738.0  "
      ]
     },
     "execution_count": 33,
     "metadata": {},
     "output_type": "execute_result"
    }
   ],
   "source": [
    "# “naturalearth_lowres” is a base map provided with geopandas\n",
    "df_world = gpd.read_file(gpd.datasets.get_path('naturalearth_lowres'))\n",
    "temp_df = pd.read_csv('data/naturalearth_lowres.csv')\n",
    "\n",
    "# change country name to match with worldometer data\n",
    "df_world['name'] = temp_df['name']\n",
    "\n",
    "data_6 = filtered_covid_data[filtered_covid_data['Date'] =='2022-04-27'].copy()\n",
    "data_6 = data_6[['Country', 'New Cases']]\n",
    "\n",
    "# merge total cases by country and world dataset\n",
    "df_world_teams = df_world.merge(data_6, how=\"left\", left_on=['name'], right_on=['Country'])\n",
    "\n",
    "df_world_teams.head()"
   ]
  },
  {
   "cell_type": "code",
   "execution_count": 34,
   "metadata": {},
   "outputs": [
    {
     "data": {
      "text/plain": [
       "<AxesSubplot:>"
      ]
     },
     "execution_count": 34,
     "metadata": {},
     "output_type": "execute_result"
    },
    {
     "data": {
      "image/png": "[encoded data removed]",
      "text/plain": [
       "<Figure size 864x576 with 2 Axes>"
      ]
     },
     "metadata": {
      "needs_background": "light"
     },
     "output_type": "display_data"
    }
   ],
   "source": [
    "ax = df_world[\"geometry\"].boundary.plot(figsize=(12,8))\n",
    "df_world_teams.plot( column=\"New Cases\", ax=ax, cmap='OrRd', legend=True)"
   ]
  },
  {
   "cell_type": "markdown",
   "metadata": {},
   "source": [
    "### Câu hỏi 3: Diễn biến số ca nhiễm mới trong 7 ngày gần nhất (21/4 - 27/4)"
   ]
  },
  {
   "cell_type": "markdown",
   "metadata": {},
   "source": [
    "Ở câu hỏi này ta sử dụng dữ liệu từ ngày 21/4/2022-27/4/2022 để trả lời"
   ]
  },
  {
   "cell_type": "code",
   "execution_count": 35,
   "metadata": {},
   "outputs": [
    {
     "data": {
      "image/png": "[encoded data removed]",
      "text/plain": [
       "<Figure size 864x576 with 1 Axes>"
      ]
     },
     "metadata": {
      "needs_background": "light"
     },
     "output_type": "display_data"
    }
   ],
   "source": [
    "data_2 = filtered_covid_data.copy()\n",
    "x = data_2.groupby('Date')['New Cases'].sum().to_frame()\n",
    "\n",
    "plt.figure(figsize=(12, 8))\n",
    "plt.plot(x.index, x['New Cases'], c='crimson')\n",
    "plt.bar(x.index, x['New Cases'], width=0.5)\n",
    "plt.show()"
   ]
  },
  {
   "cell_type": "markdown",
   "metadata": {},
   "source": [
    "**Nhận xét:** Số ca nhiễm giảm "
   ]
  },
  {
   "cell_type": "markdown",
   "metadata": {},
   "source": [
    "### Câu hỏi 4: Mật độ dân số ảnh hưởng như thế nào đến số ca nhiễm mỗi nước?"
   ]
  },
  {
   "cell_type": "code",
   "execution_count": 36,
   "metadata": {},
   "outputs": [
    {
     "name": "stderr",
     "output_type": "stream",
     "text": [
      "No artists with labels found to put in legend.  Note that artists whose label start with an underscore are ignored when legend() is called with no argument.\n"
     ]
    },
    {
     "data": {
      "image/png": "[encoded data removed]",
      "text/plain": [
       "<Figure size 432x288 with 1 Axes>"
      ]
     },
     "metadata": {
      "needs_background": "light"
     },
     "output_type": "display_data"
    }
   ],
   "source": [
    "data_3 = filtered_covid_data.copy()\n",
    "data_3['Density'] = data_3['Population'] / data_3['Area']\n",
    "data_3 = data_3.select_dtypes(include=['float64', 'int64']).copy()\n",
    "data_3 = (data_3-data_3.min())/(data_3.max()-data_3.min())\n",
    "plt.scatter(data_3['Density'], data_3['Total Cases'])\n",
    "plt.xlabel('Density')\n",
    "plt.ylabel('ToTal Cases')\n",
    "plt.legend()\n",
    "plt.show()"
   ]
  },
  {
   "cell_type": "markdown",
   "metadata": {},
   "source": [
    "**Nhận xét**"
   ]
  },
  {
   "cell_type": "markdown",
   "metadata": {},
   "source": [
    "### Câu hỏi 5:  Những yếu tố để một nước có tỉ lệ nhiễm cao(Tot Cases/1M pop)?"
   ]
  },
  {
   "cell_type": "code",
   "execution_count": 37,
   "metadata": {},
   "outputs": [
    {
     "data": {
      "image/png": "[encoded data removed]",
      "text/plain": [
       "<Figure size 432x288 with 2 Axes>"
      ]
     },
     "metadata": {
      "needs_background": "light"
     },
     "output_type": "display_data"
    }
   ],
   "source": [
    "data_4 = filtered_covid_data.select_dtypes(include=['float64', 'int64']).copy()\n",
    "data_4 =(data_4-data_4.min())/(data_4.max()-data_4.min())\n",
    "\n",
    "corr = data_4.corr()\n",
    "\n",
    "ax = sns.heatmap(\n",
    "    corr, \n",
    "    vmin=-1, vmax=1, center=0,\n",
    "    cmap=sns.diverging_palette(20, 220, n=200),\n",
    "    square=True\n",
    ")\n",
    "ax.set_xticklabels(\n",
    "    ax.get_xticklabels(),\n",
    "    rotation=45,\n",
    "    horizontalalignment='right'\n",
    ")\n",
    "\n",
    "plt.show()"
   ]
  },
  {
   "cell_type": "markdown",
   "metadata": {},
   "source": [
    "**Nhận xét**: Ta nhận thấy `Tests/1M pop` càng nhiều thì `Tot Cases/1M pop`  càng lớn. Có vẻ như càng test nhiều thì càng phát hiện được nhiều ca mắc covid hơn"
   ]
  },
  {
   "cell_type": "markdown",
   "metadata": {},
   "source": [
    "### Câu hỏi 6: Diễn biến dịch có gì khác nhau giữa các châu lục?"
   ]
  },
  {
   "cell_type": "code",
   "execution_count": 38,
   "metadata": {},
   "outputs": [
    {
     "data": {
      "text/html": [
       "<div>\n",
       "<style scoped>\n",
       "    .dataframe tbody tr th:only-of-type {\n",
       "        vertical-align: middle;\n",
       "    }\n",
       "\n",
       "    .dataframe tbody tr th {\n",
       "        vertical-align: top;\n",
       "    }\n",
       "\n",
       "    .dataframe thead th {\n",
       "        text-align: right;\n",
       "    }\n",
       "</style>\n",
       "<table border=\"1\" class=\"dataframe\">\n",
       "  <thead>\n",
       "    <tr style=\"text-align: right;\">\n",
       "      <th></th>\n",
       "      <th>Area</th>\n",
       "      <th>Total Cases</th>\n",
       "      <th>New Cases</th>\n",
       "      <th>Total Deaths</th>\n",
       "      <th>New Deaths</th>\n",
       "      <th>Total Recovered</th>\n",
       "      <th>New Recovered</th>\n",
       "      <th>Active Cases</th>\n",
       "      <th>Serious Critical</th>\n",
       "      <th>Tot Cases/1M pop</th>\n",
       "      <th>Deaths/1M pop</th>\n",
       "      <th>Total Tests</th>\n",
       "      <th>Tests/1M pop</th>\n",
       "      <th>Population</th>\n",
       "    </tr>\n",
       "    <tr>\n",
       "      <th>Continent</th>\n",
       "      <th></th>\n",
       "      <th></th>\n",
       "      <th></th>\n",
       "      <th></th>\n",
       "      <th></th>\n",
       "      <th></th>\n",
       "      <th></th>\n",
       "      <th></th>\n",
       "      <th></th>\n",
       "      <th></th>\n",
       "      <th></th>\n",
       "      <th></th>\n",
       "      <th></th>\n",
       "      <th></th>\n",
       "    </tr>\n",
       "  </thead>\n",
       "  <tbody>\n",
       "    <tr>\n",
       "      <th>Africa</th>\n",
       "      <td>2.122309e+08</td>\n",
       "      <td>83075701</td>\n",
       "      <td>35286.0</td>\n",
       "      <td>1975198.0</td>\n",
       "      <td>181.0</td>\n",
       "      <td>1.293809e+08</td>\n",
       "      <td>14299.0</td>\n",
       "      <td>5904755.0</td>\n",
       "      <td>63964.0</td>\n",
       "      <td>12904339.0</td>\n",
       "      <td>133548.0</td>\n",
       "      <td>1.739888e+09</td>\n",
       "      <td>1.402299e+08</td>\n",
       "      <td>9.790195e+09</td>\n",
       "    </tr>\n",
       "    <tr>\n",
       "      <th>America</th>\n",
       "      <td>2.962949e+08</td>\n",
       "      <td>1081906032</td>\n",
       "      <td>510327.0</td>\n",
       "      <td>19448893.0</td>\n",
       "      <td>3581.0</td>\n",
       "      <td>1.085480e+09</td>\n",
       "      <td>503011.0</td>\n",
       "      <td>25025350.0</td>\n",
       "      <td>148988.0</td>\n",
       "      <td>55045540.0</td>\n",
       "      <td>579558.0</td>\n",
       "      <td>9.576898e+09</td>\n",
       "      <td>6.854416e+08</td>\n",
       "      <td>7.243475e+09</td>\n",
       "    </tr>\n",
       "    <tr>\n",
       "      <th>Asia</th>\n",
       "      <td>3.334333e+08</td>\n",
       "      <td>917514322</td>\n",
       "      <td>712192.0</td>\n",
       "      <td>11790891.0</td>\n",
       "      <td>3869.0</td>\n",
       "      <td>8.899131e+08</td>\n",
       "      <td>959466.0</td>\n",
       "      <td>23099402.0</td>\n",
       "      <td>123066.0</td>\n",
       "      <td>28257692.0</td>\n",
       "      <td>198617.0</td>\n",
       "      <td>1.534253e+10</td>\n",
       "      <td>4.929770e+08</td>\n",
       "      <td>3.271897e+10</td>\n",
       "    </tr>\n",
       "    <tr>\n",
       "      <th>Europe</th>\n",
       "      <td>4.798094e+07</td>\n",
       "      <td>1317042458</td>\n",
       "      <td>2107452.0</td>\n",
       "      <td>11059902.0</td>\n",
       "      <td>7712.0</td>\n",
       "      <td>1.199899e+09</td>\n",
       "      <td>4305067.0</td>\n",
       "      <td>82177481.0</td>\n",
       "      <td>75917.0</td>\n",
       "      <td>108692660.0</td>\n",
       "      <td>811019.0</td>\n",
       "      <td>1.811798e+10</td>\n",
       "      <td>1.432971e+09</td>\n",
       "      <td>4.853800e+09</td>\n",
       "    </tr>\n",
       "    <tr>\n",
       "      <th>Oceania</th>\n",
       "      <td>5.957692e+07</td>\n",
       "      <td>47924309</td>\n",
       "      <td>359989.0</td>\n",
       "      <td>982515.0</td>\n",
       "      <td>385.0</td>\n",
       "      <td>5.905855e+07</td>\n",
       "      <td>254797.0</td>\n",
       "      <td>3726878.0</td>\n",
       "      <td>19262.0</td>\n",
       "      <td>11516471.0</td>\n",
       "      <td>80250.0</td>\n",
       "      <td>1.779461e+09</td>\n",
       "      <td>1.790212e+08</td>\n",
       "      <td>3.029401e+08</td>\n",
       "    </tr>\n",
       "  </tbody>\n",
       "</table>\n",
       "</div>"
      ],
      "text/plain": [
       "                   Area  Total Cases  New Cases  Total Deaths  New Deaths  \\\n",
       "Continent                                                                   \n",
       "Africa     2.122309e+08     83075701    35286.0     1975198.0       181.0   \n",
       "America    2.962949e+08   1081906032   510327.0    19448893.0      3581.0   \n",
       "Asia       3.334333e+08    917514322   712192.0    11790891.0      3869.0   \n",
       "Europe     4.798094e+07   1317042458  2107452.0    11059902.0      7712.0   \n",
       "Oceania    5.957692e+07     47924309   359989.0      982515.0       385.0   \n",
       "\n",
       "           Total Recovered  New Recovered  Active Cases  Serious Critical  \\\n",
       "Continent                                                                   \n",
       "Africa        1.293809e+08        14299.0     5904755.0           63964.0   \n",
       "America       1.085480e+09       503011.0    25025350.0          148988.0   \n",
       "Asia          8.899131e+08       959466.0    23099402.0          123066.0   \n",
       "Europe        1.199899e+09      4305067.0    82177481.0           75917.0   \n",
       "Oceania       5.905855e+07       254797.0     3726878.0           19262.0   \n",
       "\n",
       "           Tot Cases/1M pop  Deaths/1M pop   Total Tests  Tests/1M pop  \\\n",
       "Continent                                                                \n",
       "Africa           12904339.0       133548.0  1.739888e+09  1.402299e+08   \n",
       "America          55045540.0       579558.0  9.576898e+09  6.854416e+08   \n",
       "Asia             28257692.0       198617.0  1.534253e+10  4.929770e+08   \n",
       "Europe          108692660.0       811019.0  1.811798e+10  1.432971e+09   \n",
       "Oceania          11516471.0        80250.0  1.779461e+09  1.790212e+08   \n",
       "\n",
       "             Population  \n",
       "Continent                \n",
       "Africa     9.790195e+09  \n",
       "America    7.243475e+09  \n",
       "Asia       3.271897e+10  \n",
       "Europe     4.853800e+09  \n",
       "Oceania    3.029401e+08  "
      ]
     },
     "execution_count": 38,
     "metadata": {},
     "output_type": "execute_result"
    }
   ],
   "source": [
    "data_5 = filtered_covid_data.copy()\n",
    "data_5 = data_5.groupby(['Continent']).sum()\n",
    "data_5"
   ]
  },
  {
   "cell_type": "code",
   "execution_count": 39,
   "metadata": {},
   "outputs": [
    {
     "data": {
      "image/png": "[encoded data removed]",
      "text/plain": [
       "<Figure size 1080x1080 with 5 Axes>"
      ]
     },
     "metadata": {},
     "output_type": "display_data"
    }
   ],
   "source": [
    "columns = ['Total Cases', 'Total Deaths', 'New Cases', 'New Deaths', 'Total Tests']\n",
    "fig, axes = plt.subplots(3,2,figsize=(15,10))\n",
    "\n",
    "data_to_plot = data_5[columns]\n",
    "\n",
    "for c, ax in zip(data_to_plot.columns, axes.ravel()):\n",
    "    data_to_plot[c].plot.pie(title=c, autopct='%1.0f%%', startangle=90, ylabel=\"\", figsize=(15, 15), legend=\"Continent\", ax=ax)\n",
    "\n",
    "fig.delaxes(axes[2][1])\n",
    "fig.tight_layout()"
   ]
  }
 ],
 "metadata": {
  "interpreter": {
   "hash": "4523760acd2e98ea694316eb0cd84f0969f99d1a04363ebd38b8ee985ea4f03e"
  },
  "kernelspec": {
   "display_name": "Python 3.8.8 ('min_ds-env')",
   "language": "python",
   "name": "python3"
  },
  "language_info": {
   "codemirror_mode": {
    "name": "ipython",
    "version": 3
   },
   "file_extension": ".py",
   "mimetype": "text/x-python",
   "name": "python",
   "nbconvert_exporter": "python",
   "pygments_lexer": "ipython3",
   "version": "3.9.12"
  },
  "orig_nbformat": 4
 },
 "nbformat": 4,
 "nbformat_minor": 2
}
