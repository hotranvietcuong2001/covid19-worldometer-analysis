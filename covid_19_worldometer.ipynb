{
 "cells": [
  {
   "cell_type": "markdown",
   "metadata": {},
   "source": [
    "## Import các thư viện cần thiết"
   ]
  },
  {
   "cell_type": "code",
   "execution_count": 1,
   "metadata": {},
   "outputs": [],
   "source": [
    "import pandas as pd\n",
    "import numpy as np\n",
    "import matplotlib.pyplot as plt\n",
    "import seaborn"
   ]
  },
  {
   "cell_type": "markdown",
   "metadata": {},
   "source": [
    "---"
   ]
  },
  {
   "cell_type": "markdown",
   "metadata": {},
   "source": [
    "## Thu thập dữ liệu"
   ]
  },
  {
   "cell_type": "markdown",
   "metadata": {},
   "source": [
    "Trong bài này, ta sử dụng thư viện `Beautiful Soup` để cào dữ liệu từ trang [Wolrdometer](https://www.worldometers.info/coronavirus/) vào mỗi **23:55** hằng ngày.\n",
    "\n",
    "Chú ý rằng, ta được phép sử dụng bộ dữ liệu này cho mục đích học tập."
   ]
  },
  {
   "cell_type": "markdown",
   "metadata": {},
   "source": [
    "---"
   ]
  },
  {
   "cell_type": "markdown",
   "metadata": {},
   "source": [
    "## Khám phá dữ liệu"
   ]
  },
  {
   "cell_type": "markdown",
   "metadata": {},
   "source": [
    "### Đọc dữ liệu từ file csv vào dataframe"
   ]
  },
  {
   "cell_type": "code",
   "execution_count": 2,
   "metadata": {},
   "outputs": [
    {
     "data": {
      "text/html": [
       "<div>\n",
       "<style scoped>\n",
       "    .dataframe tbody tr th:only-of-type {\n",
       "        vertical-align: middle;\n",
       "    }\n",
       "\n",
       "    .dataframe tbody tr th {\n",
       "        vertical-align: top;\n",
       "    }\n",
       "\n",
       "    .dataframe thead th {\n",
       "        text-align: right;\n",
       "    }\n",
       "</style>\n",
       "<table border=\"1\" class=\"dataframe\">\n",
       "  <thead>\n",
       "    <tr style=\"text-align: right;\">\n",
       "      <th></th>\n",
       "      <th>Date</th>\n",
       "      <th>Country</th>\n",
       "      <th>Total Cases</th>\n",
       "      <th>New Cases</th>\n",
       "      <th>Total Deaths</th>\n",
       "      <th>New Deaths</th>\n",
       "      <th>Total Recovered</th>\n",
       "      <th>New Recovered</th>\n",
       "      <th>Active Cases</th>\n",
       "      <th>Serious Critical</th>\n",
       "      <th>Tot Cases/1M pop</th>\n",
       "      <th>Deaths/1M pop</th>\n",
       "      <th>Total Tests</th>\n",
       "      <th>Tests/1M pop</th>\n",
       "      <th>Population</th>\n",
       "    </tr>\n",
       "  </thead>\n",
       "  <tbody>\n",
       "    <tr>\n",
       "      <th>0</th>\n",
       "      <td>2022-04-19</td>\n",
       "      <td>USA</td>\n",
       "      <td>82377156</td>\n",
       "      <td>NaN</td>\n",
       "      <td>1015790.0</td>\n",
       "      <td>NaN</td>\n",
       "      <td>80244093.0</td>\n",
       "      <td>128.0</td>\n",
       "      <td>1117273.0</td>\n",
       "      <td>1438.0</td>\n",
       "      <td>246284.0</td>\n",
       "      <td>3037.0</td>\n",
       "      <td>996639125.0</td>\n",
       "      <td>2979667.0</td>\n",
       "      <td>3.344800e+08</td>\n",
       "    </tr>\n",
       "    <tr>\n",
       "      <th>1</th>\n",
       "      <td>2022-04-19</td>\n",
       "      <td>India</td>\n",
       "      <td>43045527</td>\n",
       "      <td>NaN</td>\n",
       "      <td>521996.0</td>\n",
       "      <td>NaN</td>\n",
       "      <td>42511701.0</td>\n",
       "      <td>NaN</td>\n",
       "      <td>11830.0</td>\n",
       "      <td>698.0</td>\n",
       "      <td>30652.0</td>\n",
       "      <td>372.0</td>\n",
       "      <td>832506755.0</td>\n",
       "      <td>592823.0</td>\n",
       "      <td>1.404310e+09</td>\n",
       "    </tr>\n",
       "    <tr>\n",
       "      <th>2</th>\n",
       "      <td>2022-04-19</td>\n",
       "      <td>Brazil</td>\n",
       "      <td>30261088</td>\n",
       "      <td>NaN</td>\n",
       "      <td>662076.0</td>\n",
       "      <td>NaN</td>\n",
       "      <td>29262483.0</td>\n",
       "      <td>NaN</td>\n",
       "      <td>336529.0</td>\n",
       "      <td>8318.0</td>\n",
       "      <td>140575.0</td>\n",
       "      <td>3076.0</td>\n",
       "      <td>63776166.0</td>\n",
       "      <td>296266.0</td>\n",
       "      <td>2.152663e+08</td>\n",
       "    </tr>\n",
       "    <tr>\n",
       "      <th>3</th>\n",
       "      <td>2022-04-19</td>\n",
       "      <td>France</td>\n",
       "      <td>27790834</td>\n",
       "      <td>NaN</td>\n",
       "      <td>144205.0</td>\n",
       "      <td>NaN</td>\n",
       "      <td>25132303.0</td>\n",
       "      <td>NaN</td>\n",
       "      <td>2514326.0</td>\n",
       "      <td>1541.0</td>\n",
       "      <td>424079.0</td>\n",
       "      <td>2201.0</td>\n",
       "      <td>260504402.0</td>\n",
       "      <td>3975208.0</td>\n",
       "      <td>6.553227e+07</td>\n",
       "    </tr>\n",
       "    <tr>\n",
       "      <th>4</th>\n",
       "      <td>2022-04-19</td>\n",
       "      <td>Germany</td>\n",
       "      <td>23502641</td>\n",
       "      <td>45045.0</td>\n",
       "      <td>133463.0</td>\n",
       "      <td>26.0</td>\n",
       "      <td>20347900.0</td>\n",
       "      <td>262100.0</td>\n",
       "      <td>3021278.0</td>\n",
       "      <td>1980.0</td>\n",
       "      <td>278917.0</td>\n",
       "      <td>1584.0</td>\n",
       "      <td>122332384.0</td>\n",
       "      <td>1451777.0</td>\n",
       "      <td>8.426390e+07</td>\n",
       "    </tr>\n",
       "  </tbody>\n",
       "</table>\n",
       "</div>"
      ],
      "text/plain": [
       "         Date  Country  Total Cases  New Cases  Total Deaths  New Deaths  \\\n",
       "0  2022-04-19      USA     82377156        NaN     1015790.0         NaN   \n",
       "1  2022-04-19    India     43045527        NaN      521996.0         NaN   \n",
       "2  2022-04-19   Brazil     30261088        NaN      662076.0         NaN   \n",
       "3  2022-04-19   France     27790834        NaN      144205.0         NaN   \n",
       "4  2022-04-19  Germany     23502641    45045.0      133463.0        26.0   \n",
       "\n",
       "   Total Recovered  New Recovered  Active Cases  Serious Critical  \\\n",
       "0       80244093.0          128.0     1117273.0            1438.0   \n",
       "1       42511701.0            NaN       11830.0             698.0   \n",
       "2       29262483.0            NaN      336529.0            8318.0   \n",
       "3       25132303.0            NaN     2514326.0            1541.0   \n",
       "4       20347900.0       262100.0     3021278.0            1980.0   \n",
       "\n",
       "   Tot Cases/1M pop  Deaths/1M pop  Total Tests  Tests/1M pop    Population  \n",
       "0          246284.0         3037.0  996639125.0     2979667.0  3.344800e+08  \n",
       "1           30652.0          372.0  832506755.0      592823.0  1.404310e+09  \n",
       "2          140575.0         3076.0   63776166.0      296266.0  2.152663e+08  \n",
       "3          424079.0         2201.0  260504402.0     3975208.0  6.553227e+07  \n",
       "4          278917.0         1584.0  122332384.0     1451777.0  8.426390e+07  "
      ]
     },
     "execution_count": 2,
     "metadata": {},
     "output_type": "execute_result"
    }
   ],
   "source": [
    "data = pd.read_csv('data/covid_data.csv')\n",
    "data.head()"
   ]
  },
  {
   "cell_type": "markdown",
   "metadata": {},
   "source": [
    "### Dữ liệu gồm bao nhiều dòng, bao nhiêu cột?"
   ]
  },
  {
   "cell_type": "code",
   "execution_count": 3,
   "metadata": {},
   "outputs": [
    {
     "name": "stdout",
     "output_type": "stream",
     "text": [
      "Số dòng:  228\n",
      "Số cột:  15\n"
     ]
    }
   ],
   "source": [
    "num_rows = data.shape[0]\n",
    "num_cols = data.shape[1]\n",
    "print('Số dòng: ', num_rows)\n",
    "print('Số cột: ', num_cols)"
   ]
  },
  {
   "cell_type": "markdown",
   "metadata": {},
   "source": [
    "### Mỗi dòng có ý nghĩa gì? Có vấn đề các dòng có ý nghĩa khác nhau không?"
   ]
  },
  {
   "cell_type": "markdown",
   "metadata": {},
   "source": [
    "Mỗi dòng tương ứng với thông tin số ca nhiễm của một nước trong một ngày. \n",
    "\n",
    "Có vẻ như không xảy ra các dòng có ý nghĩa khác nhau"
   ]
  },
  {
   "cell_type": "markdown",
   "metadata": {},
   "source": [
    "### Dữ liệu có các dòng bị lặp không?"
   ]
  },
  {
   "cell_type": "code",
   "execution_count": 4,
   "metadata": {},
   "outputs": [
    {
     "name": "stdout",
     "output_type": "stream",
     "text": [
      "Không có dòng lặp\n"
     ]
    }
   ],
   "source": [
    "duplicated_rows = data.duplicated().sum()\n",
    "if duplicated_rows > 0:\n",
    "    print(\"Số dòng lặp: \", duplicated_rows)\n",
    "else:\n",
    "    print(\"Không có dòng lặp\")"
   ]
  },
  {
   "cell_type": "markdown",
   "metadata": {},
   "source": [
    "Dữ liệu được thêm vào mỗi ngày nên tạm thời ta không nhận xét gì thêm ở đây"
   ]
  },
  {
   "cell_type": "markdown",
   "metadata": {},
   "source": [
    "### Mỗi cột có ý nghĩa gì?"
   ]
  },
  {
   "cell_type": "markdown",
   "metadata": {},
   "source": [
    "|Tên cột| Mô tả |\n",
    "|:-:| :--|\n",
    "|**Date**| Ngày lấy số liệu |\n",
    "|**Country**| Nước |\n",
    "|**Total Cases**| tổng số ca nhiễm mới từ trước đến nay |\n",
    "|**New Cases**| số ca mới ngày hôm nay |\n",
    "|**Total Deaths**| tổng số ca tử vong từ trước đến nay  |\n",
    "|**New Deaths**| số ca tử vong mới ngày hôm nay|\n",
    "|**Total Recovered**| tổng số ca phục hồi |\n",
    "|**New Recovered**| số ca phục hồi trong ngày|\n",
    "|**Active Cases**| số ca đang điều trị |\n",
    "|**Serious Critical**| số ca nguy kịch |\n",
    "|**Total Cases/1M pop**| số ca nhiễm / 1 triệu dân |\n",
    "|**Deaths/1M pop**| số ca từ vong/ 1 triệu dân |\n",
    "|**Total Tests**| tổng số xét nghiệm |\n",
    "|**Tests/1M pop**| số xét nghiệm/1 triệu dân |\n",
    "|**Population**| dân số |"
   ]
  },
  {
   "cell_type": "markdown",
   "metadata": {},
   "source": [
    "### Mỗi cột hiện đang có kiểu dữ liệu gì? Có cột nào có kiểu dữ liệu chưa phù hợp để có thể xử lý tiếp không?"
   ]
  },
  {
   "cell_type": "markdown",
   "metadata": {},
   "source": [
    "Giờ ta xem qua kiểu dữ liệu của các cột nhằm phát hiện cột có kiểu dữ liệu chưa phù hợp"
   ]
  },
  {
   "cell_type": "code",
   "execution_count": 5,
   "metadata": {},
   "outputs": [
    {
     "data": {
      "text/plain": [
       "Date                 object\n",
       "Country              object\n",
       "Total Cases           int64\n",
       "New Cases           float64\n",
       "Total Deaths        float64\n",
       "New Deaths          float64\n",
       "Total Recovered     float64\n",
       "New Recovered       float64\n",
       "Active Cases        float64\n",
       "Serious Critical    float64\n",
       "Tot Cases/1M pop    float64\n",
       "Deaths/1M pop       float64\n",
       "Total Tests         float64\n",
       "Tests/1M pop        float64\n",
       "Population          float64\n",
       "dtype: object"
      ]
     },
     "execution_count": 5,
     "metadata": {},
     "output_type": "execute_result"
    }
   ],
   "source": [
    "data.dtypes"
   ]
  },
  {
   "cell_type": "markdown",
   "metadata": {},
   "source": [
    "Ta cần chuyển cột `Date` sang kiểu dữ liệu `datetime`"
   ]
  },
  {
   "cell_type": "markdown",
   "metadata": {},
   "source": [
    "---"
   ]
  },
  {
   "cell_type": "markdown",
   "metadata": {},
   "source": [
    "## Tiền Xử Lý Dữ Liệu"
   ]
  },
  {
   "cell_type": "markdown",
   "metadata": {},
   "source": [
    "Ở Lab1, ta chỉ chọn 1 ngày để thực hiện yêu cầu của đề bài. Ở đây chúng ta chọn một ngày xác định **(19/4/2022)** để phân tích dữ liệu.\n",
    "\n",
    "Ta cần chuyển cột `Date`  về kiểu dữ liệu `datetime`.\n",
    "\n",
    "Bên cạnh đó, từ dữ liệu gốc, ta lọc những dòng có ngày là **(19/4/2022)**, lưu vào dataframe `filtered_covid_data`"
   ]
  },
  {
   "cell_type": "code",
   "execution_count": 6,
   "metadata": {},
   "outputs": [
    {
     "data": {
      "text/html": [
       "<div>\n",
       "<style scoped>\n",
       "    .dataframe tbody tr th:only-of-type {\n",
       "        vertical-align: middle;\n",
       "    }\n",
       "\n",
       "    .dataframe tbody tr th {\n",
       "        vertical-align: top;\n",
       "    }\n",
       "\n",
       "    .dataframe thead th {\n",
       "        text-align: right;\n",
       "    }\n",
       "</style>\n",
       "<table border=\"1\" class=\"dataframe\">\n",
       "  <thead>\n",
       "    <tr style=\"text-align: right;\">\n",
       "      <th></th>\n",
       "      <th>Date</th>\n",
       "      <th>Country</th>\n",
       "      <th>Total Cases</th>\n",
       "      <th>New Cases</th>\n",
       "      <th>Total Deaths</th>\n",
       "      <th>New Deaths</th>\n",
       "      <th>Total Recovered</th>\n",
       "      <th>New Recovered</th>\n",
       "      <th>Active Cases</th>\n",
       "      <th>Serious Critical</th>\n",
       "      <th>Tot Cases/1M pop</th>\n",
       "      <th>Deaths/1M pop</th>\n",
       "      <th>Total Tests</th>\n",
       "      <th>Tests/1M pop</th>\n",
       "      <th>Population</th>\n",
       "    </tr>\n",
       "  </thead>\n",
       "  <tbody>\n",
       "    <tr>\n",
       "      <th>0</th>\n",
       "      <td>2022-04-19</td>\n",
       "      <td>USA</td>\n",
       "      <td>82377156</td>\n",
       "      <td>NaN</td>\n",
       "      <td>1015790.0</td>\n",
       "      <td>NaN</td>\n",
       "      <td>80244093.0</td>\n",
       "      <td>128.0</td>\n",
       "      <td>1117273.0</td>\n",
       "      <td>1438.0</td>\n",
       "      <td>246284.0</td>\n",
       "      <td>3037.0</td>\n",
       "      <td>996639125.0</td>\n",
       "      <td>2979667.0</td>\n",
       "      <td>3.344800e+08</td>\n",
       "    </tr>\n",
       "    <tr>\n",
       "      <th>1</th>\n",
       "      <td>2022-04-19</td>\n",
       "      <td>India</td>\n",
       "      <td>43045527</td>\n",
       "      <td>NaN</td>\n",
       "      <td>521996.0</td>\n",
       "      <td>NaN</td>\n",
       "      <td>42511701.0</td>\n",
       "      <td>NaN</td>\n",
       "      <td>11830.0</td>\n",
       "      <td>698.0</td>\n",
       "      <td>30652.0</td>\n",
       "      <td>372.0</td>\n",
       "      <td>832506755.0</td>\n",
       "      <td>592823.0</td>\n",
       "      <td>1.404310e+09</td>\n",
       "    </tr>\n",
       "    <tr>\n",
       "      <th>2</th>\n",
       "      <td>2022-04-19</td>\n",
       "      <td>Brazil</td>\n",
       "      <td>30261088</td>\n",
       "      <td>NaN</td>\n",
       "      <td>662076.0</td>\n",
       "      <td>NaN</td>\n",
       "      <td>29262483.0</td>\n",
       "      <td>NaN</td>\n",
       "      <td>336529.0</td>\n",
       "      <td>8318.0</td>\n",
       "      <td>140575.0</td>\n",
       "      <td>3076.0</td>\n",
       "      <td>63776166.0</td>\n",
       "      <td>296266.0</td>\n",
       "      <td>2.152663e+08</td>\n",
       "    </tr>\n",
       "    <tr>\n",
       "      <th>3</th>\n",
       "      <td>2022-04-19</td>\n",
       "      <td>France</td>\n",
       "      <td>27790834</td>\n",
       "      <td>NaN</td>\n",
       "      <td>144205.0</td>\n",
       "      <td>NaN</td>\n",
       "      <td>25132303.0</td>\n",
       "      <td>NaN</td>\n",
       "      <td>2514326.0</td>\n",
       "      <td>1541.0</td>\n",
       "      <td>424079.0</td>\n",
       "      <td>2201.0</td>\n",
       "      <td>260504402.0</td>\n",
       "      <td>3975208.0</td>\n",
       "      <td>6.553227e+07</td>\n",
       "    </tr>\n",
       "    <tr>\n",
       "      <th>4</th>\n",
       "      <td>2022-04-19</td>\n",
       "      <td>Germany</td>\n",
       "      <td>23502641</td>\n",
       "      <td>45045.0</td>\n",
       "      <td>133463.0</td>\n",
       "      <td>26.0</td>\n",
       "      <td>20347900.0</td>\n",
       "      <td>262100.0</td>\n",
       "      <td>3021278.0</td>\n",
       "      <td>1980.0</td>\n",
       "      <td>278917.0</td>\n",
       "      <td>1584.0</td>\n",
       "      <td>122332384.0</td>\n",
       "      <td>1451777.0</td>\n",
       "      <td>8.426390e+07</td>\n",
       "    </tr>\n",
       "  </tbody>\n",
       "</table>\n",
       "</div>"
      ],
      "text/plain": [
       "        Date  Country  Total Cases  New Cases  Total Deaths  New Deaths  \\\n",
       "0 2022-04-19      USA     82377156        NaN     1015790.0         NaN   \n",
       "1 2022-04-19    India     43045527        NaN      521996.0         NaN   \n",
       "2 2022-04-19   Brazil     30261088        NaN      662076.0         NaN   \n",
       "3 2022-04-19   France     27790834        NaN      144205.0         NaN   \n",
       "4 2022-04-19  Germany     23502641    45045.0      133463.0        26.0   \n",
       "\n",
       "   Total Recovered  New Recovered  Active Cases  Serious Critical  \\\n",
       "0       80244093.0          128.0     1117273.0            1438.0   \n",
       "1       42511701.0            NaN       11830.0             698.0   \n",
       "2       29262483.0            NaN      336529.0            8318.0   \n",
       "3       25132303.0            NaN     2514326.0            1541.0   \n",
       "4       20347900.0       262100.0     3021278.0            1980.0   \n",
       "\n",
       "   Tot Cases/1M pop  Deaths/1M pop  Total Tests  Tests/1M pop    Population  \n",
       "0          246284.0         3037.0  996639125.0     2979667.0  3.344800e+08  \n",
       "1           30652.0          372.0  832506755.0      592823.0  1.404310e+09  \n",
       "2          140575.0         3076.0   63776166.0      296266.0  2.152663e+08  \n",
       "3          424079.0         2201.0  260504402.0     3975208.0  6.553227e+07  \n",
       "4          278917.0         1584.0  122332384.0     1451777.0  8.426390e+07  "
      ]
     },
     "execution_count": 6,
     "metadata": {},
     "output_type": "execute_result"
    }
   ],
   "source": [
    "data['Date'] = pd.to_datetime(data['Date'], format='%Y-%m-%d')\n",
    "selected_data = data[data['Date'] == '2022-04-19']\n",
    "selected_data.head()"
   ]
  },
  {
   "cell_type": "markdown",
   "metadata": {},
   "source": [
    "**Ở các bước tiếp theo ta sẽ khám phá dữ liệu trên tập dữ liệu mới (`filtered_covid_data`)**"
   ]
  },
  {
   "cell_type": "markdown",
   "metadata": {},
   "source": [
    "---"
   ]
  },
  {
   "cell_type": "markdown",
   "metadata": {},
   "source": [
    "## Khám Phá Dữ Liệu (tiếp tục)"
   ]
  },
  {
   "cell_type": "markdown",
   "metadata": {},
   "source": [
    "### Sự phân bố giá trị của mỗi cột"
   ]
  },
  {
   "cell_type": "markdown",
   "metadata": {},
   "source": [
    "#### Với mỗi cột có kiểu dữ liệu dạng numeric, các giá trị được phân bố như thế nào?"
   ]
  },
  {
   "cell_type": "markdown",
   "metadata": {},
   "source": [
    "Với các cột có kiểu dữ liệu số, ta tính:\n",
    "\n",
    "- Tỉ lệ % (từ 0 đến 100) các giá trị thiếu\n",
    "- Giá trị min\n",
    "- Giá trị lower quartile (phân vị 25)\n",
    "- Giá trị median (phân vị 50)\n",
    "- Giá trị upper quartile (phân vị 75)\n",
    "- Giá trị max"
   ]
  },
  {
   "cell_type": "code",
   "execution_count": 7,
   "metadata": {},
   "outputs": [
    {
     "data": {
      "text/html": [
       "<div>\n",
       "<style scoped>\n",
       "    .dataframe tbody tr th:only-of-type {\n",
       "        vertical-align: middle;\n",
       "    }\n",
       "\n",
       "    .dataframe tbody tr th {\n",
       "        vertical-align: top;\n",
       "    }\n",
       "\n",
       "    .dataframe thead th {\n",
       "        text-align: right;\n",
       "    }\n",
       "</style>\n",
       "<table border=\"1\" class=\"dataframe\">\n",
       "  <thead>\n",
       "    <tr style=\"text-align: right;\">\n",
       "      <th></th>\n",
       "      <th>Total Cases</th>\n",
       "      <th>New Cases</th>\n",
       "      <th>Total Deaths</th>\n",
       "      <th>New Deaths</th>\n",
       "      <th>Total Recovered</th>\n",
       "      <th>New Recovered</th>\n",
       "      <th>Active Cases</th>\n",
       "      <th>Serious Critical</th>\n",
       "      <th>Tot Cases/1M pop</th>\n",
       "      <th>Deaths/1M pop</th>\n",
       "      <th>Total Tests</th>\n",
       "      <th>Tests/1M pop</th>\n",
       "      <th>Population</th>\n",
       "    </tr>\n",
       "  </thead>\n",
       "  <tbody>\n",
       "    <tr>\n",
       "      <th>missing_percentage</th>\n",
       "      <td>0.0</td>\n",
       "      <td>72.4</td>\n",
       "      <td>3.9</td>\n",
       "      <td>82.5</td>\n",
       "      <td>6.6</td>\n",
       "      <td>73.7</td>\n",
       "      <td>6.6</td>\n",
       "      <td>32.5</td>\n",
       "      <td>0.9</td>\n",
       "      <td>4.8</td>\n",
       "      <td>7.0</td>\n",
       "      <td>7.0</td>\n",
       "      <td>9.000000e-01</td>\n",
       "    </tr>\n",
       "    <tr>\n",
       "      <th>min</th>\n",
       "      <td>1.0</td>\n",
       "      <td>1.0</td>\n",
       "      <td>1.0</td>\n",
       "      <td>1.0</td>\n",
       "      <td>1.0</td>\n",
       "      <td>1.0</td>\n",
       "      <td>0.0</td>\n",
       "      <td>1.0</td>\n",
       "      <td>9.0</td>\n",
       "      <td>2.0</td>\n",
       "      <td>5117.0</td>\n",
       "      <td>5100.0</td>\n",
       "      <td>8.050000e+02</td>\n",
       "    </tr>\n",
       "    <tr>\n",
       "      <th>lower_quartile</th>\n",
       "      <td>22491.2</td>\n",
       "      <td>76.5</td>\n",
       "      <td>222.0</td>\n",
       "      <td>3.0</td>\n",
       "      <td>13815.0</td>\n",
       "      <td>110.8</td>\n",
       "      <td>181.0</td>\n",
       "      <td>4.2</td>\n",
       "      <td>11256.2</td>\n",
       "      <td>172.0</td>\n",
       "      <td>347296.8</td>\n",
       "      <td>164665.8</td>\n",
       "      <td>5.598975e+05</td>\n",
       "    </tr>\n",
       "    <tr>\n",
       "      <th>median</th>\n",
       "      <td>163072.0</td>\n",
       "      <td>247.0</td>\n",
       "      <td>2201.0</td>\n",
       "      <td>5.5</td>\n",
       "      <td>131100.0</td>\n",
       "      <td>590.0</td>\n",
       "      <td>2329.0</td>\n",
       "      <td>20.5</td>\n",
       "      <td>88809.5</td>\n",
       "      <td>765.0</td>\n",
       "      <td>2120364.5</td>\n",
       "      <td>771243.5</td>\n",
       "      <td>5.795008e+06</td>\n",
       "    </tr>\n",
       "    <tr>\n",
       "      <th>upper_quartile</th>\n",
       "      <td>1061557.0</td>\n",
       "      <td>1714.5</td>\n",
       "      <td>13929.0</td>\n",
       "      <td>18.2</td>\n",
       "      <td>952493.0</td>\n",
       "      <td>5081.8</td>\n",
       "      <td>33852.0</td>\n",
       "      <td>168.0</td>\n",
       "      <td>228898.8</td>\n",
       "      <td>1837.0</td>\n",
       "      <td>12225069.0</td>\n",
       "      <td>2201064.2</td>\n",
       "      <td>2.184060e+07</td>\n",
       "    </tr>\n",
       "    <tr>\n",
       "      <th>max</th>\n",
       "      <td>82377156.0</td>\n",
       "      <td>118445.0</td>\n",
       "      <td>1015790.0</td>\n",
       "      <td>235.0</td>\n",
       "      <td>80244093.0</td>\n",
       "      <td>262100.0</td>\n",
       "      <td>3021278.0</td>\n",
       "      <td>8318.0</td>\n",
       "      <td>704488.0</td>\n",
       "      <td>6293.0</td>\n",
       "      <td>996639125.0</td>\n",
       "      <td>21802844.0</td>\n",
       "      <td>1.439324e+09</td>\n",
       "    </tr>\n",
       "  </tbody>\n",
       "</table>\n",
       "</div>"
      ],
      "text/plain": [
       "                    Total Cases  New Cases  Total Deaths  New Deaths  \\\n",
       "missing_percentage          0.0       72.4           3.9        82.5   \n",
       "min                         1.0        1.0           1.0         1.0   \n",
       "lower_quartile          22491.2       76.5         222.0         3.0   \n",
       "median                 163072.0      247.0        2201.0         5.5   \n",
       "upper_quartile        1061557.0     1714.5       13929.0        18.2   \n",
       "max                  82377156.0   118445.0     1015790.0       235.0   \n",
       "\n",
       "                    Total Recovered  New Recovered  Active Cases  \\\n",
       "missing_percentage              6.6           73.7           6.6   \n",
       "min                             1.0            1.0           0.0   \n",
       "lower_quartile              13815.0          110.8         181.0   \n",
       "median                     131100.0          590.0        2329.0   \n",
       "upper_quartile             952493.0         5081.8       33852.0   \n",
       "max                      80244093.0       262100.0     3021278.0   \n",
       "\n",
       "                    Serious Critical  Tot Cases/1M pop  Deaths/1M pop  \\\n",
       "missing_percentage              32.5               0.9            4.8   \n",
       "min                              1.0               9.0            2.0   \n",
       "lower_quartile                   4.2           11256.2          172.0   \n",
       "median                          20.5           88809.5          765.0   \n",
       "upper_quartile                 168.0          228898.8         1837.0   \n",
       "max                           8318.0          704488.0         6293.0   \n",
       "\n",
       "                    Total Tests  Tests/1M pop    Population  \n",
       "missing_percentage          7.0           7.0  9.000000e-01  \n",
       "min                      5117.0        5100.0  8.050000e+02  \n",
       "lower_quartile         347296.8      164665.8  5.598975e+05  \n",
       "median                2120364.5      771243.5  5.795008e+06  \n",
       "upper_quartile       12225069.0     2201064.2  2.184060e+07  \n",
       "max                 996639125.0    21802844.0  1.439324e+09  "
      ]
     },
     "execution_count": 7,
     "metadata": {},
     "output_type": "execute_result"
    }
   ],
   "source": [
    "pd.set_option(\"max_colwidth\", 300)\n",
    "pd.set_option('display.max_columns', None)\n",
    "\n",
    "nume_cols = ['Total Cases', 'New Cases', 'Total Deaths', 'New Deaths', 'Total Recovered',\n",
    "                'New Recovered', 'Active Cases', 'Serious Critical', 'Tot Cases/1M pop',\n",
    "                'Deaths/1M pop', 'Total Tests', 'Tests/1M pop', 'Population']\n",
    "\n",
    "index_nume_col =[\"missing_percentage\", \"min\", \"lower_quartile\", \"median\", \"upper_quartile\", \"max\"]\n",
    "\n",
    "data_nume_col= np.array([\n",
    "    (selected_data[nume_cols].isna().mean()*100).round(1),\n",
    "    selected_data[nume_cols].min().round(1),\n",
    "    selected_data[nume_cols].quantile(.25).round(1),\n",
    "    selected_data[nume_cols].median(),\n",
    "    selected_data[nume_cols].quantile(.75).round(1),\n",
    "    selected_data[nume_cols].max().round(1)]\n",
    ")\n",
    "nume_col_info_df = pd.DataFrame(data = data_nume_col, columns = nume_cols, index= index_nume_col)\n",
    "nume_col_info_df"
   ]
  },
  {
   "cell_type": "markdown",
   "metadata": {},
   "source": [
    "**Nhận xét**:"
   ]
  },
  {
   "cell_type": "markdown",
   "metadata": {},
   "source": [
    "#### Với mỗi cột có kiểu dữ liệu dạng categorical, các giá trị được phân bố như thế nào?"
   ]
  },
  {
   "cell_type": "markdown",
   "metadata": {},
   "source": [
    "Với các cột có kiểu dữ liệu dạng `categorical`, ta cần tính:\n",
    "\n",
    "- Tỉ lệ % (từ 0 đến 100) các giá trị thiếu\n",
    "- Số lượng các giá trị khác nhau (không xét giá trị thiếu):\n",
    "- Tỉ lệ % (từ 0 đến 100) của mỗi giá trị được sort theo tỉ lệ % giảm dần (không xét giá trị thiếu)"
   ]
  },
  {
   "cell_type": "code",
   "execution_count": 8,
   "metadata": {},
   "outputs": [
    {
     "data": {
      "text/html": [
       "<div>\n",
       "<style scoped>\n",
       "    .dataframe tbody tr th:only-of-type {\n",
       "        vertical-align: middle;\n",
       "    }\n",
       "\n",
       "    .dataframe tbody tr th {\n",
       "        vertical-align: top;\n",
       "    }\n",
       "\n",
       "    .dataframe thead th {\n",
       "        text-align: right;\n",
       "    }\n",
       "</style>\n",
       "<table border=\"1\" class=\"dataframe\">\n",
       "  <thead>\n",
       "    <tr style=\"text-align: right;\">\n",
       "      <th></th>\n",
       "      <th>Country</th>\n",
       "    </tr>\n",
       "  </thead>\n",
       "  <tbody>\n",
       "    <tr>\n",
       "      <th>missing_percentage</th>\n",
       "      <td>0.0</td>\n",
       "    </tr>\n",
       "    <tr>\n",
       "      <th>num_values</th>\n",
       "      <td>228</td>\n",
       "    </tr>\n",
       "    <tr>\n",
       "      <th>value_percentages</th>\n",
       "      <td>{'Azerbaijan': 0.43859649122807015, 'Poland': 0.43859649122807015, 'Falkland Islands': 0.43859649122807015, 'Lithuania': 0.43859649122807015, 'Burkina Faso': 0.43859649122807015, 'Guinea': 0.43859649122807015, 'Tonga': 0.43859649122807015, 'Syria': 0.43859649122807015, 'Kenya': 0.438596491228070...</td>\n",
       "    </tr>\n",
       "  </tbody>\n",
       "</table>\n",
       "</div>"
      ],
      "text/plain": [
       "                                                                                                                                                                                                                                                                                                                        Country\n",
       "missing_percentage                                                                                                                                                                                                                                                                                                          0.0\n",
       "num_values                                                                                                                                                                                                                                                                                                                  228\n",
       "value_percentages   {'Azerbaijan': 0.43859649122807015, 'Poland': 0.43859649122807015, 'Falkland Islands': 0.43859649122807015, 'Lithuania': 0.43859649122807015, 'Burkina Faso': 0.43859649122807015, 'Guinea': 0.43859649122807015, 'Tonga': 0.43859649122807015, 'Syria': 0.43859649122807015, 'Kenya': 0.438596491228070..."
      ]
     },
     "execution_count": 8,
     "metadata": {},
     "output_type": "execute_result"
    }
   ],
   "source": [
    "cate_cols = ['Country']\n",
    "index_cate_cols = [\"missing_percentage\", \"num_values\", \"value_percentages\"]\n",
    "\n",
    "\n",
    "def count_value_percentages(data):\n",
    "    return (data.value_counts()/data.count() *100).to_dict()\n",
    "\n",
    "\n",
    "data_cate_col= np.array([\n",
    "    (selected_data[cate_cols].isna().mean() *100),\n",
    "    selected_data[cate_cols].nunique(),\n",
    "    selected_data[cate_cols].agg(count_value_percentages)\n",
    "])\n",
    "\n",
    "cate_col_info_df = pd.DataFrame(data = data_cate_col, columns = cate_cols, index= index_cate_cols)\n",
    "cate_col_info_df"
   ]
  },
  {
   "cell_type": "markdown",
   "metadata": {},
   "source": [
    "**Nhận xét**:"
   ]
  },
  {
   "cell_type": "markdown",
   "metadata": {},
   "source": [
    "---"
   ]
  },
  {
   "cell_type": "markdown",
   "metadata": {},
   "source": [
    "## Tiền xử lý dữ liệu"
   ]
  },
  {
   "cell_type": "markdown",
   "metadata": {},
   "source": [
    "Ta nhận thấy cột `New Cases`, `New Recovered`, `New Deaths` có tỉ lệ thiếu rất cao > 70%. Vậy nên ta sẽ bỏ các cột này ra khỏi dataframe `selected_data`"
   ]
  },
  {
   "cell_type": "code",
   "execution_count": 9,
   "metadata": {},
   "outputs": [
    {
     "data": {
      "text/html": [
       "<div>\n",
       "<style scoped>\n",
       "    .dataframe tbody tr th:only-of-type {\n",
       "        vertical-align: middle;\n",
       "    }\n",
       "\n",
       "    .dataframe tbody tr th {\n",
       "        vertical-align: top;\n",
       "    }\n",
       "\n",
       "    .dataframe thead th {\n",
       "        text-align: right;\n",
       "    }\n",
       "</style>\n",
       "<table border=\"1\" class=\"dataframe\">\n",
       "  <thead>\n",
       "    <tr style=\"text-align: right;\">\n",
       "      <th></th>\n",
       "      <th>Date</th>\n",
       "      <th>Country</th>\n",
       "      <th>Total Cases</th>\n",
       "      <th>Total Deaths</th>\n",
       "      <th>Total Recovered</th>\n",
       "      <th>Active Cases</th>\n",
       "      <th>Serious Critical</th>\n",
       "      <th>Tot Cases/1M pop</th>\n",
       "      <th>Deaths/1M pop</th>\n",
       "      <th>Total Tests</th>\n",
       "      <th>Tests/1M pop</th>\n",
       "      <th>Population</th>\n",
       "    </tr>\n",
       "  </thead>\n",
       "  <tbody>\n",
       "    <tr>\n",
       "      <th>0</th>\n",
       "      <td>2022-04-19</td>\n",
       "      <td>USA</td>\n",
       "      <td>82377156</td>\n",
       "      <td>1015790.0</td>\n",
       "      <td>80244093.0</td>\n",
       "      <td>1117273.0</td>\n",
       "      <td>1438.0</td>\n",
       "      <td>246284.0</td>\n",
       "      <td>3037.0</td>\n",
       "      <td>996639125.0</td>\n",
       "      <td>2979667.0</td>\n",
       "      <td>3.344800e+08</td>\n",
       "    </tr>\n",
       "    <tr>\n",
       "      <th>1</th>\n",
       "      <td>2022-04-19</td>\n",
       "      <td>India</td>\n",
       "      <td>43045527</td>\n",
       "      <td>521996.0</td>\n",
       "      <td>42511701.0</td>\n",
       "      <td>11830.0</td>\n",
       "      <td>698.0</td>\n",
       "      <td>30652.0</td>\n",
       "      <td>372.0</td>\n",
       "      <td>832506755.0</td>\n",
       "      <td>592823.0</td>\n",
       "      <td>1.404310e+09</td>\n",
       "    </tr>\n",
       "    <tr>\n",
       "      <th>2</th>\n",
       "      <td>2022-04-19</td>\n",
       "      <td>Brazil</td>\n",
       "      <td>30261088</td>\n",
       "      <td>662076.0</td>\n",
       "      <td>29262483.0</td>\n",
       "      <td>336529.0</td>\n",
       "      <td>8318.0</td>\n",
       "      <td>140575.0</td>\n",
       "      <td>3076.0</td>\n",
       "      <td>63776166.0</td>\n",
       "      <td>296266.0</td>\n",
       "      <td>2.152663e+08</td>\n",
       "    </tr>\n",
       "    <tr>\n",
       "      <th>3</th>\n",
       "      <td>2022-04-19</td>\n",
       "      <td>France</td>\n",
       "      <td>27790834</td>\n",
       "      <td>144205.0</td>\n",
       "      <td>25132303.0</td>\n",
       "      <td>2514326.0</td>\n",
       "      <td>1541.0</td>\n",
       "      <td>424079.0</td>\n",
       "      <td>2201.0</td>\n",
       "      <td>260504402.0</td>\n",
       "      <td>3975208.0</td>\n",
       "      <td>6.553227e+07</td>\n",
       "    </tr>\n",
       "    <tr>\n",
       "      <th>4</th>\n",
       "      <td>2022-04-19</td>\n",
       "      <td>Germany</td>\n",
       "      <td>23502641</td>\n",
       "      <td>133463.0</td>\n",
       "      <td>20347900.0</td>\n",
       "      <td>3021278.0</td>\n",
       "      <td>1980.0</td>\n",
       "      <td>278917.0</td>\n",
       "      <td>1584.0</td>\n",
       "      <td>122332384.0</td>\n",
       "      <td>1451777.0</td>\n",
       "      <td>8.426390e+07</td>\n",
       "    </tr>\n",
       "  </tbody>\n",
       "</table>\n",
       "</div>"
      ],
      "text/plain": [
       "        Date  Country  Total Cases  Total Deaths  Total Recovered  \\\n",
       "0 2022-04-19      USA     82377156     1015790.0       80244093.0   \n",
       "1 2022-04-19    India     43045527      521996.0       42511701.0   \n",
       "2 2022-04-19   Brazil     30261088      662076.0       29262483.0   \n",
       "3 2022-04-19   France     27790834      144205.0       25132303.0   \n",
       "4 2022-04-19  Germany     23502641      133463.0       20347900.0   \n",
       "\n",
       "   Active Cases  Serious Critical  Tot Cases/1M pop  Deaths/1M pop  \\\n",
       "0     1117273.0            1438.0          246284.0         3037.0   \n",
       "1       11830.0             698.0           30652.0          372.0   \n",
       "2      336529.0            8318.0          140575.0         3076.0   \n",
       "3     2514326.0            1541.0          424079.0         2201.0   \n",
       "4     3021278.0            1980.0          278917.0         1584.0   \n",
       "\n",
       "   Total Tests  Tests/1M pop    Population  \n",
       "0  996639125.0     2979667.0  3.344800e+08  \n",
       "1  832506755.0      592823.0  1.404310e+09  \n",
       "2   63776166.0      296266.0  2.152663e+08  \n",
       "3  260504402.0     3975208.0  6.553227e+07  \n",
       "4  122332384.0     1451777.0  8.426390e+07  "
      ]
     },
     "execution_count": 9,
     "metadata": {},
     "output_type": "execute_result"
    }
   ],
   "source": [
    "selected_data.drop(['New Cases', 'New Recovered',  'New Deaths'], axis=1, inplace=True)\n",
    "selected_data.head()"
   ]
  },
  {
   "cell_type": "markdown",
   "metadata": {},
   "source": [
    "Hiện tại có một số cột đang thiết dữ liệu, những cột đó đang chứa kiểu dữ liệu số, ta tiến hành điền mean vào giá trị thiếu"
   ]
  },
  {
   "cell_type": "code",
   "execution_count": 10,
   "metadata": {},
   "outputs": [
    {
     "name": "stdout",
     "output_type": "stream",
     "text": [
      "<class 'pandas.core.frame.DataFrame'>\n",
      "Int64Index: 228 entries, 0 to 227\n",
      "Data columns (total 12 columns):\n",
      " #   Column            Non-Null Count  Dtype         \n",
      "---  ------            --------------  -----         \n",
      " 0   Date              228 non-null    datetime64[ns]\n",
      " 1   Country           228 non-null    object        \n",
      " 2   Total Cases       228 non-null    int64         \n",
      " 3   Total Deaths      228 non-null    float64       \n",
      " 4   Total Recovered   228 non-null    float64       \n",
      " 5   Active Cases      228 non-null    float64       \n",
      " 6   Serious Critical  228 non-null    float64       \n",
      " 7   Tot Cases/1M pop  228 non-null    float64       \n",
      " 8   Deaths/1M pop     228 non-null    float64       \n",
      " 9   Total Tests       228 non-null    float64       \n",
      " 10  Tests/1M pop      228 non-null    float64       \n",
      " 11  Population        228 non-null    float64       \n",
      "dtypes: datetime64[ns](1), float64(9), int64(1), object(1)\n",
      "memory usage: 23.2+ KB\n"
     ]
    }
   ],
   "source": [
    "miss_value_cols = ['Total Deaths', 'Total Recovered', 'Active Cases', 'Serious Critical',\n",
    "                    'Tot Cases/1M pop', 'Deaths/1M pop', 'Total Tests', 'Tests/1M pop', 'Population']\n",
    "\n",
    "def fill_mean_value(col):\n",
    "    mean_value = int(np.mean(col, axis = 0))\n",
    "    col.replace(np.nan, mean_value, inplace=True)\n",
    "    return col\n",
    "\n",
    "selected_data[miss_value_cols] = selected_data[miss_value_cols].apply(fill_mean_value)\n",
    "selected_data.info()"
   ]
  },
  {
   "cell_type": "markdown",
   "metadata": {},
   "source": [
    "Sau cùng ta lưu dữ liệu đã qua tiền xử lý vào file `preprocessed_covid_data`"
   ]
  },
  {
   "cell_type": "code",
   "execution_count": 11,
   "metadata": {},
   "outputs": [],
   "source": [
    "selected_data.to_csv('data/preprocessed_covid_data.csv')"
   ]
  },
  {
   "cell_type": "markdown",
   "metadata": {},
   "source": [
    "---"
   ]
  },
  {
   "cell_type": "markdown",
   "metadata": {},
   "source": [
    "## Đưa ra câu hỏi ý nghĩa cần trả lời"
   ]
  },
  {
   "cell_type": "markdown",
   "metadata": {},
   "source": []
  }
 ],
 "metadata": {
  "interpreter": {
   "hash": "4523760acd2e98ea694316eb0cd84f0969f99d1a04363ebd38b8ee985ea4f03e"
  },
  "kernelspec": {
   "display_name": "Python 3.8.8 ('min_ds-env')",
   "language": "python",
   "name": "python3"
  },
  "language_info": {
   "codemirror_mode": {
    "name": "ipython",
    "version": 3
   },
   "file_extension": ".py",
   "mimetype": "text/x-python",
   "name": "python",
   "nbconvert_exporter": "python",
   "pygments_lexer": "ipython3",
   "version": "3.8.8"
  },
  "orig_nbformat": 4
 },
 "nbformat": 4,
 "nbformat_minor": 2
}
