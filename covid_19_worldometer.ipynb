{
 "cells": [
  {
   "cell_type": "markdown",
   "metadata": {},
   "source": [
    "## Import"
   ]
  },
  {
   "cell_type": "code",
   "execution_count": 1,
   "metadata": {},
   "outputs": [],
   "source": [
    "import pandas as pd\n",
    "import numpy as np\n",
    "import matplotlib.pyplot as plt"
   ]
  },
  {
   "cell_type": "markdown",
   "metadata": {},
   "source": [
    "## Đọc dữ liêu"
   ]
  },
  {
   "cell_type": "code",
   "execution_count": 3,
   "metadata": {},
   "outputs": [
    {
     "data": {
      "text/html": [
       "<div>\n",
       "<style scoped>\n",
       "    .dataframe tbody tr th:only-of-type {\n",
       "        vertical-align: middle;\n",
       "    }\n",
       "\n",
       "    .dataframe tbody tr th {\n",
       "        vertical-align: top;\n",
       "    }\n",
       "\n",
       "    .dataframe thead th {\n",
       "        text-align: right;\n",
       "    }\n",
       "</style>\n",
       "<table border=\"1\" class=\"dataframe\">\n",
       "  <thead>\n",
       "    <tr style=\"text-align: right;\">\n",
       "      <th></th>\n",
       "      <th>Date</th>\n",
       "      <th>Country</th>\n",
       "      <th>Total Cases</th>\n",
       "      <th>New Cases</th>\n",
       "      <th>Total Deaths</th>\n",
       "      <th>New Deaths</th>\n",
       "      <th>Total Recovered</th>\n",
       "      <th>New Recovered</th>\n",
       "      <th>Active Cases</th>\n",
       "      <th>Serious Critical</th>\n",
       "      <th>Tot Cases/1M pop</th>\n",
       "      <th>Deaths/1M pop</th>\n",
       "      <th>Total Tests</th>\n",
       "      <th>Tests/1M pop</th>\n",
       "      <th>Population</th>\n",
       "    </tr>\n",
       "  </thead>\n",
       "  <tbody>\n",
       "    <tr>\n",
       "      <th>0</th>\n",
       "      <td>2022-04-18</td>\n",
       "      <td>USA</td>\n",
       "      <td>82316348</td>\n",
       "      <td>NaN</td>\n",
       "      <td>1015451.0</td>\n",
       "      <td>NaN</td>\n",
       "      <td>80202314.0</td>\n",
       "      <td>NaN</td>\n",
       "      <td>1098583.0</td>\n",
       "      <td>1459.0</td>\n",
       "      <td>246106.0</td>\n",
       "      <td>3036.0</td>\n",
       "      <td>995859564.0</td>\n",
       "      <td>2977384.0</td>\n",
       "      <td>3.344747e+08</td>\n",
       "    </tr>\n",
       "    <tr>\n",
       "      <th>1</th>\n",
       "      <td>2022-04-18</td>\n",
       "      <td>India</td>\n",
       "      <td>43044280</td>\n",
       "      <td>NaN</td>\n",
       "      <td>521965.0</td>\n",
       "      <td>NaN</td>\n",
       "      <td>42510773.0</td>\n",
       "      <td>NaN</td>\n",
       "      <td>11542.0</td>\n",
       "      <td>698.0</td>\n",
       "      <td>30652.0</td>\n",
       "      <td>372.0</td>\n",
       "      <td>832104846.0</td>\n",
       "      <td>592552.0</td>\n",
       "      <td>1.404273e+09</td>\n",
       "    </tr>\n",
       "    <tr>\n",
       "      <th>2</th>\n",
       "      <td>2022-04-18</td>\n",
       "      <td>Brazil</td>\n",
       "      <td>30252618</td>\n",
       "      <td>NaN</td>\n",
       "      <td>662011.0</td>\n",
       "      <td>NaN</td>\n",
       "      <td>29227051.0</td>\n",
       "      <td>NaN</td>\n",
       "      <td>363556.0</td>\n",
       "      <td>8318.0</td>\n",
       "      <td>140538.0</td>\n",
       "      <td>3075.0</td>\n",
       "      <td>63776166.0</td>\n",
       "      <td>296272.0</td>\n",
       "      <td>2.152622e+08</td>\n",
       "    </tr>\n",
       "    <tr>\n",
       "      <th>3</th>\n",
       "      <td>2022-04-18</td>\n",
       "      <td>France</td>\n",
       "      <td>27771024</td>\n",
       "      <td>NaN</td>\n",
       "      <td>144157.0</td>\n",
       "      <td>NaN</td>\n",
       "      <td>24914871.0</td>\n",
       "      <td>NaN</td>\n",
       "      <td>2711996.0</td>\n",
       "      <td>1541.0</td>\n",
       "      <td>423779.0</td>\n",
       "      <td>2200.0</td>\n",
       "      <td>260504402.0</td>\n",
       "      <td>3975232.0</td>\n",
       "      <td>6.553188e+07</td>\n",
       "    </tr>\n",
       "    <tr>\n",
       "      <th>4</th>\n",
       "      <td>2022-04-18</td>\n",
       "      <td>Germany</td>\n",
       "      <td>23438293</td>\n",
       "      <td>NaN</td>\n",
       "      <td>133429.0</td>\n",
       "      <td>NaN</td>\n",
       "      <td>20085800.0</td>\n",
       "      <td>205500.0</td>\n",
       "      <td>3219064.0</td>\n",
       "      <td>1980.0</td>\n",
       "      <td>278156.0</td>\n",
       "      <td>1583.0</td>\n",
       "      <td>122332384.0</td>\n",
       "      <td>1451790.0</td>\n",
       "      <td>8.426317e+07</td>\n",
       "    </tr>\n",
       "  </tbody>\n",
       "</table>\n",
       "</div>"
      ],
      "text/plain": [
       "         Date  Country  Total Cases  New Cases  Total Deaths  New Deaths  \\\n",
       "0  2022-04-18      USA     82316348        NaN     1015451.0         NaN   \n",
       "1  2022-04-18    India     43044280        NaN      521965.0         NaN   \n",
       "2  2022-04-18   Brazil     30252618        NaN      662011.0         NaN   \n",
       "3  2022-04-18   France     27771024        NaN      144157.0         NaN   \n",
       "4  2022-04-18  Germany     23438293        NaN      133429.0         NaN   \n",
       "\n",
       "   Total Recovered  New Recovered  Active Cases  Serious Critical  \\\n",
       "0       80202314.0            NaN     1098583.0            1459.0   \n",
       "1       42510773.0            NaN       11542.0             698.0   \n",
       "2       29227051.0            NaN      363556.0            8318.0   \n",
       "3       24914871.0            NaN     2711996.0            1541.0   \n",
       "4       20085800.0       205500.0     3219064.0            1980.0   \n",
       "\n",
       "   Tot Cases/1M pop  Deaths/1M pop  Total Tests  Tests/1M pop    Population  \n",
       "0          246106.0         3036.0  995859564.0     2977384.0  3.344747e+08  \n",
       "1           30652.0          372.0  832104846.0      592552.0  1.404273e+09  \n",
       "2          140538.0         3075.0   63776166.0      296272.0  2.152622e+08  \n",
       "3          423779.0         2200.0  260504402.0     3975232.0  6.553188e+07  \n",
       "4          278156.0         1583.0  122332384.0     1451790.0  8.426317e+07  "
      ]
     },
     "execution_count": 3,
     "metadata": {},
     "output_type": "execute_result"
    }
   ],
   "source": [
    "data = pd.read_csv('data/covid_data.csv')\n",
    "data.head()"
   ]
  },
  {
   "cell_type": "markdown",
   "metadata": {},
   "source": [
    "## Khám phá dữ liệu"
   ]
  },
  {
   "cell_type": "code",
   "execution_count": null,
   "metadata": {},
   "outputs": [],
   "source": []
  },
  {
   "cell_type": "markdown",
   "metadata": {},
   "source": [
    "## Tiền xử lý dữ liệu"
   ]
  },
  {
   "cell_type": "code",
   "execution_count": null,
   "metadata": {},
   "outputs": [],
   "source": []
  }
 ],
 "metadata": {
  "interpreter": {
   "hash": "4523760acd2e98ea694316eb0cd84f0969f99d1a04363ebd38b8ee985ea4f03e"
  },
  "kernelspec": {
   "display_name": "Python 3.8.8 ('min_ds-env')",
   "language": "python",
   "name": "python3"
  },
  "language_info": {
   "codemirror_mode": {
    "name": "ipython",
    "version": 3
   },
   "file_extension": ".py",
   "mimetype": "text/x-python",
   "name": "python",
   "nbconvert_exporter": "python",
   "pygments_lexer": "ipython3",
   "version": "3.8.8"
  },
  "orig_nbformat": 4
 },
 "nbformat": 4,
 "nbformat_minor": 2
}
