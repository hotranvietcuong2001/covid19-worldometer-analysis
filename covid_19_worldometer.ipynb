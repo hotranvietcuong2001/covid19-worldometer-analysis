{
 "cells": [
  {
   "cell_type": "markdown",
   "metadata": {},
   "source": [
    "## Import các thư viện cần thiết"
   ]
  },
  {
   "cell_type": "code",
   "execution_count": 1,
   "metadata": {},
   "outputs": [],
   "source": [
    "import pandas as pd\n",
    "import numpy as np\n",
    "import matplotlib.pyplot as plt\n",
    "import seaborn as sns"
   ]
  },
  {
   "cell_type": "markdown",
   "metadata": {},
   "source": [
    "---"
   ]
  },
  {
   "cell_type": "markdown",
   "metadata": {},
   "source": [
    "## Thu thập dữ liệu"
   ]
  },
  {
   "cell_type": "markdown",
   "metadata": {},
   "source": [
    "Trong bài này, ta sử dụng thư viện `Beautiful Soup` để cào dữ liệu từ trang [Wolrdometer](https://www.worldometers.info/coronavirus/) vào mỗi **7:00** hằng ngày.\n",
    "\n",
    "Chú ý rằng, ta được phép sử dụng bộ dữ liệu này cho mục đích học tập."
   ]
  },
  {
   "cell_type": "markdown",
   "metadata": {},
   "source": [
    "---"
   ]
  },
  {
   "cell_type": "markdown",
   "metadata": {},
   "source": [
    "## Khám phá dữ liệu"
   ]
  },
  {
   "cell_type": "markdown",
   "metadata": {},
   "source": [
    "### Đọc dữ liệu từ file csv vào dataframe"
   ]
  },
  {
   "cell_type": "code",
   "execution_count": 2,
   "metadata": {},
   "outputs": [
    {
     "data": {
      "text/html": [
       "<div>\n",
       "<style scoped>\n",
       "    .dataframe tbody tr th:only-of-type {\n",
       "        vertical-align: middle;\n",
       "    }\n",
       "\n",
       "    .dataframe tbody tr th {\n",
       "        vertical-align: top;\n",
       "    }\n",
       "\n",
       "    .dataframe thead th {\n",
       "        text-align: right;\n",
       "    }\n",
       "</style>\n",
       "<table border=\"1\" class=\"dataframe\">\n",
       "  <thead>\n",
       "    <tr style=\"text-align: right;\">\n",
       "      <th></th>\n",
       "      <th>Date</th>\n",
       "      <th>Country</th>\n",
       "      <th>Total Cases</th>\n",
       "      <th>New Cases</th>\n",
       "      <th>Total Deaths</th>\n",
       "      <th>New Deaths</th>\n",
       "      <th>Total Recovered</th>\n",
       "      <th>New Recovered</th>\n",
       "      <th>Active Cases</th>\n",
       "      <th>Serious Critical</th>\n",
       "      <th>Tot Cases/1M pop</th>\n",
       "      <th>Deaths/1M pop</th>\n",
       "      <th>Total Tests</th>\n",
       "      <th>Tests/1M pop</th>\n",
       "      <th>Population</th>\n",
       "    </tr>\n",
       "  </thead>\n",
       "  <tbody>\n",
       "    <tr>\n",
       "      <th>0</th>\n",
       "      <td>2022-04-21</td>\n",
       "      <td>China</td>\n",
       "      <td>193953</td>\n",
       "      <td>2841.0</td>\n",
       "      <td>4663.0</td>\n",
       "      <td>8.0</td>\n",
       "      <td>157869.0</td>\n",
       "      <td>2185.0</td>\n",
       "      <td>31421.0</td>\n",
       "      <td>223.0</td>\n",
       "      <td>135.0</td>\n",
       "      <td>3.0</td>\n",
       "      <td>160000000.0</td>\n",
       "      <td>111163.0</td>\n",
       "      <td>1.439324e+09</td>\n",
       "    </tr>\n",
       "    <tr>\n",
       "      <th>1</th>\n",
       "      <td>2022-04-21</td>\n",
       "      <td>USA</td>\n",
       "      <td>82553058</td>\n",
       "      <td>45204.0</td>\n",
       "      <td>1017609.0</td>\n",
       "      <td>299.0</td>\n",
       "      <td>80355389.0</td>\n",
       "      <td>34592.0</td>\n",
       "      <td>1180060.0</td>\n",
       "      <td>1492.0</td>\n",
       "      <td>246798.0</td>\n",
       "      <td>3042.0</td>\n",
       "      <td>999047824.0</td>\n",
       "      <td>2986727.0</td>\n",
       "      <td>3.344959e+08</td>\n",
       "    </tr>\n",
       "    <tr>\n",
       "      <th>2</th>\n",
       "      <td>2022-04-21</td>\n",
       "      <td>India</td>\n",
       "      <td>43050877</td>\n",
       "      <td>903.0</td>\n",
       "      <td>522095.0</td>\n",
       "      <td>33.0</td>\n",
       "      <td>42514479.0</td>\n",
       "      <td>NaN</td>\n",
       "      <td>14303.0</td>\n",
       "      <td>698.0</td>\n",
       "      <td>30654.0</td>\n",
       "      <td>372.0</td>\n",
       "      <td>833377052.0</td>\n",
       "      <td>593395.0</td>\n",
       "      <td>1.404421e+09</td>\n",
       "    </tr>\n",
       "    <tr>\n",
       "      <th>3</th>\n",
       "      <td>2022-04-21</td>\n",
       "      <td>Brazil</td>\n",
       "      <td>30330629</td>\n",
       "      <td>18660.0</td>\n",
       "      <td>662556.0</td>\n",
       "      <td>86.0</td>\n",
       "      <td>29353398.0</td>\n",
       "      <td>12596.0</td>\n",
       "      <td>314675.0</td>\n",
       "      <td>8318.0</td>\n",
       "      <td>140890.0</td>\n",
       "      <td>3078.0</td>\n",
       "      <td>63776166.0</td>\n",
       "      <td>296249.0</td>\n",
       "      <td>2.152787e+08</td>\n",
       "    </tr>\n",
       "    <tr>\n",
       "      <th>4</th>\n",
       "      <td>2022-04-21</td>\n",
       "      <td>France</td>\n",
       "      <td>28076017</td>\n",
       "      <td>104007.0</td>\n",
       "      <td>144799.0</td>\n",
       "      <td>185.0</td>\n",
       "      <td>25618858.0</td>\n",
       "      <td>148402.0</td>\n",
       "      <td>2312360.0</td>\n",
       "      <td>1677.0</td>\n",
       "      <td>428423.0</td>\n",
       "      <td>2210.0</td>\n",
       "      <td>266484045.0</td>\n",
       "      <td>4066382.0</td>\n",
       "      <td>6.553345e+07</td>\n",
       "    </tr>\n",
       "  </tbody>\n",
       "</table>\n",
       "</div>"
      ],
      "text/plain": [
       "         Date Country  Total Cases  New Cases  Total Deaths  New Deaths  \\\n",
       "0  2022-04-21   China       193953     2841.0        4663.0         8.0   \n",
       "1  2022-04-21     USA     82553058    45204.0     1017609.0       299.0   \n",
       "2  2022-04-21   India     43050877      903.0      522095.0        33.0   \n",
       "3  2022-04-21  Brazil     30330629    18660.0      662556.0        86.0   \n",
       "4  2022-04-21  France     28076017   104007.0      144799.0       185.0   \n",
       "\n",
       "   Total Recovered  New Recovered  Active Cases  Serious Critical  \\\n",
       "0         157869.0         2185.0       31421.0             223.0   \n",
       "1       80355389.0        34592.0     1180060.0            1492.0   \n",
       "2       42514479.0            NaN       14303.0             698.0   \n",
       "3       29353398.0        12596.0      314675.0            8318.0   \n",
       "4       25618858.0       148402.0     2312360.0            1677.0   \n",
       "\n",
       "   Tot Cases/1M pop  Deaths/1M pop  Total Tests  Tests/1M pop    Population  \n",
       "0             135.0            3.0  160000000.0      111163.0  1.439324e+09  \n",
       "1          246798.0         3042.0  999047824.0     2986727.0  3.344959e+08  \n",
       "2           30654.0          372.0  833377052.0      593395.0  1.404421e+09  \n",
       "3          140890.0         3078.0   63776166.0      296249.0  2.152787e+08  \n",
       "4          428423.0         2210.0  266484045.0     4066382.0  6.553345e+07  "
      ]
     },
     "execution_count": 2,
     "metadata": {},
     "output_type": "execute_result"
    }
   ],
   "source": [
    "data = pd.read_csv('data/covid_data.csv')\n",
    "continent_data = pd.read_csv('data/countries_by_continents.csv')\n",
    "data.head()"
   ]
  },
  {
   "cell_type": "code",
   "execution_count": 3,
   "metadata": {},
   "outputs": [
    {
     "data": {
      "text/html": [
       "<div>\n",
       "<style scoped>\n",
       "    .dataframe tbody tr th:only-of-type {\n",
       "        vertical-align: middle;\n",
       "    }\n",
       "\n",
       "    .dataframe tbody tr th {\n",
       "        vertical-align: top;\n",
       "    }\n",
       "\n",
       "    .dataframe thead th {\n",
       "        text-align: right;\n",
       "    }\n",
       "</style>\n",
       "<table border=\"1\" class=\"dataframe\">\n",
       "  <thead>\n",
       "    <tr style=\"text-align: right;\">\n",
       "      <th></th>\n",
       "      <th>Country</th>\n",
       "      <th>Continent</th>\n",
       "      <th>Area</th>\n",
       "    </tr>\n",
       "  </thead>\n",
       "  <tbody>\n",
       "    <tr>\n",
       "      <th>0</th>\n",
       "      <td>China</td>\n",
       "      <td>Asia</td>\n",
       "      <td>9640011.0</td>\n",
       "    </tr>\n",
       "    <tr>\n",
       "      <th>1</th>\n",
       "      <td>USA</td>\n",
       "      <td>America</td>\n",
       "      <td>9629091.0</td>\n",
       "    </tr>\n",
       "    <tr>\n",
       "      <th>2</th>\n",
       "      <td>India</td>\n",
       "      <td>Asia</td>\n",
       "      <td>3287590.0</td>\n",
       "    </tr>\n",
       "    <tr>\n",
       "      <th>3</th>\n",
       "      <td>Brazil</td>\n",
       "      <td>America</td>\n",
       "      <td>8515767.0</td>\n",
       "    </tr>\n",
       "    <tr>\n",
       "      <th>4</th>\n",
       "      <td>France</td>\n",
       "      <td>Europe</td>\n",
       "      <td>640679.0</td>\n",
       "    </tr>\n",
       "  </tbody>\n",
       "</table>\n",
       "</div>"
      ],
      "text/plain": [
       "  Country Continent       Area\n",
       "0   China      Asia  9640011.0\n",
       "1     USA   America  9629091.0\n",
       "2   India      Asia  3287590.0\n",
       "3  Brazil   America  8515767.0\n",
       "4  France    Europe   640679.0"
      ]
     },
     "execution_count": 3,
     "metadata": {},
     "output_type": "execute_result"
    }
   ],
   "source": [
    "continent_data.head()"
   ]
  },
  {
   "cell_type": "markdown",
   "metadata": {},
   "source": [
    "### Dữ liệu gồm bao nhiều dòng, bao nhiêu cột?"
   ]
  },
  {
   "cell_type": "code",
   "execution_count": 4,
   "metadata": {},
   "outputs": [
    {
     "name": "stdout",
     "output_type": "stream",
     "text": [
      "Số dòng:  2052\n",
      "Số cột:  15\n"
     ]
    }
   ],
   "source": [
    "num_rows = data.shape[0]\n",
    "num_cols = data.shape[1]\n",
    "print('Số dòng: ', num_rows)\n",
    "print('Số cột: ', num_cols)"
   ]
  },
  {
   "cell_type": "markdown",
   "metadata": {},
   "source": [
    "### Mỗi dòng có ý nghĩa gì? Có vấn đề các dòng có ý nghĩa khác nhau không?"
   ]
  },
  {
   "cell_type": "markdown",
   "metadata": {},
   "source": [
    "Mỗi dòng tương ứng với thông tin số ca nhiễm của một nước trong một ngày. \n",
    "\n",
    "Có vẻ như không xảy ra các dòng có ý nghĩa khác nhau"
   ]
  },
  {
   "cell_type": "markdown",
   "metadata": {},
   "source": [
    "### Dữ liệu có các dòng bị lặp không?"
   ]
  },
  {
   "cell_type": "code",
   "execution_count": 5,
   "metadata": {},
   "outputs": [
    {
     "name": "stdout",
     "output_type": "stream",
     "text": [
      "Không có dòng lặp\n"
     ]
    }
   ],
   "source": [
    "duplicated_rows = data.duplicated().sum()\n",
    "if duplicated_rows > 0:\n",
    "    print(\"Số dòng lặp: \", duplicated_rows)\n",
    "else:\n",
    "    print(\"Không có dòng lặp\")"
   ]
  },
  {
   "cell_type": "markdown",
   "metadata": {},
   "source": [
    "Dữ liệu được thêm vào mỗi ngày nên tạm thời ta không nhận xét gì thêm ở đây"
   ]
  },
  {
   "cell_type": "markdown",
   "metadata": {},
   "source": [
    "### Mỗi cột có ý nghĩa gì?"
   ]
  },
  {
   "cell_type": "markdown",
   "metadata": {},
   "source": [
    "|Tên cột| Mô tả |\n",
    "|:-:| :--|\n",
    "|**Date**| Ngày lấy số liệu |\n",
    "|**Country**| Nước |\n",
    "|**Total Cases**| tổng số ca nhiễm mới từ trước đến nay |\n",
    "|**New Cases**| số ca mới ngày hôm nay |\n",
    "|**Total Deaths**| tổng số ca tử vong từ trước đến nay  |\n",
    "|**New Deaths**| số ca tử vong mới ngày hôm nay|\n",
    "|**Total Recovered**| tổng số ca phục hồi |\n",
    "|**New Recovered**| số ca phục hồi trong ngày|\n",
    "|**Active Cases**| số ca đang điều trị |\n",
    "|**Serious Critical**| số ca nguy kịch |\n",
    "|**Total Cases/1M pop**| số ca nhiễm / 1 triệu dân |\n",
    "|**Deaths/1M pop**| số ca từ vong/ 1 triệu dân |\n",
    "|**Total Tests**| tổng số xét nghiệm |\n",
    "|**Tests/1M pop**| số xét nghiệm/1 triệu dân |\n",
    "|**Population**| dân số |"
   ]
  },
  {
   "cell_type": "markdown",
   "metadata": {},
   "source": [
    "### Mỗi cột hiện đang có kiểu dữ liệu gì? Có cột nào có kiểu dữ liệu chưa phù hợp để có thể xử lý tiếp không?"
   ]
  },
  {
   "cell_type": "markdown",
   "metadata": {},
   "source": [
    "Giờ ta xem qua kiểu dữ liệu của các cột nhằm phát hiện cột có kiểu dữ liệu chưa phù hợp"
   ]
  },
  {
   "cell_type": "code",
   "execution_count": 6,
   "metadata": {},
   "outputs": [
    {
     "data": {
      "text/plain": [
       "Date                 object\n",
       "Country              object\n",
       "Total Cases           int64\n",
       "New Cases           float64\n",
       "Total Deaths        float64\n",
       "New Deaths          float64\n",
       "Total Recovered     float64\n",
       "New Recovered       float64\n",
       "Active Cases        float64\n",
       "Serious Critical    float64\n",
       "Tot Cases/1M pop    float64\n",
       "Deaths/1M pop       float64\n",
       "Total Tests         float64\n",
       "Tests/1M pop        float64\n",
       "Population          float64\n",
       "dtype: object"
      ]
     },
     "execution_count": 6,
     "metadata": {},
     "output_type": "execute_result"
    }
   ],
   "source": [
    "data.dtypes"
   ]
  },
  {
   "cell_type": "markdown",
   "metadata": {},
   "source": [
    "Ta cần chuyển cột `Date` sang kiểu dữ liệu `datetime`"
   ]
  },
  {
   "cell_type": "markdown",
   "metadata": {},
   "source": [
    "---"
   ]
  },
  {
   "cell_type": "markdown",
   "metadata": {},
   "source": [
    "## Tiền Xử Lý Dữ Liệu"
   ]
  },
  {
   "cell_type": "markdown",
   "metadata": {},
   "source": [
    "Ở Lab1, ta sẽ chỉ làm trên dữ liệu từ ngày **21/4/2022-28/4/20022**\n",
    "\n",
    "Ta cần chuyển cột `Date`  về kiểu dữ liệu `datetime`.\n",
    "\n",
    "Bên cạnh đó, từ dữ liệu gốc, ta lọc những dòng có ngày từ ngày **21/4/2022**  đến **28/4/20022**, lưu vào dataframe `filtered_covid_data`"
   ]
  },
  {
   "cell_type": "code",
   "execution_count": 7,
   "metadata": {},
   "outputs": [
    {
     "data": {
      "text/html": [
       "<div>\n",
       "<style scoped>\n",
       "    .dataframe tbody tr th:only-of-type {\n",
       "        vertical-align: middle;\n",
       "    }\n",
       "\n",
       "    .dataframe tbody tr th {\n",
       "        vertical-align: top;\n",
       "    }\n",
       "\n",
       "    .dataframe thead th {\n",
       "        text-align: right;\n",
       "    }\n",
       "</style>\n",
       "<table border=\"1\" class=\"dataframe\">\n",
       "  <thead>\n",
       "    <tr style=\"text-align: right;\">\n",
       "      <th></th>\n",
       "      <th>Date</th>\n",
       "      <th>Country</th>\n",
       "      <th>Total Cases</th>\n",
       "      <th>New Cases</th>\n",
       "      <th>Total Deaths</th>\n",
       "      <th>New Deaths</th>\n",
       "      <th>Total Recovered</th>\n",
       "      <th>New Recovered</th>\n",
       "      <th>Active Cases</th>\n",
       "      <th>Serious Critical</th>\n",
       "      <th>Tot Cases/1M pop</th>\n",
       "      <th>Deaths/1M pop</th>\n",
       "      <th>Total Tests</th>\n",
       "      <th>Tests/1M pop</th>\n",
       "      <th>Population</th>\n",
       "    </tr>\n",
       "  </thead>\n",
       "  <tbody>\n",
       "    <tr>\n",
       "      <th>0</th>\n",
       "      <td>2022-04-21</td>\n",
       "      <td>China</td>\n",
       "      <td>193953</td>\n",
       "      <td>2841.0</td>\n",
       "      <td>4663.0</td>\n",
       "      <td>8.0</td>\n",
       "      <td>157869.0</td>\n",
       "      <td>2185.0</td>\n",
       "      <td>31421.0</td>\n",
       "      <td>223.0</td>\n",
       "      <td>135.0</td>\n",
       "      <td>3.0</td>\n",
       "      <td>160000000.0</td>\n",
       "      <td>111163.0</td>\n",
       "      <td>1.439324e+09</td>\n",
       "    </tr>\n",
       "    <tr>\n",
       "      <th>1</th>\n",
       "      <td>2022-04-21</td>\n",
       "      <td>USA</td>\n",
       "      <td>82553058</td>\n",
       "      <td>45204.0</td>\n",
       "      <td>1017609.0</td>\n",
       "      <td>299.0</td>\n",
       "      <td>80355389.0</td>\n",
       "      <td>34592.0</td>\n",
       "      <td>1180060.0</td>\n",
       "      <td>1492.0</td>\n",
       "      <td>246798.0</td>\n",
       "      <td>3042.0</td>\n",
       "      <td>999047824.0</td>\n",
       "      <td>2986727.0</td>\n",
       "      <td>3.344959e+08</td>\n",
       "    </tr>\n",
       "    <tr>\n",
       "      <th>2</th>\n",
       "      <td>2022-04-21</td>\n",
       "      <td>India</td>\n",
       "      <td>43050877</td>\n",
       "      <td>903.0</td>\n",
       "      <td>522095.0</td>\n",
       "      <td>33.0</td>\n",
       "      <td>42514479.0</td>\n",
       "      <td>NaN</td>\n",
       "      <td>14303.0</td>\n",
       "      <td>698.0</td>\n",
       "      <td>30654.0</td>\n",
       "      <td>372.0</td>\n",
       "      <td>833377052.0</td>\n",
       "      <td>593395.0</td>\n",
       "      <td>1.404421e+09</td>\n",
       "    </tr>\n",
       "    <tr>\n",
       "      <th>3</th>\n",
       "      <td>2022-04-21</td>\n",
       "      <td>Brazil</td>\n",
       "      <td>30330629</td>\n",
       "      <td>18660.0</td>\n",
       "      <td>662556.0</td>\n",
       "      <td>86.0</td>\n",
       "      <td>29353398.0</td>\n",
       "      <td>12596.0</td>\n",
       "      <td>314675.0</td>\n",
       "      <td>8318.0</td>\n",
       "      <td>140890.0</td>\n",
       "      <td>3078.0</td>\n",
       "      <td>63776166.0</td>\n",
       "      <td>296249.0</td>\n",
       "      <td>2.152787e+08</td>\n",
       "    </tr>\n",
       "    <tr>\n",
       "      <th>4</th>\n",
       "      <td>2022-04-21</td>\n",
       "      <td>France</td>\n",
       "      <td>28076017</td>\n",
       "      <td>104007.0</td>\n",
       "      <td>144799.0</td>\n",
       "      <td>185.0</td>\n",
       "      <td>25618858.0</td>\n",
       "      <td>148402.0</td>\n",
       "      <td>2312360.0</td>\n",
       "      <td>1677.0</td>\n",
       "      <td>428423.0</td>\n",
       "      <td>2210.0</td>\n",
       "      <td>266484045.0</td>\n",
       "      <td>4066382.0</td>\n",
       "      <td>6.553345e+07</td>\n",
       "    </tr>\n",
       "  </tbody>\n",
       "</table>\n",
       "</div>"
      ],
      "text/plain": [
       "        Date Country  Total Cases  New Cases  Total Deaths  New Deaths  \\\n",
       "0 2022-04-21   China       193953     2841.0        4663.0         8.0   \n",
       "1 2022-04-21     USA     82553058    45204.0     1017609.0       299.0   \n",
       "2 2022-04-21   India     43050877      903.0      522095.0        33.0   \n",
       "3 2022-04-21  Brazil     30330629    18660.0      662556.0        86.0   \n",
       "4 2022-04-21  France     28076017   104007.0      144799.0       185.0   \n",
       "\n",
       "   Total Recovered  New Recovered  Active Cases  Serious Critical  \\\n",
       "0         157869.0         2185.0       31421.0             223.0   \n",
       "1       80355389.0        34592.0     1180060.0            1492.0   \n",
       "2       42514479.0            NaN       14303.0             698.0   \n",
       "3       29353398.0        12596.0      314675.0            8318.0   \n",
       "4       25618858.0       148402.0     2312360.0            1677.0   \n",
       "\n",
       "   Tot Cases/1M pop  Deaths/1M pop  Total Tests  Tests/1M pop    Population  \n",
       "0             135.0            3.0  160000000.0      111163.0  1.439324e+09  \n",
       "1          246798.0         3042.0  999047824.0     2986727.0  3.344959e+08  \n",
       "2           30654.0          372.0  833377052.0      593395.0  1.404421e+09  \n",
       "3          140890.0         3078.0   63776166.0      296249.0  2.152787e+08  \n",
       "4          428423.0         2210.0  266484045.0     4066382.0  6.553345e+07  "
      ]
     },
     "execution_count": 7,
     "metadata": {},
     "output_type": "execute_result"
    }
   ],
   "source": [
    "data['Date'] = pd.to_datetime(data['Date'], format='%Y-%m-%d')\n",
    "\n",
    "begin_date = pd.Timestamp('2022-04-21')\n",
    "end_date = pd.Timestamp('2022-04-28')\n",
    "\n",
    "filtered_covid_data = data[(data.Date >= begin_date) & (data.Date <= end_date)]\n",
    "filtered_covid_data.head()"
   ]
  },
  {
   "cell_type": "markdown",
   "metadata": {},
   "source": [
    "**Ở các bước tiếp theo ta sẽ khám phá dữ liệu trên tập dữ liệu mới (`filtered_covid_data`)**"
   ]
  },
  {
   "cell_type": "markdown",
   "metadata": {},
   "source": [
    "---"
   ]
  },
  {
   "cell_type": "markdown",
   "metadata": {},
   "source": [
    "## Khám Phá Dữ Liệu (tiếp tục)"
   ]
  },
  {
   "cell_type": "markdown",
   "metadata": {},
   "source": [
    "### Sự phân bố giá trị của mỗi cột"
   ]
  },
  {
   "cell_type": "markdown",
   "metadata": {},
   "source": [
    "#### Với mỗi cột có kiểu dữ liệu dạng numeric, các giá trị được phân bố như thế nào?"
   ]
  },
  {
   "cell_type": "markdown",
   "metadata": {},
   "source": [
    "Với các cột có kiểu dữ liệu số, ta tính:\n",
    "\n",
    "- Tỉ lệ % (từ 0 đến 100) các giá trị thiếu\n",
    "- Giá trị min\n",
    "- Giá trị lower quartile (phân vị 25)\n",
    "- Giá trị median (phân vị 50)\n",
    "- Giá trị upper quartile (phân vị 75)\n",
    "- Giá trị max"
   ]
  },
  {
   "cell_type": "code",
   "execution_count": 8,
   "metadata": {},
   "outputs": [
    {
     "data": {
      "text/html": [
       "<div>\n",
       "<style scoped>\n",
       "    .dataframe tbody tr th:only-of-type {\n",
       "        vertical-align: middle;\n",
       "    }\n",
       "\n",
       "    .dataframe tbody tr th {\n",
       "        vertical-align: top;\n",
       "    }\n",
       "\n",
       "    .dataframe thead th {\n",
       "        text-align: right;\n",
       "    }\n",
       "</style>\n",
       "<table border=\"1\" class=\"dataframe\">\n",
       "  <thead>\n",
       "    <tr style=\"text-align: right;\">\n",
       "      <th></th>\n",
       "      <th>Total Cases</th>\n",
       "      <th>New Cases</th>\n",
       "      <th>Total Deaths</th>\n",
       "      <th>New Deaths</th>\n",
       "      <th>Total Recovered</th>\n",
       "      <th>New Recovered</th>\n",
       "      <th>Active Cases</th>\n",
       "      <th>Serious Critical</th>\n",
       "      <th>Tot Cases/1M pop</th>\n",
       "      <th>Deaths/1M pop</th>\n",
       "      <th>Total Tests</th>\n",
       "      <th>Tests/1M pop</th>\n",
       "      <th>Population</th>\n",
       "    </tr>\n",
       "  </thead>\n",
       "  <tbody>\n",
       "    <tr>\n",
       "      <th>missing_percentage</th>\n",
       "      <td>0.0</td>\n",
       "      <td>44.7</td>\n",
       "      <td>3.8</td>\n",
       "      <td>71.1</td>\n",
       "      <td>6.6</td>\n",
       "      <td>54.0</td>\n",
       "      <td>6.6</td>\n",
       "      <td>33.7</td>\n",
       "      <td>0.9</td>\n",
       "      <td>4.6</td>\n",
       "      <td>7.000000e+00</td>\n",
       "      <td>7.0</td>\n",
       "      <td>9.000000e-01</td>\n",
       "    </tr>\n",
       "    <tr>\n",
       "      <th>min</th>\n",
       "      <td>1.0</td>\n",
       "      <td>1.0</td>\n",
       "      <td>1.0</td>\n",
       "      <td>1.0</td>\n",
       "      <td>1.0</td>\n",
       "      <td>1.0</td>\n",
       "      <td>0.0</td>\n",
       "      <td>1.0</td>\n",
       "      <td>9.0</td>\n",
       "      <td>2.0</td>\n",
       "      <td>5.117000e+03</td>\n",
       "      <td>5098.0</td>\n",
       "      <td>8.050000e+02</td>\n",
       "    </tr>\n",
       "    <tr>\n",
       "      <th>lower_quartile</th>\n",
       "      <td>22698.5</td>\n",
       "      <td>24.0</td>\n",
       "      <td>220.0</td>\n",
       "      <td>2.0</td>\n",
       "      <td>13872.0</td>\n",
       "      <td>27.0</td>\n",
       "      <td>195.5</td>\n",
       "      <td>5.0</td>\n",
       "      <td>11127.0</td>\n",
       "      <td>157.0</td>\n",
       "      <td>3.472968e+05</td>\n",
       "      <td>164917.8</td>\n",
       "      <td>5.577575e+05</td>\n",
       "    </tr>\n",
       "    <tr>\n",
       "      <th>median</th>\n",
       "      <td>163079.0</td>\n",
       "      <td>168.0</td>\n",
       "      <td>2201.0</td>\n",
       "      <td>8.0</td>\n",
       "      <td>131100.0</td>\n",
       "      <td>307.5</td>\n",
       "      <td>2344.0</td>\n",
       "      <td>20.0</td>\n",
       "      <td>89015.5</td>\n",
       "      <td>765.0</td>\n",
       "      <td>2.120364e+06</td>\n",
       "      <td>774481.0</td>\n",
       "      <td>5.796766e+06</td>\n",
       "    </tr>\n",
       "    <tr>\n",
       "      <th>upper_quartile</th>\n",
       "      <td>1066399.0</td>\n",
       "      <td>1163.0</td>\n",
       "      <td>14048.0</td>\n",
       "      <td>29.0</td>\n",
       "      <td>962764.5</td>\n",
       "      <td>2663.8</td>\n",
       "      <td>29976.0</td>\n",
       "      <td>176.5</td>\n",
       "      <td>240877.0</td>\n",
       "      <td>1844.0</td>\n",
       "      <td>1.226714e+07</td>\n",
       "      <td>2212157.0</td>\n",
       "      <td>2.193846e+07</td>\n",
       "    </tr>\n",
       "    <tr>\n",
       "      <th>max</th>\n",
       "      <td>82888247.0</td>\n",
       "      <td>139849.0</td>\n",
       "      <td>1019774.0</td>\n",
       "      <td>646.0</td>\n",
       "      <td>80585919.0</td>\n",
       "      <td>243700.0</td>\n",
       "      <td>2928053.0</td>\n",
       "      <td>8318.0</td>\n",
       "      <td>704474.0</td>\n",
       "      <td>6294.0</td>\n",
       "      <td>1.003323e+09</td>\n",
       "      <td>21818570.0</td>\n",
       "      <td>1.439324e+09</td>\n",
       "    </tr>\n",
       "  </tbody>\n",
       "</table>\n",
       "</div>"
      ],
      "text/plain": [
       "                    Total Cases  New Cases  Total Deaths  New Deaths  \\\n",
       "missing_percentage          0.0       44.7           3.8        71.1   \n",
       "min                         1.0        1.0           1.0         1.0   \n",
       "lower_quartile          22698.5       24.0         220.0         2.0   \n",
       "median                 163079.0      168.0        2201.0         8.0   \n",
       "upper_quartile        1066399.0     1163.0       14048.0        29.0   \n",
       "max                  82888247.0   139849.0     1019774.0       646.0   \n",
       "\n",
       "                    Total Recovered  New Recovered  Active Cases  \\\n",
       "missing_percentage              6.6           54.0           6.6   \n",
       "min                             1.0            1.0           0.0   \n",
       "lower_quartile              13872.0           27.0         195.5   \n",
       "median                     131100.0          307.5        2344.0   \n",
       "upper_quartile             962764.5         2663.8       29976.0   \n",
       "max                      80585919.0       243700.0     2928053.0   \n",
       "\n",
       "                    Serious Critical  Tot Cases/1M pop  Deaths/1M pop  \\\n",
       "missing_percentage              33.7               0.9            4.6   \n",
       "min                              1.0               9.0            2.0   \n",
       "lower_quartile                   5.0           11127.0          157.0   \n",
       "median                          20.0           89015.5          765.0   \n",
       "upper_quartile                 176.5          240877.0         1844.0   \n",
       "max                           8318.0          704474.0         6294.0   \n",
       "\n",
       "                     Total Tests  Tests/1M pop    Population  \n",
       "missing_percentage  7.000000e+00           7.0  9.000000e-01  \n",
       "min                 5.117000e+03        5098.0  8.050000e+02  \n",
       "lower_quartile      3.472968e+05      164917.8  5.577575e+05  \n",
       "median              2.120364e+06      774481.0  5.796766e+06  \n",
       "upper_quartile      1.226714e+07     2212157.0  2.193846e+07  \n",
       "max                 1.003323e+09    21818570.0  1.439324e+09  "
      ]
     },
     "execution_count": 8,
     "metadata": {},
     "output_type": "execute_result"
    }
   ],
   "source": [
    "pd.set_option(\"max_colwidth\", 300)\n",
    "pd.set_option('display.max_columns', None)\n",
    "\n",
    "nume_cols = ['Total Cases', 'New Cases', 'Total Deaths', 'New Deaths', 'Total Recovered',\n",
    "                'New Recovered', 'Active Cases', 'Serious Critical', 'Tot Cases/1M pop',\n",
    "                'Deaths/1M pop', 'Total Tests', 'Tests/1M pop', 'Population']\n",
    "\n",
    "index_nume_col =[\"missing_percentage\", \"min\", \"lower_quartile\", \"median\", \"upper_quartile\", \"max\"]\n",
    "\n",
    "data_nume_col= np.array([\n",
    "    (filtered_covid_data[nume_cols].isna().mean()*100).round(1),\n",
    "    filtered_covid_data[nume_cols].min().round(1),\n",
    "    filtered_covid_data[nume_cols].quantile(.25).round(1),\n",
    "    filtered_covid_data[nume_cols].median(),\n",
    "    filtered_covid_data[nume_cols].quantile(.75).round(1),\n",
    "    filtered_covid_data[nume_cols].max().round(1)]\n",
    ")\n",
    "nume_col_info_df = pd.DataFrame(data = data_nume_col, columns = nume_cols, index= index_nume_col)\n",
    "nume_col_info_df"
   ]
  },
  {
   "cell_type": "markdown",
   "metadata": {},
   "source": [
    "**Nhận xét**:"
   ]
  },
  {
   "cell_type": "markdown",
   "metadata": {},
   "source": [
    "#### Với mỗi cột có kiểu dữ liệu dạng categorical, các giá trị được phân bố như thế nào?"
   ]
  },
  {
   "cell_type": "markdown",
   "metadata": {},
   "source": [
    "Với các cột có kiểu dữ liệu dạng `categorical`, ta cần tính:\n",
    "\n",
    "- Tỉ lệ % (từ 0 đến 100) các giá trị thiếu\n",
    "- Số lượng các giá trị khác nhau (không xét giá trị thiếu):\n",
    "- Tỉ lệ % (từ 0 đến 100) của mỗi giá trị được sort theo tỉ lệ % giảm dần (không xét giá trị thiếu)"
   ]
  },
  {
   "cell_type": "code",
   "execution_count": 9,
   "metadata": {},
   "outputs": [
    {
     "data": {
      "text/html": [
       "<div>\n",
       "<style scoped>\n",
       "    .dataframe tbody tr th:only-of-type {\n",
       "        vertical-align: middle;\n",
       "    }\n",
       "\n",
       "    .dataframe tbody tr th {\n",
       "        vertical-align: top;\n",
       "    }\n",
       "\n",
       "    .dataframe thead th {\n",
       "        text-align: right;\n",
       "    }\n",
       "</style>\n",
       "<table border=\"1\" class=\"dataframe\">\n",
       "  <thead>\n",
       "    <tr style=\"text-align: right;\">\n",
       "      <th></th>\n",
       "      <th>Country</th>\n",
       "    </tr>\n",
       "  </thead>\n",
       "  <tbody>\n",
       "    <tr>\n",
       "      <th>missing_percentage</th>\n",
       "      <td>0.0</td>\n",
       "    </tr>\n",
       "    <tr>\n",
       "      <th>num_values</th>\n",
       "      <td>230</td>\n",
       "    </tr>\n",
       "    <tr>\n",
       "      <th>value_percentages</th>\n",
       "      <td>{'China': 0.43859649122807015, 'Belize': 0.43859649122807015, 'Cabo Verde': 0.43859649122807015, 'Syria': 0.43859649122807015, 'Gabon': 0.43859649122807015, 'Papua New Guinea': 0.43859649122807015, 'Taiwan': 0.43859649122807015, 'Seychelles': 0.43859649122807015, 'Andorra': 0.43859649122807015, ...</td>\n",
       "    </tr>\n",
       "  </tbody>\n",
       "</table>\n",
       "</div>"
      ],
      "text/plain": [
       "                                                                                                                                                                                                                                                                                                                        Country\n",
       "missing_percentage                                                                                                                                                                                                                                                                                                          0.0\n",
       "num_values                                                                                                                                                                                                                                                                                                                  230\n",
       "value_percentages   {'China': 0.43859649122807015, 'Belize': 0.43859649122807015, 'Cabo Verde': 0.43859649122807015, 'Syria': 0.43859649122807015, 'Gabon': 0.43859649122807015, 'Papua New Guinea': 0.43859649122807015, 'Taiwan': 0.43859649122807015, 'Seychelles': 0.43859649122807015, 'Andorra': 0.43859649122807015, ..."
      ]
     },
     "execution_count": 9,
     "metadata": {},
     "output_type": "execute_result"
    }
   ],
   "source": [
    "cate_cols = ['Country']\n",
    "index_cate_cols = [\"missing_percentage\", \"num_values\", \"value_percentages\"]\n",
    "\n",
    "\n",
    "def count_value_percentages(data):\n",
    "    return (data.value_counts()/data.count() *100).to_dict()\n",
    "\n",
    "\n",
    "data_cate_col= np.array([\n",
    "    (filtered_covid_data[cate_cols].isna().mean() *100),\n",
    "    filtered_covid_data[cate_cols].nunique(),\n",
    "    filtered_covid_data[cate_cols].agg(count_value_percentages)\n",
    "])\n",
    "\n",
    "cate_col_info_df = pd.DataFrame(data = data_cate_col, columns = cate_cols, index= index_cate_cols)\n",
    "cate_col_info_df"
   ]
  },
  {
   "cell_type": "markdown",
   "metadata": {},
   "source": [
    "**Nhận xét**:"
   ]
  },
  {
   "cell_type": "markdown",
   "metadata": {},
   "source": [
    "---"
   ]
  },
  {
   "cell_type": "markdown",
   "metadata": {},
   "source": [
    "## Tiền xử lý dữ liệu"
   ]
  },
  {
   "cell_type": "markdown",
   "metadata": {},
   "source": [
    "Ta nhận thấy cột `New Cases`, `New Recovered`, `New Deaths` có tỉ lệ thiếu cao. Ta biết được rằng, những ô nào không có giá trị tức là bằng 0 (0 ca nhiễm/hồi phục/chết trong ngàyngày), Vậy nên ta sẽ điền 0 vào các giá trị thiếu này"
   ]
  },
  {
   "cell_type": "code",
   "execution_count": 10,
   "metadata": {},
   "outputs": [
    {
     "name": "stderr",
     "output_type": "stream",
     "text": [
      "C:\\Users\\TNHao\\AppData\\Local\\Temp\\ipykernel_5744\\579118513.py:1: SettingWithCopyWarning: \n",
      "A value is trying to be set on a copy of a slice from a DataFrame.\n",
      "Try using .loc[row_indexer,col_indexer] = value instead\n",
      "\n",
      "See the caveats in the documentation: https://pandas.pydata.org/pandas-docs/stable/user_guide/indexing.html#returning-a-view-versus-a-copy\n",
      "  filtered_covid_data[['New Cases', 'New Recovered',  'New Deaths']] = \\\n"
     ]
    }
   ],
   "source": [
    "filtered_covid_data[['New Cases', 'New Recovered',  'New Deaths']] = \\\n",
    "    filtered_covid_data[['New Cases', 'New Recovered',  'New Deaths']].replace(np.nan, 0)"
   ]
  },
  {
   "cell_type": "code",
   "execution_count": 11,
   "metadata": {},
   "outputs": [
    {
     "name": "stdout",
     "output_type": "stream",
     "text": [
      "<class 'pandas.core.frame.DataFrame'>\n",
      "Int64Index: 1596 entries, 0 to 1595\n",
      "Data columns (total 15 columns):\n",
      " #   Column            Non-Null Count  Dtype         \n",
      "---  ------            --------------  -----         \n",
      " 0   Date              1596 non-null   datetime64[ns]\n",
      " 1   Country           1596 non-null   object        \n",
      " 2   Total Cases       1596 non-null   int64         \n",
      " 3   New Cases         1596 non-null   float64       \n",
      " 4   Total Deaths      1536 non-null   float64       \n",
      " 5   New Deaths        1596 non-null   float64       \n",
      " 6   Total Recovered   1491 non-null   float64       \n",
      " 7   New Recovered     1596 non-null   float64       \n",
      " 8   Active Cases      1491 non-null   float64       \n",
      " 9   Serious Critical  1058 non-null   float64       \n",
      " 10  Tot Cases/1M pop  1582 non-null   float64       \n",
      " 11  Deaths/1M pop     1522 non-null   float64       \n",
      " 12  Total Tests       1484 non-null   float64       \n",
      " 13  Tests/1M pop      1484 non-null   float64       \n",
      " 14  Population        1582 non-null   float64       \n",
      "dtypes: datetime64[ns](1), float64(12), int64(1), object(1)\n",
      "memory usage: 199.5+ KB\n"
     ]
    }
   ],
   "source": [
    "filtered_covid_data.info()"
   ]
  },
  {
   "cell_type": "markdown",
   "metadata": {},
   "source": [
    "Hiện tại có một số cột đang thiết dữ liệu, những cột đó đang chứa kiểu dữ liệu số, ta tiến hành điền mean vào giá trị thiếu"
   ]
  },
  {
   "cell_type": "code",
   "execution_count": 12,
   "metadata": {},
   "outputs": [
    {
     "name": "stdout",
     "output_type": "stream",
     "text": [
      "<class 'pandas.core.frame.DataFrame'>\n",
      "Int64Index: 1596 entries, 0 to 1595\n",
      "Data columns (total 15 columns):\n",
      " #   Column            Non-Null Count  Dtype         \n",
      "---  ------            --------------  -----         \n",
      " 0   Date              1596 non-null   datetime64[ns]\n",
      " 1   Country           1596 non-null   object        \n",
      " 2   Total Cases       1596 non-null   int64         \n",
      " 3   New Cases         1596 non-null   float64       \n",
      " 4   Total Deaths      1596 non-null   float64       \n",
      " 5   New Deaths        1596 non-null   float64       \n",
      " 6   Total Recovered   1596 non-null   float64       \n",
      " 7   New Recovered     1596 non-null   float64       \n",
      " 8   Active Cases      1596 non-null   float64       \n",
      " 9   Serious Critical  1596 non-null   float64       \n",
      " 10  Tot Cases/1M pop  1596 non-null   float64       \n",
      " 11  Deaths/1M pop     1596 non-null   float64       \n",
      " 12  Total Tests       1596 non-null   float64       \n",
      " 13  Tests/1M pop      1596 non-null   float64       \n",
      " 14  Population        1596 non-null   float64       \n",
      "dtypes: datetime64[ns](1), float64(12), int64(1), object(1)\n",
      "memory usage: 199.5+ KB\n"
     ]
    },
    {
     "name": "stderr",
     "output_type": "stream",
     "text": [
      "C:\\Users\\TNHao\\AppData\\Local\\Temp\\ipykernel_5744\\1255225413.py:9: SettingWithCopyWarning: \n",
      "A value is trying to be set on a copy of a slice from a DataFrame.\n",
      "Try using .loc[row_indexer,col_indexer] = value instead\n",
      "\n",
      "See the caveats in the documentation: https://pandas.pydata.org/pandas-docs/stable/user_guide/indexing.html#returning-a-view-versus-a-copy\n",
      "  filtered_covid_data[miss_value_cols] = filtered_covid_data[miss_value_cols].apply(fill_mean_value)\n"
     ]
    }
   ],
   "source": [
    "miss_value_cols = ['Total Deaths', 'Total Recovered', 'Active Cases', 'Serious Critical',\n",
    "                    'Tot Cases/1M pop', 'Deaths/1M pop', 'Total Tests', 'Tests/1M pop', 'Population']\n",
    "\n",
    "def fill_mean_value(col):\n",
    "    mean_value = int(np.mean(col, axis = 0))\n",
    "    col.replace(np.nan, mean_value, inplace=True)\n",
    "    return col\n",
    "\n",
    "filtered_covid_data[miss_value_cols] = filtered_covid_data[miss_value_cols].apply(fill_mean_value)\n",
    "filtered_covid_data.info()"
   ]
  },
  {
   "cell_type": "markdown",
   "metadata": {},
   "source": [
    "Sau cùng ta lưu dữ liệu đã qua tiền xử lý vào file `preprocessed_covid_data`"
   ]
  },
  {
   "cell_type": "code",
   "execution_count": 13,
   "metadata": {},
   "outputs": [],
   "source": [
    "filtered_covid_data = continent_data.merge(right=filtered_covid_data, left_on='Country', right_on='Country', how='right')"
   ]
  },
  {
   "cell_type": "code",
   "execution_count": 14,
   "metadata": {},
   "outputs": [],
   "source": [
    "filtered_covid_data.to_csv('data/preprocessed_covid_data.csv')"
   ]
  },
  {
   "cell_type": "markdown",
   "metadata": {},
   "source": [
    "---"
   ]
  },
  {
   "cell_type": "markdown",
   "metadata": {},
   "source": [
    "## Đưa ra câu hỏi ý nghĩa cần trả lời"
   ]
  },
  {
   "cell_type": "markdown",
   "metadata": {},
   "source": [
    "### Câu hỏi 1: Tổng số ca nhiễm của các nước phân phối như thế nào?"
   ]
  },
  {
   "cell_type": "markdown",
   "metadata": {},
   "source": [
    "Ở câu hỏi này ta sử dụng dữ liệu ngày 27/4/2022 để trả lời"
   ]
  },
  {
   "cell_type": "code",
   "execution_count": 15,
   "metadata": {},
   "outputs": [
    {
     "data": {
      "image/png": "[encoded data removed]",
      "text/plain": [
       "<Figure size 432x288 with 1 Axes>"
      ]
     },
     "metadata": {
      "needs_background": "light"
     },
     "output_type": "display_data"
    }
   ],
   "source": [
    "hist_day_data = filtered_covid_data[filtered_covid_data['Date'] =='2022-04-27']\n",
    "plt.hist(filtered_covid_data['Total Cases'], bins=100)\n",
    "plt.show()"
   ]
  },
  {
   "cell_type": "markdown",
   "metadata": {},
   "source": [
    "**Nhận xét**: Đa số tổng ca nhiễm của các nước tập trung trong khoảng từ 0 đến 10000000 ca, số nước có số ca nhiễm từ trước đến nay nhiều hơn 10000000 ca rất ít"
   ]
  },
  {
   "cell_type": "markdown",
   "metadata": {},
   "source": [
    "### Câu hỏi 2: Diễn biến số ca nhiễm mới trong 7 ngày gần nhất (21/4 - 27/4)"
   ]
  },
  {
   "cell_type": "markdown",
   "metadata": {},
   "source": [
    "Ở câu hỏi này ta sử dụng dữ liệu từ ngày 21/4/2022-27/4/2022 để trả lời"
   ]
  },
  {
   "cell_type": "code",
   "execution_count": 16,
   "metadata": {},
   "outputs": [
    {
     "data": {
      "image/png": "[encoded data removed]",
      "text/plain": [
       "<Figure size 864x576 with 1 Axes>"
      ]
     },
     "metadata": {
      "needs_background": "light"
     },
     "output_type": "display_data"
    }
   ],
   "source": [
    "data_2 = filtered_covid_data.copy()\n",
    "x = data_2.groupby('Date')['New Cases'].sum().to_frame()\n",
    "\n",
    "plt.figure(figsize=(12, 8))\n",
    "plt.plot(x.index, x['New Cases'], c='crimson')\n",
    "plt.bar(x.index, x['New Cases'], width=0.5)\n",
    "plt.show()"
   ]
  },
  {
   "cell_type": "markdown",
   "metadata": {},
   "source": [
    "**Nhận xét:**"
   ]
  },
  {
   "cell_type": "markdown",
   "metadata": {},
   "source": [
    "### Câu hỏi 3: Mật độ dân số ảnh hưởng như thế nào đến số ca nhiễm mỗi nước?"
   ]
  },
  {
   "cell_type": "code",
   "execution_count": 17,
   "metadata": {},
   "outputs": [
    {
     "data": {
      "image/png": "[encoded data removed]",
      "text/plain": [
       "<Figure size 432x288 with 1 Axes>"
      ]
     },
     "metadata": {
      "needs_background": "light"
     },
     "output_type": "display_data"
    }
   ],
   "source": [
    "data_3 = filtered_covid_data.copy()\n",
    "data_3['Density'] = data_3['Population'] / data_3['Area']\n",
    "data_3 = data_3.select_dtypes(include=['float64', 'int64']).copy()\n",
    "data_3 =(data_3-data_3.min())/(data_3.max()-data_3.min())\n",
    "plt.scatter(data_3['Total Cases'], data_3['Density'])\n",
    "plt.show()"
   ]
  },
  {
   "cell_type": "markdown",
   "metadata": {},
   "source": [
    "**Nhận xét**"
   ]
  },
  {
   "cell_type": "markdown",
   "metadata": {},
   "source": [
    "### Câu hỏi 4:  Những yếu tố để một nước có tỉ lệ nhiễm cao(Tot Cases/1M pop)?"
   ]
  },
  {
   "cell_type": "code",
   "execution_count": 18,
   "metadata": {},
   "outputs": [
    {
     "data": {
      "image/png": "[encoded data removed]",
      "text/plain": [
       "<Figure size 432x288 with 2 Axes>"
      ]
     },
     "metadata": {
      "needs_background": "light"
     },
     "output_type": "display_data"
    }
   ],
   "source": [
    "data_4 = filtered_covid_data.select_dtypes(include=['float64', 'int64']).copy()\n",
    "data_4 =(data_4-data_4.min())/(data_4.max()-data_4.min())\n",
    "\n",
    "corr = data_4.corr()\n",
    "\n",
    "ax = sns.heatmap(\n",
    "    corr, \n",
    "    vmin=-1, vmax=1, center=0,\n",
    "    cmap=sns.diverging_palette(20, 220, n=200),\n",
    "    square=True\n",
    ")\n",
    "ax.set_xticklabels(\n",
    "    ax.get_xticklabels(),\n",
    "    rotation=45,\n",
    "    horizontalalignment='right'\n",
    ")\n",
    "\n",
    "plt.show()"
   ]
  },
  {
   "cell_type": "markdown",
   "metadata": {},
   "source": [
    "**Nhận xét**: Ta nhận thấy `Tests/1M pop` càng nhiều thì `Tot Cases/1M pop`  càng lớn. Có vẻ như càng test nhiều thì càng phát hiện được nhiều ca mắc covid hơn"
   ]
  },
  {
   "cell_type": "markdown",
   "metadata": {},
   "source": [
    "### Câu hỏi 5:"
   ]
  },
  {
   "cell_type": "code",
   "execution_count": 40,
   "metadata": {},
   "outputs": [
    {
     "data": {
      "text/html": [
       "<div>\n",
       "<style scoped>\n",
       "    .dataframe tbody tr th:only-of-type {\n",
       "        vertical-align: middle;\n",
       "    }\n",
       "\n",
       "    .dataframe tbody tr th {\n",
       "        vertical-align: top;\n",
       "    }\n",
       "\n",
       "    .dataframe thead th {\n",
       "        text-align: right;\n",
       "    }\n",
       "</style>\n",
       "<table border=\"1\" class=\"dataframe\">\n",
       "  <thead>\n",
       "    <tr style=\"text-align: right;\">\n",
       "      <th></th>\n",
       "      <th>Area</th>\n",
       "      <th>Total Cases</th>\n",
       "      <th>New Cases</th>\n",
       "      <th>Total Deaths</th>\n",
       "      <th>New Deaths</th>\n",
       "      <th>Total Recovered</th>\n",
       "      <th>New Recovered</th>\n",
       "      <th>Active Cases</th>\n",
       "      <th>Serious Critical</th>\n",
       "      <th>Tot Cases/1M pop</th>\n",
       "      <th>Deaths/1M pop</th>\n",
       "      <th>Total Tests</th>\n",
       "      <th>Tests/1M pop</th>\n",
       "      <th>Population</th>\n",
       "    </tr>\n",
       "    <tr>\n",
       "      <th>Continent</th>\n",
       "      <th></th>\n",
       "      <th></th>\n",
       "      <th></th>\n",
       "      <th></th>\n",
       "      <th></th>\n",
       "      <th></th>\n",
       "      <th></th>\n",
       "      <th></th>\n",
       "      <th></th>\n",
       "      <th></th>\n",
       "      <th></th>\n",
       "      <th></th>\n",
       "      <th></th>\n",
       "      <th></th>\n",
       "    </tr>\n",
       "  </thead>\n",
       "  <tbody>\n",
       "    <tr>\n",
       "      <th>Africa</th>\n",
       "      <td>2.122284e+08</td>\n",
       "      <td>82701406</td>\n",
       "      <td>35286.0</td>\n",
       "      <td>1974456.0</td>\n",
       "      <td>181.0</td>\n",
       "      <td>1.290253e+08</td>\n",
       "      <td>14299.0</td>\n",
       "      <td>5886807.0</td>\n",
       "      <td>63954.0</td>\n",
       "      <td>12491603.0</td>\n",
       "      <td>132730.0</td>\n",
       "      <td>1.738285e+09</td>\n",
       "      <td>1.384615e+08</td>\n",
       "      <td>9.789288e+09</td>\n",
       "    </tr>\n",
       "    <tr>\n",
       "      <th>America</th>\n",
       "      <td>2.962945e+08</td>\n",
       "      <td>1081864380</td>\n",
       "      <td>510327.0</td>\n",
       "      <td>19448622.0</td>\n",
       "      <td>3581.0</td>\n",
       "      <td>1.085440e+09</td>\n",
       "      <td>503011.0</td>\n",
       "      <td>25024769.0</td>\n",
       "      <td>148985.0</td>\n",
       "      <td>54793563.0</td>\n",
       "      <td>577919.0</td>\n",
       "      <td>9.576404e+09</td>\n",
       "      <td>6.824525e+08</td>\n",
       "      <td>7.243309e+09</td>\n",
       "    </tr>\n",
       "    <tr>\n",
       "      <th>Asia</th>\n",
       "      <td>3.334333e+08</td>\n",
       "      <td>917514322</td>\n",
       "      <td>712192.0</td>\n",
       "      <td>11790891.0</td>\n",
       "      <td>3869.0</td>\n",
       "      <td>8.899131e+08</td>\n",
       "      <td>959466.0</td>\n",
       "      <td>23099402.0</td>\n",
       "      <td>123066.0</td>\n",
       "      <td>28257692.0</td>\n",
       "      <td>198617.0</td>\n",
       "      <td>1.534253e+10</td>\n",
       "      <td>4.929770e+08</td>\n",
       "      <td>3.271897e+10</td>\n",
       "    </tr>\n",
       "    <tr>\n",
       "      <th>Europe</th>\n",
       "      <td>4.798094e+07</td>\n",
       "      <td>1317042458</td>\n",
       "      <td>2107452.0</td>\n",
       "      <td>11059902.0</td>\n",
       "      <td>7712.0</td>\n",
       "      <td>1.199899e+09</td>\n",
       "      <td>4305067.0</td>\n",
       "      <td>82177481.0</td>\n",
       "      <td>75917.0</td>\n",
       "      <td>108692660.0</td>\n",
       "      <td>811019.0</td>\n",
       "      <td>1.811798e+10</td>\n",
       "      <td>1.432971e+09</td>\n",
       "      <td>4.853800e+09</td>\n",
       "    </tr>\n",
       "    <tr>\n",
       "      <th>Oceania</th>\n",
       "      <td>5.957692e+07</td>\n",
       "      <td>47924309</td>\n",
       "      <td>359989.0</td>\n",
       "      <td>982515.0</td>\n",
       "      <td>385.0</td>\n",
       "      <td>5.905855e+07</td>\n",
       "      <td>254797.0</td>\n",
       "      <td>3726878.0</td>\n",
       "      <td>19262.0</td>\n",
       "      <td>11516471.0</td>\n",
       "      <td>80250.0</td>\n",
       "      <td>1.779461e+09</td>\n",
       "      <td>1.790212e+08</td>\n",
       "      <td>3.029401e+08</td>\n",
       "    </tr>\n",
       "  </tbody>\n",
       "</table>\n",
       "</div>"
      ],
      "text/plain": [
       "                   Area  Total Cases  New Cases  Total Deaths  New Deaths  \\\n",
       "Continent                                                                   \n",
       "Africa     2.122284e+08     82701406    35286.0     1974456.0       181.0   \n",
       "America    2.962945e+08   1081864380   510327.0    19448622.0      3581.0   \n",
       "Asia       3.334333e+08    917514322   712192.0    11790891.0      3869.0   \n",
       "Europe     4.798094e+07   1317042458  2107452.0    11059902.0      7712.0   \n",
       "Oceania    5.957692e+07     47924309   359989.0      982515.0       385.0   \n",
       "\n",
       "           Total Recovered  New Recovered  Active Cases  Serious Critical  \\\n",
       "Continent                                                                   \n",
       "Africa        1.290253e+08        14299.0     5886807.0           63954.0   \n",
       "America       1.085440e+09       503011.0    25024769.0          148985.0   \n",
       "Asia          8.899131e+08       959466.0    23099402.0          123066.0   \n",
       "Europe        1.199899e+09      4305067.0    82177481.0           75917.0   \n",
       "Oceania       5.905855e+07       254797.0     3726878.0           19262.0   \n",
       "\n",
       "           Tot Cases/1M pop  Deaths/1M pop   Total Tests  Tests/1M pop  \\\n",
       "Continent                                                                \n",
       "Africa           12491603.0       132730.0  1.738285e+09  1.384615e+08   \n",
       "America          54793563.0       577919.0  9.576404e+09  6.824525e+08   \n",
       "Asia             28257692.0       198617.0  1.534253e+10  4.929770e+08   \n",
       "Europe          108692660.0       811019.0  1.811798e+10  1.432971e+09   \n",
       "Oceania          11516471.0        80250.0  1.779461e+09  1.790212e+08   \n",
       "\n",
       "             Population  \n",
       "Continent                \n",
       "Africa     9.789288e+09  \n",
       "America    7.243309e+09  \n",
       "Asia       3.271897e+10  \n",
       "Europe     4.853800e+09  \n",
       "Oceania    3.029401e+08  "
      ]
     },
     "execution_count": 40,
     "metadata": {},
     "output_type": "execute_result"
    }
   ],
   "source": [
    "data_5 = filtered_covid_data.copy()\n",
    "data_5 = data_5.groupby(['Continent']).sum()\n",
    "data_5"
   ]
  },
  {
   "cell_type": "code",
   "execution_count": 58,
   "metadata": {},
   "outputs": [
    {
     "data": {
      "image/png": "[encoded data removed]",
      "text/plain": [
       "<Figure size 1080x1080 with 5 Axes>"
      ]
     },
     "metadata": {},
     "output_type": "display_data"
    }
   ],
   "source": [
    "columns = ['Total Cases', 'Total Deaths', 'New Cases', 'New Deaths', 'Total Tests']\n",
    "fig, axes = plt.subplots(3,2,figsize=(15,10))\n",
    "\n",
    "data_to_plot = data_5[columns]\n",
    "\n",
    "for c, ax in zip(data_to_plot.columns, axes.ravel()):\n",
    "    data_to_plot[c].plot.pie(title=c, autopct='%1.0f%%', startangle=90, ylabel=\"\", figsize=(15, 15), legend=\"Continent\", ax=ax)\n",
    "\n",
    "fig.delaxes(axes[2][1])\n",
    "fig.tight_layout()"
   ]
  }
 ],
 "metadata": {
  "interpreter": {
   "hash": "4523760acd2e98ea694316eb0cd84f0969f99d1a04363ebd38b8ee985ea4f03e"
  },
  "kernelspec": {
   "display_name": "Python 3.8.8 ('min_ds-env')",
   "language": "python",
   "name": "python3"
  },
  "language_info": {
   "codemirror_mode": {
    "name": "ipython",
    "version": 3
   },
   "file_extension": ".py",
   "mimetype": "text/x-python",
   "name": "python",
   "nbconvert_exporter": "python",
   "pygments_lexer": "ipython3",
   "version": "3.9.12"
  },
  "orig_nbformat": 4
 },
 "nbformat": 4,
 "nbformat_minor": 2
}
