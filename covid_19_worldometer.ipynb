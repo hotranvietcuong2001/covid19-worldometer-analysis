{
 "cells": [
  {
   "cell_type": "markdown",
   "metadata": {},
   "source": [
    "## Import các thư viện cần thiết"
   ]
  },
  {
   "cell_type": "code",
   "execution_count": 71,
   "metadata": {},
   "outputs": [],
   "source": [
    "import pandas as pd\n",
    "import numpy as np\n",
    "import matplotlib.pyplot as plt\n",
    "import seaborn"
   ]
  },
  {
   "cell_type": "markdown",
   "metadata": {},
   "source": [
    "---"
   ]
  },
  {
   "cell_type": "markdown",
   "metadata": {},
   "source": [
    "## Thu thập dữ liệu"
   ]
  },
  {
   "cell_type": "markdown",
   "metadata": {},
   "source": [
    "Trong bài này, ta sử dụng thư viện `Beautiful Soup` để cào dữ liệu từ trang [Wolrdometer](https://www.worldometers.info/coronavirus/) vào mỗi **23:55** hằng ngày.\n",
    "\n",
    "Chú ý rằng, ta được phép sử dụng bộ dữ liệu này cho mục đích học tập."
   ]
  },
  {
   "cell_type": "markdown",
   "metadata": {},
   "source": [
    "---"
   ]
  },
  {
   "cell_type": "markdown",
   "metadata": {},
   "source": [
    "## Khám phá dữ liệu"
   ]
  },
  {
   "cell_type": "markdown",
   "metadata": {},
   "source": [
    "### Đọc dữ liệu từ file csv vào dataframe"
   ]
  },
  {
   "cell_type": "code",
   "execution_count": 75,
   "metadata": {},
   "outputs": [
    {
     "data": {
      "text/html": [
       "<div>\n",
       "<style scoped>\n",
       "    .dataframe tbody tr th:only-of-type {\n",
       "        vertical-align: middle;\n",
       "    }\n",
       "\n",
       "    .dataframe tbody tr th {\n",
       "        vertical-align: top;\n",
       "    }\n",
       "\n",
       "    .dataframe thead th {\n",
       "        text-align: right;\n",
       "    }\n",
       "</style>\n",
       "<table border=\"1\" class=\"dataframe\">\n",
       "  <thead>\n",
       "    <tr style=\"text-align: right;\">\n",
       "      <th></th>\n",
       "      <th>Date</th>\n",
       "      <th>Country</th>\n",
       "      <th>Total Cases</th>\n",
       "      <th>New Cases</th>\n",
       "      <th>Total Deaths</th>\n",
       "      <th>New Deaths</th>\n",
       "      <th>Total Recovered</th>\n",
       "      <th>New Recovered</th>\n",
       "      <th>Active Cases</th>\n",
       "      <th>Serious Critical</th>\n",
       "      <th>Tot Cases/1M pop</th>\n",
       "      <th>Deaths/1M pop</th>\n",
       "      <th>Total Tests</th>\n",
       "      <th>Tests/1M pop</th>\n",
       "      <th>Population</th>\n",
       "    </tr>\n",
       "  </thead>\n",
       "  <tbody>\n",
       "    <tr>\n",
       "      <th>0</th>\n",
       "      <td>2022-04-21</td>\n",
       "      <td>China</td>\n",
       "      <td>193953</td>\n",
       "      <td>2841.0</td>\n",
       "      <td>4663.0</td>\n",
       "      <td>8.0</td>\n",
       "      <td>157869.0</td>\n",
       "      <td>2185.0</td>\n",
       "      <td>31421.0</td>\n",
       "      <td>223.0</td>\n",
       "      <td>135.0</td>\n",
       "      <td>3.0</td>\n",
       "      <td>160000000.0</td>\n",
       "      <td>111163.0</td>\n",
       "      <td>1.439324e+09</td>\n",
       "    </tr>\n",
       "    <tr>\n",
       "      <th>1</th>\n",
       "      <td>2022-04-21</td>\n",
       "      <td>USA</td>\n",
       "      <td>82553058</td>\n",
       "      <td>45204.0</td>\n",
       "      <td>1017609.0</td>\n",
       "      <td>299.0</td>\n",
       "      <td>80355389.0</td>\n",
       "      <td>34592.0</td>\n",
       "      <td>1180060.0</td>\n",
       "      <td>1492.0</td>\n",
       "      <td>246798.0</td>\n",
       "      <td>3042.0</td>\n",
       "      <td>999047824.0</td>\n",
       "      <td>2986727.0</td>\n",
       "      <td>3.344959e+08</td>\n",
       "    </tr>\n",
       "    <tr>\n",
       "      <th>2</th>\n",
       "      <td>2022-04-21</td>\n",
       "      <td>India</td>\n",
       "      <td>43050877</td>\n",
       "      <td>903.0</td>\n",
       "      <td>522095.0</td>\n",
       "      <td>33.0</td>\n",
       "      <td>42514479.0</td>\n",
       "      <td>NaN</td>\n",
       "      <td>14303.0</td>\n",
       "      <td>698.0</td>\n",
       "      <td>30654.0</td>\n",
       "      <td>372.0</td>\n",
       "      <td>833377052.0</td>\n",
       "      <td>593395.0</td>\n",
       "      <td>1.404421e+09</td>\n",
       "    </tr>\n",
       "    <tr>\n",
       "      <th>3</th>\n",
       "      <td>2022-04-21</td>\n",
       "      <td>Brazil</td>\n",
       "      <td>30330629</td>\n",
       "      <td>18660.0</td>\n",
       "      <td>662556.0</td>\n",
       "      <td>86.0</td>\n",
       "      <td>29353398.0</td>\n",
       "      <td>12596.0</td>\n",
       "      <td>314675.0</td>\n",
       "      <td>8318.0</td>\n",
       "      <td>140890.0</td>\n",
       "      <td>3078.0</td>\n",
       "      <td>63776166.0</td>\n",
       "      <td>296249.0</td>\n",
       "      <td>2.152787e+08</td>\n",
       "    </tr>\n",
       "    <tr>\n",
       "      <th>4</th>\n",
       "      <td>2022-04-21</td>\n",
       "      <td>France</td>\n",
       "      <td>28076017</td>\n",
       "      <td>104007.0</td>\n",
       "      <td>144799.0</td>\n",
       "      <td>185.0</td>\n",
       "      <td>25618858.0</td>\n",
       "      <td>148402.0</td>\n",
       "      <td>2312360.0</td>\n",
       "      <td>1677.0</td>\n",
       "      <td>428423.0</td>\n",
       "      <td>2210.0</td>\n",
       "      <td>266484045.0</td>\n",
       "      <td>4066382.0</td>\n",
       "      <td>6.553345e+07</td>\n",
       "    </tr>\n",
       "  </tbody>\n",
       "</table>\n",
       "</div>"
      ],
      "text/plain": [
       "         Date Country  Total Cases  New Cases  Total Deaths  New Deaths  \\\n",
       "0  2022-04-21   China       193953     2841.0        4663.0         8.0   \n",
       "1  2022-04-21     USA     82553058    45204.0     1017609.0       299.0   \n",
       "2  2022-04-21   India     43050877      903.0      522095.0        33.0   \n",
       "3  2022-04-21  Brazil     30330629    18660.0      662556.0        86.0   \n",
       "4  2022-04-21  France     28076017   104007.0      144799.0       185.0   \n",
       "\n",
       "   Total Recovered  New Recovered  Active Cases  Serious Critical  \\\n",
       "0         157869.0         2185.0       31421.0             223.0   \n",
       "1       80355389.0        34592.0     1180060.0            1492.0   \n",
       "2       42514479.0            NaN       14303.0             698.0   \n",
       "3       29353398.0        12596.0      314675.0            8318.0   \n",
       "4       25618858.0       148402.0     2312360.0            1677.0   \n",
       "\n",
       "   Tot Cases/1M pop  Deaths/1M pop  Total Tests  Tests/1M pop    Population  \n",
       "0             135.0            3.0  160000000.0      111163.0  1.439324e+09  \n",
       "1          246798.0         3042.0  999047824.0     2986727.0  3.344959e+08  \n",
       "2           30654.0          372.0  833377052.0      593395.0  1.404421e+09  \n",
       "3          140890.0         3078.0   63776166.0      296249.0  2.152787e+08  \n",
       "4          428423.0         2210.0  266484045.0     4066382.0  6.553345e+07  "
      ]
     },
     "execution_count": 75,
     "metadata": {},
     "output_type": "execute_result"
    }
   ],
   "source": [
    "data = pd.read_csv('data/covid_data.csv')\n",
    "data.head()"
   ]
  },
  {
   "cell_type": "markdown",
   "metadata": {},
   "source": [
    "### Dữ liệu gồm bao nhiều dòng, bao nhiêu cột?"
   ]
  },
  {
   "cell_type": "code",
   "execution_count": 76,
   "metadata": {},
   "outputs": [
    {
     "name": "stdout",
     "output_type": "stream",
     "text": [
      "Số dòng:  228\n",
      "Số cột:  15\n"
     ]
    }
   ],
   "source": [
    "num_rows = data.shape[0]\n",
    "num_cols = data.shape[1]\n",
    "print('Số dòng: ', num_rows)\n",
    "print('Số cột: ', num_cols)"
   ]
  },
  {
   "cell_type": "markdown",
   "metadata": {},
   "source": [
    "### Mỗi dòng có ý nghĩa gì? Có vấn đề các dòng có ý nghĩa khác nhau không?"
   ]
  },
  {
   "cell_type": "markdown",
   "metadata": {},
   "source": [
    "Mỗi dòng tương ứng với thông tin số ca nhiễm của một nước trong một ngày. \n",
    "\n",
    "Có vẻ như không xảy ra các dòng có ý nghĩa khác nhau"
   ]
  },
  {
   "cell_type": "markdown",
   "metadata": {},
   "source": [
    "### Dữ liệu có các dòng bị lặp không?"
   ]
  },
  {
   "cell_type": "code",
   "execution_count": 77,
   "metadata": {},
   "outputs": [
    {
     "name": "stdout",
     "output_type": "stream",
     "text": [
      "Không có dòng lặp\n"
     ]
    }
   ],
   "source": [
    "duplicated_rows = data.duplicated().sum()\n",
    "if duplicated_rows > 0:\n",
    "    print(\"Số dòng lặp: \", duplicated_rows)\n",
    "else:\n",
    "    print(\"Không có dòng lặp\")"
   ]
  },
  {
   "cell_type": "markdown",
   "metadata": {},
   "source": [
    "Dữ liệu được thêm vào mỗi ngày nên tạm thời ta không nhận xét gì thêm ở đây"
   ]
  },
  {
   "cell_type": "markdown",
   "metadata": {},
   "source": [
    "### Mỗi cột có ý nghĩa gì?"
   ]
  },
  {
   "cell_type": "markdown",
   "metadata": {},
   "source": [
    "|Tên cột| Mô tả |\n",
    "|:-:| :--|\n",
    "|**Date**| Ngày lấy số liệu |\n",
    "|**Country**| Nước |\n",
    "|**Total Cases**| tổng số ca nhiễm mới từ trước đến nay |\n",
    "|**New Cases**| số ca mới ngày hôm nay |\n",
    "|**Total Deaths**| tổng số ca tử vong từ trước đến nay  |\n",
    "|**New Deaths**| số ca tử vong mới ngày hôm nay|\n",
    "|**Total Recovered**| tổng số ca phục hồi |\n",
    "|**New Recovered**| số ca phục hồi trong ngày|\n",
    "|**Active Cases**| số ca đang điều trị |\n",
    "|**Serious Critical**| số ca nguy kịch |\n",
    "|**Total Cases/1M pop**| số ca nhiễm / 1 triệu dân |\n",
    "|**Deaths/1M pop**| số ca từ vong/ 1 triệu dân |\n",
    "|**Total Tests**| tổng số xét nghiệm |\n",
    "|**Tests/1M pop**| số xét nghiệm/1 triệu dân |\n",
    "|**Population**| dân số |"
   ]
  },
  {
   "cell_type": "markdown",
   "metadata": {},
   "source": [
    "### Mỗi cột hiện đang có kiểu dữ liệu gì? Có cột nào có kiểu dữ liệu chưa phù hợp để có thể xử lý tiếp không?"
   ]
  },
  {
   "cell_type": "markdown",
   "metadata": {},
   "source": [
    "Giờ ta xem qua kiểu dữ liệu của các cột nhằm phát hiện cột có kiểu dữ liệu chưa phù hợp"
   ]
  },
  {
   "cell_type": "code",
   "execution_count": 78,
   "metadata": {},
   "outputs": [
    {
     "data": {
      "text/plain": [
       "Date                 object\n",
       "Country              object\n",
       "Total Cases           int64\n",
       "New Cases           float64\n",
       "Total Deaths        float64\n",
       "New Deaths          float64\n",
       "Total Recovered     float64\n",
       "New Recovered       float64\n",
       "Active Cases        float64\n",
       "Serious Critical    float64\n",
       "Tot Cases/1M pop    float64\n",
       "Deaths/1M pop       float64\n",
       "Total Tests         float64\n",
       "Tests/1M pop        float64\n",
       "Population          float64\n",
       "dtype: object"
      ]
     },
     "execution_count": 78,
     "metadata": {},
     "output_type": "execute_result"
    }
   ],
   "source": [
    "data.dtypes"
   ]
  },
  {
   "cell_type": "markdown",
   "metadata": {},
   "source": [
    "Ta cần chuyển cột `Date` sang kiểu dữ liệu `datetime`"
   ]
  },
  {
   "cell_type": "markdown",
   "metadata": {},
   "source": [
    "---"
   ]
  },
  {
   "cell_type": "markdown",
   "metadata": {},
   "source": [
    "## Tiền Xử Lý Dữ Liệu"
   ]
  },
  {
   "cell_type": "markdown",
   "metadata": {},
   "source": [
    "Ở Lab1, ta sẽ chỉ làm trên dữ liệu từ ngày **21/4/2022-28/4/20022**\n",
    "\n",
    "Ta cần chuyển cột `Date`  về kiểu dữ liệu `datetime`.\n",
    "\n",
    "Bên cạnh đó, từ dữ liệu gốc, ta lọc những dòng có ngày từ ngày **21/4/2022**  đến **28/4/20022**, lưu vào dataframe `filtered_covid_data`"
   ]
  },
  {
   "cell_type": "code",
   "execution_count": 79,
   "metadata": {},
   "outputs": [
    {
     "data": {
      "text/html": [
       "<div>\n",
       "<style scoped>\n",
       "    .dataframe tbody tr th:only-of-type {\n",
       "        vertical-align: middle;\n",
       "    }\n",
       "\n",
       "    .dataframe tbody tr th {\n",
       "        vertical-align: top;\n",
       "    }\n",
       "\n",
       "    .dataframe thead th {\n",
       "        text-align: right;\n",
       "    }\n",
       "</style>\n",
       "<table border=\"1\" class=\"dataframe\">\n",
       "  <thead>\n",
       "    <tr style=\"text-align: right;\">\n",
       "      <th></th>\n",
       "      <th>Date</th>\n",
       "      <th>Country</th>\n",
       "      <th>Total Cases</th>\n",
       "      <th>New Cases</th>\n",
       "      <th>Total Deaths</th>\n",
       "      <th>New Deaths</th>\n",
       "      <th>Total Recovered</th>\n",
       "      <th>New Recovered</th>\n",
       "      <th>Active Cases</th>\n",
       "      <th>Serious Critical</th>\n",
       "      <th>Tot Cases/1M pop</th>\n",
       "      <th>Deaths/1M pop</th>\n",
       "      <th>Total Tests</th>\n",
       "      <th>Tests/1M pop</th>\n",
       "      <th>Population</th>\n",
       "    </tr>\n",
       "  </thead>\n",
       "  <tbody>\n",
       "    <tr>\n",
       "      <th>0</th>\n",
       "      <td>2022-04-21</td>\n",
       "      <td>China</td>\n",
       "      <td>193953</td>\n",
       "      <td>2841.0</td>\n",
       "      <td>4663.0</td>\n",
       "      <td>8.0</td>\n",
       "      <td>157869.0</td>\n",
       "      <td>2185.0</td>\n",
       "      <td>31421.0</td>\n",
       "      <td>223.0</td>\n",
       "      <td>135.0</td>\n",
       "      <td>3.0</td>\n",
       "      <td>160000000.0</td>\n",
       "      <td>111163.0</td>\n",
       "      <td>1.439324e+09</td>\n",
       "    </tr>\n",
       "    <tr>\n",
       "      <th>1</th>\n",
       "      <td>2022-04-21</td>\n",
       "      <td>USA</td>\n",
       "      <td>82553058</td>\n",
       "      <td>45204.0</td>\n",
       "      <td>1017609.0</td>\n",
       "      <td>299.0</td>\n",
       "      <td>80355389.0</td>\n",
       "      <td>34592.0</td>\n",
       "      <td>1180060.0</td>\n",
       "      <td>1492.0</td>\n",
       "      <td>246798.0</td>\n",
       "      <td>3042.0</td>\n",
       "      <td>999047824.0</td>\n",
       "      <td>2986727.0</td>\n",
       "      <td>3.344959e+08</td>\n",
       "    </tr>\n",
       "    <tr>\n",
       "      <th>2</th>\n",
       "      <td>2022-04-21</td>\n",
       "      <td>India</td>\n",
       "      <td>43050877</td>\n",
       "      <td>903.0</td>\n",
       "      <td>522095.0</td>\n",
       "      <td>33.0</td>\n",
       "      <td>42514479.0</td>\n",
       "      <td>NaN</td>\n",
       "      <td>14303.0</td>\n",
       "      <td>698.0</td>\n",
       "      <td>30654.0</td>\n",
       "      <td>372.0</td>\n",
       "      <td>833377052.0</td>\n",
       "      <td>593395.0</td>\n",
       "      <td>1.404421e+09</td>\n",
       "    </tr>\n",
       "    <tr>\n",
       "      <th>3</th>\n",
       "      <td>2022-04-21</td>\n",
       "      <td>Brazil</td>\n",
       "      <td>30330629</td>\n",
       "      <td>18660.0</td>\n",
       "      <td>662556.0</td>\n",
       "      <td>86.0</td>\n",
       "      <td>29353398.0</td>\n",
       "      <td>12596.0</td>\n",
       "      <td>314675.0</td>\n",
       "      <td>8318.0</td>\n",
       "      <td>140890.0</td>\n",
       "      <td>3078.0</td>\n",
       "      <td>63776166.0</td>\n",
       "      <td>296249.0</td>\n",
       "      <td>2.152787e+08</td>\n",
       "    </tr>\n",
       "    <tr>\n",
       "      <th>4</th>\n",
       "      <td>2022-04-21</td>\n",
       "      <td>France</td>\n",
       "      <td>28076017</td>\n",
       "      <td>104007.0</td>\n",
       "      <td>144799.0</td>\n",
       "      <td>185.0</td>\n",
       "      <td>25618858.0</td>\n",
       "      <td>148402.0</td>\n",
       "      <td>2312360.0</td>\n",
       "      <td>1677.0</td>\n",
       "      <td>428423.0</td>\n",
       "      <td>2210.0</td>\n",
       "      <td>266484045.0</td>\n",
       "      <td>4066382.0</td>\n",
       "      <td>6.553345e+07</td>\n",
       "    </tr>\n",
       "  </tbody>\n",
       "</table>\n",
       "</div>"
      ],
      "text/plain": [
       "        Date Country  Total Cases  New Cases  Total Deaths  New Deaths  \\\n",
       "0 2022-04-21   China       193953     2841.0        4663.0         8.0   \n",
       "1 2022-04-21     USA     82553058    45204.0     1017609.0       299.0   \n",
       "2 2022-04-21   India     43050877      903.0      522095.0        33.0   \n",
       "3 2022-04-21  Brazil     30330629    18660.0      662556.0        86.0   \n",
       "4 2022-04-21  France     28076017   104007.0      144799.0       185.0   \n",
       "\n",
       "   Total Recovered  New Recovered  Active Cases  Serious Critical  \\\n",
       "0         157869.0         2185.0       31421.0             223.0   \n",
       "1       80355389.0        34592.0     1180060.0            1492.0   \n",
       "2       42514479.0            NaN       14303.0             698.0   \n",
       "3       29353398.0        12596.0      314675.0            8318.0   \n",
       "4       25618858.0       148402.0     2312360.0            1677.0   \n",
       "\n",
       "   Tot Cases/1M pop  Deaths/1M pop  Total Tests  Tests/1M pop    Population  \n",
       "0             135.0            3.0  160000000.0      111163.0  1.439324e+09  \n",
       "1          246798.0         3042.0  999047824.0     2986727.0  3.344959e+08  \n",
       "2           30654.0          372.0  833377052.0      593395.0  1.404421e+09  \n",
       "3          140890.0         3078.0   63776166.0      296249.0  2.152787e+08  \n",
       "4          428423.0         2210.0  266484045.0     4066382.0  6.553345e+07  "
      ]
     },
     "execution_count": 79,
     "metadata": {},
     "output_type": "execute_result"
    }
   ],
   "source": [
    "data['Date'] = pd.to_datetime(data['Date'], format='%Y-%m-%d')\n",
    "\n",
    "begin_date = pd.Timestamp('2022-04-21')\n",
    "end_date = pd.Timestamp('2022-04-21')\n",
    "\n",
    "filtered_covid_data = data[(data.Date >= begin_date) & (data.Date <= begin_date)]\n",
    "filtered_covid_data.head()"
   ]
  },
  {
   "cell_type": "markdown",
   "metadata": {},
   "source": [
    "**Ở các bước tiếp theo ta sẽ khám phá dữ liệu trên tập dữ liệu mới (`filtered_covid_data`)**"
   ]
  },
  {
   "cell_type": "markdown",
   "metadata": {},
   "source": [
    "---"
   ]
  },
  {
   "cell_type": "markdown",
   "metadata": {},
   "source": [
    "## Khám Phá Dữ Liệu (tiếp tục)"
   ]
  },
  {
   "cell_type": "markdown",
   "metadata": {},
   "source": [
    "### Sự phân bố giá trị của mỗi cột"
   ]
  },
  {
   "cell_type": "markdown",
   "metadata": {},
   "source": [
    "#### Với mỗi cột có kiểu dữ liệu dạng numeric, các giá trị được phân bố như thế nào?"
   ]
  },
  {
   "cell_type": "markdown",
   "metadata": {},
   "source": [
    "Với các cột có kiểu dữ liệu số, ta tính:\n",
    "\n",
    "- Tỉ lệ % (từ 0 đến 100) các giá trị thiếu\n",
    "- Giá trị min\n",
    "- Giá trị lower quartile (phân vị 25)\n",
    "- Giá trị median (phân vị 50)\n",
    "- Giá trị upper quartile (phân vị 75)\n",
    "- Giá trị max"
   ]
  },
  {
   "cell_type": "code",
   "execution_count": 80,
   "metadata": {},
   "outputs": [
    {
     "data": {
      "text/html": [
       "<div>\n",
       "<style scoped>\n",
       "    .dataframe tbody tr th:only-of-type {\n",
       "        vertical-align: middle;\n",
       "    }\n",
       "\n",
       "    .dataframe tbody tr th {\n",
       "        vertical-align: top;\n",
       "    }\n",
       "\n",
       "    .dataframe thead th {\n",
       "        text-align: right;\n",
       "    }\n",
       "</style>\n",
       "<table border=\"1\" class=\"dataframe\">\n",
       "  <thead>\n",
       "    <tr style=\"text-align: right;\">\n",
       "      <th></th>\n",
       "      <th>Total Cases</th>\n",
       "      <th>New Cases</th>\n",
       "      <th>Total Deaths</th>\n",
       "      <th>New Deaths</th>\n",
       "      <th>Total Recovered</th>\n",
       "      <th>New Recovered</th>\n",
       "      <th>Active Cases</th>\n",
       "      <th>Serious Critical</th>\n",
       "      <th>Tot Cases/1M pop</th>\n",
       "      <th>Deaths/1M pop</th>\n",
       "      <th>Total Tests</th>\n",
       "      <th>Tests/1M pop</th>\n",
       "      <th>Population</th>\n",
       "    </tr>\n",
       "  </thead>\n",
       "  <tbody>\n",
       "    <tr>\n",
       "      <th>missing_percentage</th>\n",
       "      <td>0.0</td>\n",
       "      <td>41.7</td>\n",
       "      <td>3.9</td>\n",
       "      <td>68.9</td>\n",
       "      <td>6.6</td>\n",
       "      <td>50.9</td>\n",
       "      <td>6.6</td>\n",
       "      <td>33.8</td>\n",
       "      <td>0.9</td>\n",
       "      <td>4.8</td>\n",
       "      <td>7.0</td>\n",
       "      <td>7.0</td>\n",
       "      <td>9.000000e-01</td>\n",
       "    </tr>\n",
       "    <tr>\n",
       "      <th>min</th>\n",
       "      <td>1.0</td>\n",
       "      <td>1.0</td>\n",
       "      <td>1.0</td>\n",
       "      <td>1.0</td>\n",
       "      <td>1.0</td>\n",
       "      <td>1.0</td>\n",
       "      <td>0.0</td>\n",
       "      <td>1.0</td>\n",
       "      <td>9.0</td>\n",
       "      <td>2.0</td>\n",
       "      <td>5117.0</td>\n",
       "      <td>5099.0</td>\n",
       "      <td>8.050000e+02</td>\n",
       "    </tr>\n",
       "    <tr>\n",
       "      <th>lower_quartile</th>\n",
       "      <td>22581.5</td>\n",
       "      <td>28.0</td>\n",
       "      <td>222.5</td>\n",
       "      <td>1.0</td>\n",
       "      <td>13872.0</td>\n",
       "      <td>22.0</td>\n",
       "      <td>212.0</td>\n",
       "      <td>5.0</td>\n",
       "      <td>11257.0</td>\n",
       "      <td>172.0</td>\n",
       "      <td>347296.8</td>\n",
       "      <td>164740.8</td>\n",
       "      <td>5.599682e+05</td>\n",
       "    </tr>\n",
       "    <tr>\n",
       "      <th>median</th>\n",
       "      <td>163079.0</td>\n",
       "      <td>181.0</td>\n",
       "      <td>2201.0</td>\n",
       "      <td>10.0</td>\n",
       "      <td>131100.0</td>\n",
       "      <td>243.0</td>\n",
       "      <td>2650.0</td>\n",
       "      <td>20.0</td>\n",
       "      <td>88841.0</td>\n",
       "      <td>765.0</td>\n",
       "      <td>2120364.5</td>\n",
       "      <td>772995.5</td>\n",
       "      <td>5.795650e+06</td>\n",
       "    </tr>\n",
       "    <tr>\n",
       "      <th>upper_quartile</th>\n",
       "      <td>1063337.5</td>\n",
       "      <td>1301.0</td>\n",
       "      <td>13932.0</td>\n",
       "      <td>37.0</td>\n",
       "      <td>959289.0</td>\n",
       "      <td>2140.8</td>\n",
       "      <td>30915.0</td>\n",
       "      <td>179.0</td>\n",
       "      <td>233495.5</td>\n",
       "      <td>1844.0</td>\n",
       "      <td>12237504.0</td>\n",
       "      <td>2212139.0</td>\n",
       "      <td>2.184432e+07</td>\n",
       "    </tr>\n",
       "    <tr>\n",
       "      <th>max</th>\n",
       "      <td>82553058.0</td>\n",
       "      <td>139849.0</td>\n",
       "      <td>1017609.0</td>\n",
       "      <td>646.0</td>\n",
       "      <td>80355389.0</td>\n",
       "      <td>243700.0</td>\n",
       "      <td>2928053.0</td>\n",
       "      <td>8318.0</td>\n",
       "      <td>704474.0</td>\n",
       "      <td>6294.0</td>\n",
       "      <td>999047824.0</td>\n",
       "      <td>21807666.0</td>\n",
       "      <td>1.439324e+09</td>\n",
       "    </tr>\n",
       "  </tbody>\n",
       "</table>\n",
       "</div>"
      ],
      "text/plain": [
       "                    Total Cases  New Cases  Total Deaths  New Deaths  \\\n",
       "missing_percentage          0.0       41.7           3.9        68.9   \n",
       "min                         1.0        1.0           1.0         1.0   \n",
       "lower_quartile          22581.5       28.0         222.5         1.0   \n",
       "median                 163079.0      181.0        2201.0        10.0   \n",
       "upper_quartile        1063337.5     1301.0       13932.0        37.0   \n",
       "max                  82553058.0   139849.0     1017609.0       646.0   \n",
       "\n",
       "                    Total Recovered  New Recovered  Active Cases  \\\n",
       "missing_percentage              6.6           50.9           6.6   \n",
       "min                             1.0            1.0           0.0   \n",
       "lower_quartile              13872.0           22.0         212.0   \n",
       "median                     131100.0          243.0        2650.0   \n",
       "upper_quartile             959289.0         2140.8       30915.0   \n",
       "max                      80355389.0       243700.0     2928053.0   \n",
       "\n",
       "                    Serious Critical  Tot Cases/1M pop  Deaths/1M pop  \\\n",
       "missing_percentage              33.8               0.9            4.8   \n",
       "min                              1.0               9.0            2.0   \n",
       "lower_quartile                   5.0           11257.0          172.0   \n",
       "median                          20.0           88841.0          765.0   \n",
       "upper_quartile                 179.0          233495.5         1844.0   \n",
       "max                           8318.0          704474.0         6294.0   \n",
       "\n",
       "                    Total Tests  Tests/1M pop    Population  \n",
       "missing_percentage          7.0           7.0  9.000000e-01  \n",
       "min                      5117.0        5099.0  8.050000e+02  \n",
       "lower_quartile         347296.8      164740.8  5.599682e+05  \n",
       "median                2120364.5      772995.5  5.795650e+06  \n",
       "upper_quartile       12237504.0     2212139.0  2.184432e+07  \n",
       "max                 999047824.0    21807666.0  1.439324e+09  "
      ]
     },
     "execution_count": 80,
     "metadata": {},
     "output_type": "execute_result"
    }
   ],
   "source": [
    "pd.set_option(\"max_colwidth\", 300)\n",
    "pd.set_option('display.max_columns', None)\n",
    "\n",
    "nume_cols = ['Total Cases', 'New Cases', 'Total Deaths', 'New Deaths', 'Total Recovered',\n",
    "                'New Recovered', 'Active Cases', 'Serious Critical', 'Tot Cases/1M pop',\n",
    "                'Deaths/1M pop', 'Total Tests', 'Tests/1M pop', 'Population']\n",
    "\n",
    "index_nume_col =[\"missing_percentage\", \"min\", \"lower_quartile\", \"median\", \"upper_quartile\", \"max\"]\n",
    "\n",
    "data_nume_col= np.array([\n",
    "    (filtered_covid_data[nume_cols].isna().mean()*100).round(1),\n",
    "    filtered_covid_data[nume_cols].min().round(1),\n",
    "    filtered_covid_data[nume_cols].quantile(.25).round(1),\n",
    "    filtered_covid_data[nume_cols].median(),\n",
    "    filtered_covid_data[nume_cols].quantile(.75).round(1),\n",
    "    filtered_covid_data[nume_cols].max().round(1)]\n",
    ")\n",
    "nume_col_info_df = pd.DataFrame(data = data_nume_col, columns = nume_cols, index= index_nume_col)\n",
    "nume_col_info_df"
   ]
  },
  {
   "cell_type": "markdown",
   "metadata": {},
   "source": [
    "**Nhận xét**:"
   ]
  },
  {
   "cell_type": "markdown",
   "metadata": {},
   "source": [
    "#### Với mỗi cột có kiểu dữ liệu dạng categorical, các giá trị được phân bố như thế nào?"
   ]
  },
  {
   "cell_type": "markdown",
   "metadata": {},
   "source": [
    "Với các cột có kiểu dữ liệu dạng `categorical`, ta cần tính:\n",
    "\n",
    "- Tỉ lệ % (từ 0 đến 100) các giá trị thiếu\n",
    "- Số lượng các giá trị khác nhau (không xét giá trị thiếu):\n",
    "- Tỉ lệ % (từ 0 đến 100) của mỗi giá trị được sort theo tỉ lệ % giảm dần (không xét giá trị thiếu)"
   ]
  },
  {
   "cell_type": "code",
   "execution_count": 81,
   "metadata": {},
   "outputs": [
    {
     "data": {
      "text/html": [
       "<div>\n",
       "<style scoped>\n",
       "    .dataframe tbody tr th:only-of-type {\n",
       "        vertical-align: middle;\n",
       "    }\n",
       "\n",
       "    .dataframe tbody tr th {\n",
       "        vertical-align: top;\n",
       "    }\n",
       "\n",
       "    .dataframe thead th {\n",
       "        text-align: right;\n",
       "    }\n",
       "</style>\n",
       "<table border=\"1\" class=\"dataframe\">\n",
       "  <thead>\n",
       "    <tr style=\"text-align: right;\">\n",
       "      <th></th>\n",
       "      <th>Country</th>\n",
       "    </tr>\n",
       "  </thead>\n",
       "  <tbody>\n",
       "    <tr>\n",
       "      <th>missing_percentage</th>\n",
       "      <td>0.0</td>\n",
       "    </tr>\n",
       "    <tr>\n",
       "      <th>num_values</th>\n",
       "      <td>228</td>\n",
       "    </tr>\n",
       "    <tr>\n",
       "      <th>value_percentages</th>\n",
       "      <td>{'Cayman Islands': 0.43859649122807015, 'Lebanon': 0.43859649122807015, 'Serbia': 0.43859649122807015, 'Gibraltar': 0.43859649122807015, 'Saint Kitts and Nevis': 0.43859649122807015, 'Western Sahara': 0.43859649122807015, 'Canada': 0.43859649122807015, 'North Macedonia': 0.43859649122807015, 'Ph...</td>\n",
       "    </tr>\n",
       "  </tbody>\n",
       "</table>\n",
       "</div>"
      ],
      "text/plain": [
       "                                                                                                                                                                                                                                                                                                                        Country\n",
       "missing_percentage                                                                                                                                                                                                                                                                                                          0.0\n",
       "num_values                                                                                                                                                                                                                                                                                                                  228\n",
       "value_percentages   {'Cayman Islands': 0.43859649122807015, 'Lebanon': 0.43859649122807015, 'Serbia': 0.43859649122807015, 'Gibraltar': 0.43859649122807015, 'Saint Kitts and Nevis': 0.43859649122807015, 'Western Sahara': 0.43859649122807015, 'Canada': 0.43859649122807015, 'North Macedonia': 0.43859649122807015, 'Ph..."
      ]
     },
     "execution_count": 81,
     "metadata": {},
     "output_type": "execute_result"
    }
   ],
   "source": [
    "cate_cols = ['Country']\n",
    "index_cate_cols = [\"missing_percentage\", \"num_values\", \"value_percentages\"]\n",
    "\n",
    "\n",
    "def count_value_percentages(data):\n",
    "    return (data.value_counts()/data.count() *100).to_dict()\n",
    "\n",
    "\n",
    "data_cate_col= np.array([\n",
    "    (filtered_covid_data[cate_cols].isna().mean() *100),\n",
    "    filtered_covid_data[cate_cols].nunique(),\n",
    "    filtered_covid_data[cate_cols].agg(count_value_percentages)\n",
    "])\n",
    "\n",
    "cate_col_info_df = pd.DataFrame(data = data_cate_col, columns = cate_cols, index= index_cate_cols)\n",
    "cate_col_info_df"
   ]
  },
  {
   "cell_type": "markdown",
   "metadata": {},
   "source": [
    "**Nhận xét**:"
   ]
  },
  {
   "cell_type": "markdown",
   "metadata": {},
   "source": [
    "---"
   ]
  },
  {
   "cell_type": "markdown",
   "metadata": {},
   "source": [
    "## Tiền xử lý dữ liệu"
   ]
  },
  {
   "cell_type": "markdown",
   "metadata": {},
   "source": [
    "Ta nhận thấy cột `New Cases`, `New Recovered`, `New Deaths` có tỉ lệ thiếu cao. Ta biết được rằng, những ô nào không có giá trị tức là bằng 0 (0 ca nhiễm/hồi phục/chết trong ngàyngày), Vậy nên ta sẽ điền 0 vào các giá trị thiếu này"
   ]
  },
  {
   "cell_type": "code",
   "execution_count": 82,
   "metadata": {},
   "outputs": [],
   "source": [
    "filtered_covid_data[['New Cases', 'New Recovered',  'New Deaths']] = \\\n",
    "    filtered_covid_data[['New Cases', 'New Recovered',  'New Deaths']].replace(np.nan, 0)"
   ]
  },
  {
   "cell_type": "code",
   "execution_count": 84,
   "metadata": {},
   "outputs": [
    {
     "name": "stdout",
     "output_type": "stream",
     "text": [
      "<class 'pandas.core.frame.DataFrame'>\n",
      "Int64Index: 228 entries, 0 to 227\n",
      "Data columns (total 15 columns):\n",
      " #   Column            Non-Null Count  Dtype         \n",
      "---  ------            --------------  -----         \n",
      " 0   Date              228 non-null    datetime64[ns]\n",
      " 1   Country           228 non-null    object        \n",
      " 2   Total Cases       228 non-null    int64         \n",
      " 3   New Cases         228 non-null    float64       \n",
      " 4   Total Deaths      219 non-null    float64       \n",
      " 5   New Deaths        228 non-null    float64       \n",
      " 6   Total Recovered   213 non-null    float64       \n",
      " 7   New Recovered     228 non-null    float64       \n",
      " 8   Active Cases      213 non-null    float64       \n",
      " 9   Serious Critical  151 non-null    float64       \n",
      " 10  Tot Cases/1M pop  226 non-null    float64       \n",
      " 11  Deaths/1M pop     217 non-null    float64       \n",
      " 12  Total Tests       212 non-null    float64       \n",
      " 13  Tests/1M pop      212 non-null    float64       \n",
      " 14  Population        226 non-null    float64       \n",
      "dtypes: datetime64[ns](1), float64(12), int64(1), object(1)\n",
      "memory usage: 28.5+ KB\n"
     ]
    }
   ],
   "source": [
    "filtered_covid_data.info()"
   ]
  },
  {
   "cell_type": "markdown",
   "metadata": {},
   "source": [
    "Hiện tại có một số cột đang thiết dữ liệu, những cột đó đang chứa kiểu dữ liệu số, ta tiến hành điền mean vào giá trị thiếu"
   ]
  },
  {
   "cell_type": "code",
   "execution_count": 85,
   "metadata": {},
   "outputs": [
    {
     "name": "stdout",
     "output_type": "stream",
     "text": [
      "<class 'pandas.core.frame.DataFrame'>\n",
      "Int64Index: 228 entries, 0 to 227\n",
      "Data columns (total 15 columns):\n",
      " #   Column            Non-Null Count  Dtype         \n",
      "---  ------            --------------  -----         \n",
      " 0   Date              228 non-null    datetime64[ns]\n",
      " 1   Country           228 non-null    object        \n",
      " 2   Total Cases       228 non-null    int64         \n",
      " 3   New Cases         228 non-null    float64       \n",
      " 4   Total Deaths      228 non-null    float64       \n",
      " 5   New Deaths        228 non-null    float64       \n",
      " 6   Total Recovered   228 non-null    float64       \n",
      " 7   New Recovered     228 non-null    float64       \n",
      " 8   Active Cases      228 non-null    float64       \n",
      " 9   Serious Critical  228 non-null    float64       \n",
      " 10  Tot Cases/1M pop  228 non-null    float64       \n",
      " 11  Deaths/1M pop     228 non-null    float64       \n",
      " 12  Total Tests       228 non-null    float64       \n",
      " 13  Tests/1M pop      228 non-null    float64       \n",
      " 14  Population        228 non-null    float64       \n",
      "dtypes: datetime64[ns](1), float64(12), int64(1), object(1)\n",
      "memory usage: 28.5+ KB\n"
     ]
    }
   ],
   "source": [
    "miss_value_cols = ['Total Deaths', 'Total Recovered', 'Active Cases', 'Serious Critical',\n",
    "                    'Tot Cases/1M pop', 'Deaths/1M pop', 'Total Tests', 'Tests/1M pop', 'Population']\n",
    "\n",
    "def fill_mean_value(col):\n",
    "    mean_value = int(np.mean(col, axis = 0))\n",
    "    col.replace(np.nan, mean_value, inplace=True)\n",
    "    return col\n",
    "\n",
    "filtered_covid_data[miss_value_cols] = filtered_covid_data[miss_value_cols].apply(fill_mean_value)\n",
    "filtered_covid_data.info()"
   ]
  },
  {
   "cell_type": "markdown",
   "metadata": {},
   "source": [
    "Sau cùng ta lưu dữ liệu đã qua tiền xử lý vào file `preprocessed_covid_data`"
   ]
  },
  {
   "cell_type": "code",
   "execution_count": 86,
   "metadata": {},
   "outputs": [],
   "source": [
    "filtered_covid_data.to_csv('data/preprocessed_covid_data.csv')"
   ]
  },
  {
   "cell_type": "markdown",
   "metadata": {},
   "source": [
    "---"
   ]
  },
  {
   "cell_type": "markdown",
   "metadata": {},
   "source": [
    "## Đưa ra câu hỏi ý nghĩa cần trả lời"
   ]
  }
 ],
 "metadata": {
  "interpreter": {
   "hash": "4523760acd2e98ea694316eb0cd84f0969f99d1a04363ebd38b8ee985ea4f03e"
  },
  "kernelspec": {
   "display_name": "Python 3.8.8 ('min_ds-env')",
   "language": "python",
   "name": "python3"
  },
  "language_info": {
   "codemirror_mode": {
    "name": "ipython",
    "version": 3
   },
   "file_extension": ".py",
   "mimetype": "text/x-python",
   "name": "python",
   "nbconvert_exporter": "python",
   "pygments_lexer": "ipython3",
   "version": "3.8.8"
  },
  "orig_nbformat": 4
 },
 "nbformat": 4,
 "nbformat_minor": 2
}
